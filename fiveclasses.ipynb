{
  "nbformat": 4,
  "nbformat_minor": 0,
  "metadata": {
    "colab": {
      "name": "fiveclasses.ipynb",
      "provenance": [],
      "collapsed_sections": []
    },
    "kernelspec": {
      "name": "python3",
      "display_name": "Python 3"
    },
    "language_info": {
      "name": "python"
    },
    "accelerator": "GPU"
  },
  "cells": [
    {
      "cell_type": "code",
      "metadata": {
        "id": "Br7H8WbSpcXu"
      },
      "source": [
        "import keras\n",
        "#from keras.datasets import mnist #import Data\n",
        "from sklearn.model_selection import train_test_split\n",
        "from keras.models import Sequential #preparing layres position\n",
        "from keras.layers import Dense, Dropout, Flatten, Activation  #3 layers\n",
        "from keras.layers import Conv2D,MaxPooling2D,GRU,Conv1D,MaxPooling1D #convolution & pooling\n",
        "from tensorflow.keras import utils as np_utils\n",
        "import numpy as np\n",
        "np.set_printoptions(threshold=1000,suppress=True)\n",
        "import pandas as pd\n",
        "import seaborn as sns\n",
        "import matplotlib.pyplot as plt #graph 2D\n",
        "import warnings\n",
        "warnings.filterwarnings('ignore')"
      ],
      "execution_count": null,
      "outputs": []
    },
    {
      "cell_type": "markdown",
      "metadata": {
        "id": "h7eFalyNGGgh"
      },
      "source": [
        "#Preprocessing"
      ]
    },
    {
      "cell_type": "code",
      "metadata": {
        "colab": {
          "base_uri": "https://localhost:8080/",
          "height": 270
        },
        "id": "v9UBkkvcqGbC",
        "outputId": "eb55f4c8-a028-47cd-fee1-5368ba4354ac"
      },
      "source": [
        "epilepsie_data=pd.read_csv('data.csv',sep=',',header=0)\n",
        "epilepsie_data.head()"
      ],
      "execution_count": null,
      "outputs": [
        {
          "output_type": "execute_result",
          "data": {
            "text/html": [
              "<div>\n",
              "<style scoped>\n",
              "    .dataframe tbody tr th:only-of-type {\n",
              "        vertical-align: middle;\n",
              "    }\n",
              "\n",
              "    .dataframe tbody tr th {\n",
              "        vertical-align: top;\n",
              "    }\n",
              "\n",
              "    .dataframe thead th {\n",
              "        text-align: right;\n",
              "    }\n",
              "</style>\n",
              "<table border=\"1\" class=\"dataframe\">\n",
              "  <thead>\n",
              "    <tr style=\"text-align: right;\">\n",
              "      <th></th>\n",
              "      <th>Unnamed: 0</th>\n",
              "      <th>X1</th>\n",
              "      <th>X2</th>\n",
              "      <th>X3</th>\n",
              "      <th>X4</th>\n",
              "      <th>X5</th>\n",
              "      <th>X6</th>\n",
              "      <th>X7</th>\n",
              "      <th>X8</th>\n",
              "      <th>X9</th>\n",
              "      <th>X10</th>\n",
              "      <th>X11</th>\n",
              "      <th>X12</th>\n",
              "      <th>X13</th>\n",
              "      <th>X14</th>\n",
              "      <th>X15</th>\n",
              "      <th>X16</th>\n",
              "      <th>X17</th>\n",
              "      <th>X18</th>\n",
              "      <th>X19</th>\n",
              "      <th>X20</th>\n",
              "      <th>X21</th>\n",
              "      <th>X22</th>\n",
              "      <th>X23</th>\n",
              "      <th>X24</th>\n",
              "      <th>X25</th>\n",
              "      <th>X26</th>\n",
              "      <th>X27</th>\n",
              "      <th>X28</th>\n",
              "      <th>X29</th>\n",
              "      <th>X30</th>\n",
              "      <th>X31</th>\n",
              "      <th>X32</th>\n",
              "      <th>X33</th>\n",
              "      <th>X34</th>\n",
              "      <th>X35</th>\n",
              "      <th>X36</th>\n",
              "      <th>X37</th>\n",
              "      <th>X38</th>\n",
              "      <th>X39</th>\n",
              "      <th>...</th>\n",
              "      <th>X140</th>\n",
              "      <th>X141</th>\n",
              "      <th>X142</th>\n",
              "      <th>X143</th>\n",
              "      <th>X144</th>\n",
              "      <th>X145</th>\n",
              "      <th>X146</th>\n",
              "      <th>X147</th>\n",
              "      <th>X148</th>\n",
              "      <th>X149</th>\n",
              "      <th>X150</th>\n",
              "      <th>X151</th>\n",
              "      <th>X152</th>\n",
              "      <th>X153</th>\n",
              "      <th>X154</th>\n",
              "      <th>X155</th>\n",
              "      <th>X156</th>\n",
              "      <th>X157</th>\n",
              "      <th>X158</th>\n",
              "      <th>X159</th>\n",
              "      <th>X160</th>\n",
              "      <th>X161</th>\n",
              "      <th>X162</th>\n",
              "      <th>X163</th>\n",
              "      <th>X164</th>\n",
              "      <th>X165</th>\n",
              "      <th>X166</th>\n",
              "      <th>X167</th>\n",
              "      <th>X168</th>\n",
              "      <th>X169</th>\n",
              "      <th>X170</th>\n",
              "      <th>X171</th>\n",
              "      <th>X172</th>\n",
              "      <th>X173</th>\n",
              "      <th>X174</th>\n",
              "      <th>X175</th>\n",
              "      <th>X176</th>\n",
              "      <th>X177</th>\n",
              "      <th>X178</th>\n",
              "      <th>y</th>\n",
              "    </tr>\n",
              "  </thead>\n",
              "  <tbody>\n",
              "    <tr>\n",
              "      <th>0</th>\n",
              "      <td>X21.V1.791</td>\n",
              "      <td>135</td>\n",
              "      <td>190</td>\n",
              "      <td>229</td>\n",
              "      <td>223</td>\n",
              "      <td>192</td>\n",
              "      <td>125</td>\n",
              "      <td>55</td>\n",
              "      <td>-9</td>\n",
              "      <td>-33</td>\n",
              "      <td>-38</td>\n",
              "      <td>-10</td>\n",
              "      <td>35</td>\n",
              "      <td>64</td>\n",
              "      <td>113</td>\n",
              "      <td>152</td>\n",
              "      <td>164</td>\n",
              "      <td>127</td>\n",
              "      <td>50</td>\n",
              "      <td>-47</td>\n",
              "      <td>-121</td>\n",
              "      <td>-138</td>\n",
              "      <td>-125</td>\n",
              "      <td>-101</td>\n",
              "      <td>-50</td>\n",
              "      <td>11</td>\n",
              "      <td>39</td>\n",
              "      <td>24</td>\n",
              "      <td>48</td>\n",
              "      <td>64</td>\n",
              "      <td>46</td>\n",
              "      <td>13</td>\n",
              "      <td>-19</td>\n",
              "      <td>-61</td>\n",
              "      <td>-96</td>\n",
              "      <td>-130</td>\n",
              "      <td>-132</td>\n",
              "      <td>-116</td>\n",
              "      <td>-115</td>\n",
              "      <td>-71</td>\n",
              "      <td>...</td>\n",
              "      <td>54</td>\n",
              "      <td>90</td>\n",
              "      <td>111</td>\n",
              "      <td>107</td>\n",
              "      <td>64</td>\n",
              "      <td>32</td>\n",
              "      <td>18</td>\n",
              "      <td>-25</td>\n",
              "      <td>-69</td>\n",
              "      <td>-65</td>\n",
              "      <td>-44</td>\n",
              "      <td>-33</td>\n",
              "      <td>-57</td>\n",
              "      <td>-88</td>\n",
              "      <td>-114</td>\n",
              "      <td>-130</td>\n",
              "      <td>-114</td>\n",
              "      <td>-83</td>\n",
              "      <td>-53</td>\n",
              "      <td>-79</td>\n",
              "      <td>-72</td>\n",
              "      <td>-85</td>\n",
              "      <td>-109</td>\n",
              "      <td>-98</td>\n",
              "      <td>-72</td>\n",
              "      <td>-65</td>\n",
              "      <td>-63</td>\n",
              "      <td>-11</td>\n",
              "      <td>10</td>\n",
              "      <td>8</td>\n",
              "      <td>-17</td>\n",
              "      <td>-15</td>\n",
              "      <td>-31</td>\n",
              "      <td>-77</td>\n",
              "      <td>-103</td>\n",
              "      <td>-127</td>\n",
              "      <td>-116</td>\n",
              "      <td>-83</td>\n",
              "      <td>-51</td>\n",
              "      <td>4</td>\n",
              "    </tr>\n",
              "    <tr>\n",
              "      <th>1</th>\n",
              "      <td>X15.V1.924</td>\n",
              "      <td>386</td>\n",
              "      <td>382</td>\n",
              "      <td>356</td>\n",
              "      <td>331</td>\n",
              "      <td>320</td>\n",
              "      <td>315</td>\n",
              "      <td>307</td>\n",
              "      <td>272</td>\n",
              "      <td>244</td>\n",
              "      <td>232</td>\n",
              "      <td>237</td>\n",
              "      <td>258</td>\n",
              "      <td>212</td>\n",
              "      <td>2</td>\n",
              "      <td>-267</td>\n",
              "      <td>-605</td>\n",
              "      <td>-850</td>\n",
              "      <td>-1001</td>\n",
              "      <td>-1109</td>\n",
              "      <td>-1090</td>\n",
              "      <td>-967</td>\n",
              "      <td>-746</td>\n",
              "      <td>-464</td>\n",
              "      <td>-152</td>\n",
              "      <td>118</td>\n",
              "      <td>318</td>\n",
              "      <td>427</td>\n",
              "      <td>473</td>\n",
              "      <td>485</td>\n",
              "      <td>447</td>\n",
              "      <td>397</td>\n",
              "      <td>339</td>\n",
              "      <td>312</td>\n",
              "      <td>314</td>\n",
              "      <td>326</td>\n",
              "      <td>335</td>\n",
              "      <td>332</td>\n",
              "      <td>324</td>\n",
              "      <td>310</td>\n",
              "      <td>...</td>\n",
              "      <td>27</td>\n",
              "      <td>146</td>\n",
              "      <td>229</td>\n",
              "      <td>269</td>\n",
              "      <td>297</td>\n",
              "      <td>307</td>\n",
              "      <td>303</td>\n",
              "      <td>305</td>\n",
              "      <td>306</td>\n",
              "      <td>307</td>\n",
              "      <td>280</td>\n",
              "      <td>231</td>\n",
              "      <td>159</td>\n",
              "      <td>85</td>\n",
              "      <td>51</td>\n",
              "      <td>43</td>\n",
              "      <td>62</td>\n",
              "      <td>63</td>\n",
              "      <td>63</td>\n",
              "      <td>69</td>\n",
              "      <td>89</td>\n",
              "      <td>123</td>\n",
              "      <td>136</td>\n",
              "      <td>127</td>\n",
              "      <td>102</td>\n",
              "      <td>95</td>\n",
              "      <td>105</td>\n",
              "      <td>131</td>\n",
              "      <td>163</td>\n",
              "      <td>168</td>\n",
              "      <td>164</td>\n",
              "      <td>150</td>\n",
              "      <td>146</td>\n",
              "      <td>152</td>\n",
              "      <td>157</td>\n",
              "      <td>156</td>\n",
              "      <td>154</td>\n",
              "      <td>143</td>\n",
              "      <td>129</td>\n",
              "      <td>1</td>\n",
              "    </tr>\n",
              "    <tr>\n",
              "      <th>2</th>\n",
              "      <td>X8.V1.1</td>\n",
              "      <td>-32</td>\n",
              "      <td>-39</td>\n",
              "      <td>-47</td>\n",
              "      <td>-37</td>\n",
              "      <td>-32</td>\n",
              "      <td>-36</td>\n",
              "      <td>-57</td>\n",
              "      <td>-73</td>\n",
              "      <td>-85</td>\n",
              "      <td>-94</td>\n",
              "      <td>-99</td>\n",
              "      <td>-94</td>\n",
              "      <td>-96</td>\n",
              "      <td>-104</td>\n",
              "      <td>-103</td>\n",
              "      <td>-92</td>\n",
              "      <td>-75</td>\n",
              "      <td>-69</td>\n",
              "      <td>-69</td>\n",
              "      <td>-53</td>\n",
              "      <td>-37</td>\n",
              "      <td>-14</td>\n",
              "      <td>-10</td>\n",
              "      <td>-39</td>\n",
              "      <td>-78</td>\n",
              "      <td>-102</td>\n",
              "      <td>-98</td>\n",
              "      <td>-80</td>\n",
              "      <td>-54</td>\n",
              "      <td>-40</td>\n",
              "      <td>-35</td>\n",
              "      <td>-39</td>\n",
              "      <td>-32</td>\n",
              "      <td>-13</td>\n",
              "      <td>7</td>\n",
              "      <td>34</td>\n",
              "      <td>41</td>\n",
              "      <td>33</td>\n",
              "      <td>6</td>\n",
              "      <td>...</td>\n",
              "      <td>-82</td>\n",
              "      <td>-107</td>\n",
              "      <td>-126</td>\n",
              "      <td>-124</td>\n",
              "      <td>-108</td>\n",
              "      <td>-84</td>\n",
              "      <td>-68</td>\n",
              "      <td>-61</td>\n",
              "      <td>-56</td>\n",
              "      <td>-63</td>\n",
              "      <td>-62</td>\n",
              "      <td>-33</td>\n",
              "      <td>1</td>\n",
              "      <td>28</td>\n",
              "      <td>45</td>\n",
              "      <td>37</td>\n",
              "      <td>48</td>\n",
              "      <td>62</td>\n",
              "      <td>80</td>\n",
              "      <td>66</td>\n",
              "      <td>23</td>\n",
              "      <td>-11</td>\n",
              "      <td>-39</td>\n",
              "      <td>-44</td>\n",
              "      <td>-42</td>\n",
              "      <td>-45</td>\n",
              "      <td>-48</td>\n",
              "      <td>-42</td>\n",
              "      <td>-6</td>\n",
              "      <td>29</td>\n",
              "      <td>57</td>\n",
              "      <td>64</td>\n",
              "      <td>48</td>\n",
              "      <td>19</td>\n",
              "      <td>-12</td>\n",
              "      <td>-30</td>\n",
              "      <td>-35</td>\n",
              "      <td>-35</td>\n",
              "      <td>-36</td>\n",
              "      <td>5</td>\n",
              "    </tr>\n",
              "    <tr>\n",
              "      <th>3</th>\n",
              "      <td>X16.V1.60</td>\n",
              "      <td>-105</td>\n",
              "      <td>-101</td>\n",
              "      <td>-96</td>\n",
              "      <td>-92</td>\n",
              "      <td>-89</td>\n",
              "      <td>-95</td>\n",
              "      <td>-102</td>\n",
              "      <td>-100</td>\n",
              "      <td>-87</td>\n",
              "      <td>-79</td>\n",
              "      <td>-72</td>\n",
              "      <td>-68</td>\n",
              "      <td>-74</td>\n",
              "      <td>-80</td>\n",
              "      <td>-83</td>\n",
              "      <td>-73</td>\n",
              "      <td>-68</td>\n",
              "      <td>-61</td>\n",
              "      <td>-58</td>\n",
              "      <td>-59</td>\n",
              "      <td>-64</td>\n",
              "      <td>-79</td>\n",
              "      <td>-84</td>\n",
              "      <td>-97</td>\n",
              "      <td>-94</td>\n",
              "      <td>-84</td>\n",
              "      <td>-77</td>\n",
              "      <td>-75</td>\n",
              "      <td>-72</td>\n",
              "      <td>-68</td>\n",
              "      <td>-76</td>\n",
              "      <td>-76</td>\n",
              "      <td>-72</td>\n",
              "      <td>-67</td>\n",
              "      <td>-69</td>\n",
              "      <td>-69</td>\n",
              "      <td>-69</td>\n",
              "      <td>-67</td>\n",
              "      <td>-68</td>\n",
              "      <td>...</td>\n",
              "      <td>-69</td>\n",
              "      <td>-66</td>\n",
              "      <td>-74</td>\n",
              "      <td>-69</td>\n",
              "      <td>-61</td>\n",
              "      <td>-51</td>\n",
              "      <td>-45</td>\n",
              "      <td>-45</td>\n",
              "      <td>-49</td>\n",
              "      <td>-58</td>\n",
              "      <td>-64</td>\n",
              "      <td>-78</td>\n",
              "      <td>-80</td>\n",
              "      <td>-90</td>\n",
              "      <td>-87</td>\n",
              "      <td>-83</td>\n",
              "      <td>-78</td>\n",
              "      <td>-64</td>\n",
              "      <td>-38</td>\n",
              "      <td>-22</td>\n",
              "      <td>-29</td>\n",
              "      <td>-42</td>\n",
              "      <td>-51</td>\n",
              "      <td>-68</td>\n",
              "      <td>-71</td>\n",
              "      <td>-69</td>\n",
              "      <td>-69</td>\n",
              "      <td>-74</td>\n",
              "      <td>-74</td>\n",
              "      <td>-80</td>\n",
              "      <td>-82</td>\n",
              "      <td>-81</td>\n",
              "      <td>-80</td>\n",
              "      <td>-77</td>\n",
              "      <td>-85</td>\n",
              "      <td>-77</td>\n",
              "      <td>-72</td>\n",
              "      <td>-69</td>\n",
              "      <td>-65</td>\n",
              "      <td>5</td>\n",
              "    </tr>\n",
              "    <tr>\n",
              "      <th>4</th>\n",
              "      <td>X20.V1.54</td>\n",
              "      <td>-9</td>\n",
              "      <td>-65</td>\n",
              "      <td>-98</td>\n",
              "      <td>-102</td>\n",
              "      <td>-78</td>\n",
              "      <td>-48</td>\n",
              "      <td>-16</td>\n",
              "      <td>0</td>\n",
              "      <td>-21</td>\n",
              "      <td>-59</td>\n",
              "      <td>-90</td>\n",
              "      <td>-103</td>\n",
              "      <td>-84</td>\n",
              "      <td>-43</td>\n",
              "      <td>-9</td>\n",
              "      <td>3</td>\n",
              "      <td>-21</td>\n",
              "      <td>-60</td>\n",
              "      <td>-96</td>\n",
              "      <td>-103</td>\n",
              "      <td>-75</td>\n",
              "      <td>-29</td>\n",
              "      <td>14</td>\n",
              "      <td>55</td>\n",
              "      <td>78</td>\n",
              "      <td>73</td>\n",
              "      <td>28</td>\n",
              "      <td>-13</td>\n",
              "      <td>-43</td>\n",
              "      <td>-68</td>\n",
              "      <td>-78</td>\n",
              "      <td>-75</td>\n",
              "      <td>-55</td>\n",
              "      <td>-41</td>\n",
              "      <td>-19</td>\n",
              "      <td>-20</td>\n",
              "      <td>-29</td>\n",
              "      <td>-36</td>\n",
              "      <td>-20</td>\n",
              "      <td>...</td>\n",
              "      <td>38</td>\n",
              "      <td>26</td>\n",
              "      <td>10</td>\n",
              "      <td>-4</td>\n",
              "      <td>-13</td>\n",
              "      <td>-8</td>\n",
              "      <td>0</td>\n",
              "      <td>10</td>\n",
              "      <td>19</td>\n",
              "      <td>29</td>\n",
              "      <td>57</td>\n",
              "      <td>63</td>\n",
              "      <td>45</td>\n",
              "      <td>7</td>\n",
              "      <td>-13</td>\n",
              "      <td>-23</td>\n",
              "      <td>-9</td>\n",
              "      <td>9</td>\n",
              "      <td>11</td>\n",
              "      <td>3</td>\n",
              "      <td>-1</td>\n",
              "      <td>-2</td>\n",
              "      <td>4</td>\n",
              "      <td>18</td>\n",
              "      <td>27</td>\n",
              "      <td>27</td>\n",
              "      <td>14</td>\n",
              "      <td>15</td>\n",
              "      <td>11</td>\n",
              "      <td>10</td>\n",
              "      <td>4</td>\n",
              "      <td>2</td>\n",
              "      <td>-12</td>\n",
              "      <td>-32</td>\n",
              "      <td>-41</td>\n",
              "      <td>-65</td>\n",
              "      <td>-83</td>\n",
              "      <td>-89</td>\n",
              "      <td>-73</td>\n",
              "      <td>5</td>\n",
              "    </tr>\n",
              "  </tbody>\n",
              "</table>\n",
              "<p>5 rows × 180 columns</p>\n",
              "</div>"
            ],
            "text/plain": [
              "   Unnamed: 0   X1   X2   X3   X4   X5  ...  X174  X175  X176  X177  X178  y\n",
              "0  X21.V1.791  135  190  229  223  192  ...  -103  -127  -116   -83   -51  4\n",
              "1  X15.V1.924  386  382  356  331  320  ...   157   156   154   143   129  1\n",
              "2     X8.V1.1  -32  -39  -47  -37  -32  ...   -12   -30   -35   -35   -36  5\n",
              "3   X16.V1.60 -105 -101  -96  -92  -89  ...   -85   -77   -72   -69   -65  5\n",
              "4   X20.V1.54   -9  -65  -98 -102  -78  ...   -41   -65   -83   -89   -73  5\n",
              "\n",
              "[5 rows x 180 columns]"
            ]
          },
          "metadata": {
            "tags": []
          },
          "execution_count": 91
        }
      ]
    },
    {
      "cell_type": "code",
      "metadata": {
        "colab": {
          "base_uri": "https://localhost:8080/"
        },
        "id": "q-59rA9fqNuK",
        "outputId": "d489ee9c-59a5-448a-a66b-0be17f710b05"
      },
      "source": [
        "epilepsie_data.shape"
      ],
      "execution_count": null,
      "outputs": [
        {
          "output_type": "execute_result",
          "data": {
            "text/plain": [
              "(11500, 180)"
            ]
          },
          "metadata": {
            "tags": []
          },
          "execution_count": 92
        }
      ]
    },
    {
      "cell_type": "code",
      "metadata": {
        "id": "s_tG5IkIqZCX"
      },
      "source": [
        "features_names=list(epilepsie_data.columns)\n",
        "features_names"
      ],
      "execution_count": null,
      "outputs": []
    },
    {
      "cell_type": "code",
      "metadata": {
        "colab": {
          "base_uri": "https://localhost:8080/"
        },
        "id": "TcbhUnHzq643",
        "outputId": "52aaf2df-bf8a-4773-be36-38f19bf58571"
      },
      "source": [
        "epilepsie_data.info()"
      ],
      "execution_count": null,
      "outputs": [
        {
          "output_type": "stream",
          "text": [
            "<class 'pandas.core.frame.DataFrame'>\n",
            "RangeIndex: 11500 entries, 0 to 11499\n",
            "Columns: 180 entries, Unnamed: 0 to y\n",
            "dtypes: int64(179), object(1)\n",
            "memory usage: 15.8+ MB\n"
          ],
          "name": "stdout"
        }
      ]
    },
    {
      "cell_type": "code",
      "metadata": {
        "colab": {
          "base_uri": "https://localhost:8080/"
        },
        "id": "iJv_xWOhrBFo",
        "outputId": "9a9c360d-f93b-420c-af98-0ab9378f9ff6"
      },
      "source": [
        "epilepsie_data.isnull().sum()"
      ],
      "execution_count": null,
      "outputs": [
        {
          "output_type": "execute_result",
          "data": {
            "text/plain": [
              "Unnamed: 0    0\n",
              "X1            0\n",
              "X2            0\n",
              "X3            0\n",
              "X4            0\n",
              "             ..\n",
              "X175          0\n",
              "X176          0\n",
              "X177          0\n",
              "X178          0\n",
              "y             0\n",
              "Length: 180, dtype: int64"
            ]
          },
          "metadata": {
            "tags": []
          },
          "execution_count": 8
        }
      ]
    },
    {
      "cell_type": "code",
      "metadata": {
        "colab": {
          "base_uri": "https://localhost:8080/",
          "height": 346
        },
        "id": "mN_MggT5rHDc",
        "outputId": "4b94e1bc-01e8-458f-99ee-9e7bd14e6d3d"
      },
      "source": [
        "epilepsie_data.describe()"
      ],
      "execution_count": null,
      "outputs": [
        {
          "output_type": "execute_result",
          "data": {
            "text/html": [
              "<div>\n",
              "<style scoped>\n",
              "    .dataframe tbody tr th:only-of-type {\n",
              "        vertical-align: middle;\n",
              "    }\n",
              "\n",
              "    .dataframe tbody tr th {\n",
              "        vertical-align: top;\n",
              "    }\n",
              "\n",
              "    .dataframe thead th {\n",
              "        text-align: right;\n",
              "    }\n",
              "</style>\n",
              "<table border=\"1\" class=\"dataframe\">\n",
              "  <thead>\n",
              "    <tr style=\"text-align: right;\">\n",
              "      <th></th>\n",
              "      <th>X1</th>\n",
              "      <th>X2</th>\n",
              "      <th>X3</th>\n",
              "      <th>X4</th>\n",
              "      <th>X5</th>\n",
              "      <th>X6</th>\n",
              "      <th>X7</th>\n",
              "      <th>X8</th>\n",
              "      <th>X9</th>\n",
              "      <th>X10</th>\n",
              "      <th>X11</th>\n",
              "      <th>X12</th>\n",
              "      <th>X13</th>\n",
              "      <th>X14</th>\n",
              "      <th>X15</th>\n",
              "      <th>X16</th>\n",
              "      <th>X17</th>\n",
              "      <th>X18</th>\n",
              "      <th>X19</th>\n",
              "      <th>X20</th>\n",
              "      <th>X21</th>\n",
              "      <th>X22</th>\n",
              "      <th>X23</th>\n",
              "      <th>X24</th>\n",
              "      <th>X25</th>\n",
              "      <th>X26</th>\n",
              "      <th>X27</th>\n",
              "      <th>X28</th>\n",
              "      <th>X29</th>\n",
              "      <th>X30</th>\n",
              "      <th>X31</th>\n",
              "      <th>X32</th>\n",
              "      <th>X33</th>\n",
              "      <th>X34</th>\n",
              "      <th>X35</th>\n",
              "      <th>X36</th>\n",
              "      <th>X37</th>\n",
              "      <th>X38</th>\n",
              "      <th>X39</th>\n",
              "      <th>X40</th>\n",
              "      <th>...</th>\n",
              "      <th>X140</th>\n",
              "      <th>X141</th>\n",
              "      <th>X142</th>\n",
              "      <th>X143</th>\n",
              "      <th>X144</th>\n",
              "      <th>X145</th>\n",
              "      <th>X146</th>\n",
              "      <th>X147</th>\n",
              "      <th>X148</th>\n",
              "      <th>X149</th>\n",
              "      <th>X150</th>\n",
              "      <th>X151</th>\n",
              "      <th>X152</th>\n",
              "      <th>X153</th>\n",
              "      <th>X154</th>\n",
              "      <th>X155</th>\n",
              "      <th>X156</th>\n",
              "      <th>X157</th>\n",
              "      <th>X158</th>\n",
              "      <th>X159</th>\n",
              "      <th>X160</th>\n",
              "      <th>X161</th>\n",
              "      <th>X162</th>\n",
              "      <th>X163</th>\n",
              "      <th>X164</th>\n",
              "      <th>X165</th>\n",
              "      <th>X166</th>\n",
              "      <th>X167</th>\n",
              "      <th>X168</th>\n",
              "      <th>X169</th>\n",
              "      <th>X170</th>\n",
              "      <th>X171</th>\n",
              "      <th>X172</th>\n",
              "      <th>X173</th>\n",
              "      <th>X174</th>\n",
              "      <th>X175</th>\n",
              "      <th>X176</th>\n",
              "      <th>X177</th>\n",
              "      <th>X178</th>\n",
              "      <th>y</th>\n",
              "    </tr>\n",
              "  </thead>\n",
              "  <tbody>\n",
              "    <tr>\n",
              "      <th>count</th>\n",
              "      <td>11500.000000</td>\n",
              "      <td>11500.000000</td>\n",
              "      <td>11500.000000</td>\n",
              "      <td>11500.000000</td>\n",
              "      <td>11500.000000</td>\n",
              "      <td>11500.000000</td>\n",
              "      <td>11500.000000</td>\n",
              "      <td>11500.00000</td>\n",
              "      <td>11500.00000</td>\n",
              "      <td>11500.000000</td>\n",
              "      <td>11500.000000</td>\n",
              "      <td>11500.000000</td>\n",
              "      <td>11500.000000</td>\n",
              "      <td>11500.000000</td>\n",
              "      <td>11500.000000</td>\n",
              "      <td>11500.000000</td>\n",
              "      <td>11500.000000</td>\n",
              "      <td>11500.000000</td>\n",
              "      <td>11500.000000</td>\n",
              "      <td>11500.000000</td>\n",
              "      <td>11500.000000</td>\n",
              "      <td>11500.000000</td>\n",
              "      <td>11500.000000</td>\n",
              "      <td>11500.000000</td>\n",
              "      <td>11500.000000</td>\n",
              "      <td>11500.00000</td>\n",
              "      <td>11500.000000</td>\n",
              "      <td>11500.000000</td>\n",
              "      <td>11500.000000</td>\n",
              "      <td>11500.000000</td>\n",
              "      <td>11500.000000</td>\n",
              "      <td>11500.000000</td>\n",
              "      <td>11500.000000</td>\n",
              "      <td>11500.000000</td>\n",
              "      <td>11500.000000</td>\n",
              "      <td>11500.000000</td>\n",
              "      <td>11500.000000</td>\n",
              "      <td>11500.000000</td>\n",
              "      <td>11500.000000</td>\n",
              "      <td>11500.000000</td>\n",
              "      <td>...</td>\n",
              "      <td>11500.000000</td>\n",
              "      <td>11500.000000</td>\n",
              "      <td>11500.000000</td>\n",
              "      <td>11500.000000</td>\n",
              "      <td>11500.000000</td>\n",
              "      <td>11500.000000</td>\n",
              "      <td>11500.000000</td>\n",
              "      <td>11500.000000</td>\n",
              "      <td>11500.000000</td>\n",
              "      <td>11500.000000</td>\n",
              "      <td>11500.000000</td>\n",
              "      <td>11500.000000</td>\n",
              "      <td>11500.000000</td>\n",
              "      <td>11500.000000</td>\n",
              "      <td>11500.000000</td>\n",
              "      <td>11500.000000</td>\n",
              "      <td>11500.000000</td>\n",
              "      <td>11500.000000</td>\n",
              "      <td>11500.000000</td>\n",
              "      <td>11500.000000</td>\n",
              "      <td>11500.000000</td>\n",
              "      <td>11500.000000</td>\n",
              "      <td>11500.000000</td>\n",
              "      <td>11500.000000</td>\n",
              "      <td>11500.000000</td>\n",
              "      <td>11500.000000</td>\n",
              "      <td>11500.000000</td>\n",
              "      <td>11500.000000</td>\n",
              "      <td>11500.000000</td>\n",
              "      <td>11500.000000</td>\n",
              "      <td>11500.000000</td>\n",
              "      <td>11500.000000</td>\n",
              "      <td>11500.000000</td>\n",
              "      <td>11500.000000</td>\n",
              "      <td>11500.000000</td>\n",
              "      <td>11500.000000</td>\n",
              "      <td>11500.000000</td>\n",
              "      <td>11500.000000</td>\n",
              "      <td>11500.000000</td>\n",
              "      <td>11500.000000</td>\n",
              "    </tr>\n",
              "    <tr>\n",
              "      <th>mean</th>\n",
              "      <td>-11.581391</td>\n",
              "      <td>-10.911565</td>\n",
              "      <td>-10.187130</td>\n",
              "      <td>-9.143043</td>\n",
              "      <td>-8.009739</td>\n",
              "      <td>-7.003478</td>\n",
              "      <td>-6.502087</td>\n",
              "      <td>-6.68713</td>\n",
              "      <td>-6.55800</td>\n",
              "      <td>-6.168435</td>\n",
              "      <td>-5.827478</td>\n",
              "      <td>-6.042174</td>\n",
              "      <td>-6.687304</td>\n",
              "      <td>-7.088870</td>\n",
              "      <td>-7.211217</td>\n",
              "      <td>-7.088261</td>\n",
              "      <td>-6.806696</td>\n",
              "      <td>-6.744696</td>\n",
              "      <td>-6.484783</td>\n",
              "      <td>-6.448435</td>\n",
              "      <td>-6.355391</td>\n",
              "      <td>-6.543130</td>\n",
              "      <td>-6.884348</td>\n",
              "      <td>-6.883217</td>\n",
              "      <td>-6.118870</td>\n",
              "      <td>-5.15913</td>\n",
              "      <td>-4.785652</td>\n",
              "      <td>-4.874783</td>\n",
              "      <td>-5.393565</td>\n",
              "      <td>-5.935478</td>\n",
              "      <td>-6.349913</td>\n",
              "      <td>-6.212522</td>\n",
              "      <td>-5.859826</td>\n",
              "      <td>-5.299826</td>\n",
              "      <td>-4.955652</td>\n",
              "      <td>-5.278087</td>\n",
              "      <td>-6.162261</td>\n",
              "      <td>-7.316609</td>\n",
              "      <td>-7.998522</td>\n",
              "      <td>-7.818870</td>\n",
              "      <td>...</td>\n",
              "      <td>-6.997304</td>\n",
              "      <td>-7.339391</td>\n",
              "      <td>-7.911565</td>\n",
              "      <td>-8.177304</td>\n",
              "      <td>-8.608870</td>\n",
              "      <td>-8.578087</td>\n",
              "      <td>-8.240000</td>\n",
              "      <td>-7.691391</td>\n",
              "      <td>-7.356522</td>\n",
              "      <td>-7.228783</td>\n",
              "      <td>-6.980870</td>\n",
              "      <td>-6.756783</td>\n",
              "      <td>-6.355304</td>\n",
              "      <td>-6.423826</td>\n",
              "      <td>-6.465217</td>\n",
              "      <td>-6.316435</td>\n",
              "      <td>-5.808000</td>\n",
              "      <td>-5.255913</td>\n",
              "      <td>-4.682087</td>\n",
              "      <td>-4.638609</td>\n",
              "      <td>-4.770261</td>\n",
              "      <td>-5.650870</td>\n",
              "      <td>-7.170348</td>\n",
              "      <td>-8.759826</td>\n",
              "      <td>-9.784783</td>\n",
              "      <td>-10.096261</td>\n",
              "      <td>-9.842957</td>\n",
              "      <td>-9.701739</td>\n",
              "      <td>-9.351391</td>\n",
              "      <td>-9.498870</td>\n",
              "      <td>-10.145739</td>\n",
              "      <td>-11.630348</td>\n",
              "      <td>-12.943478</td>\n",
              "      <td>-13.668870</td>\n",
              "      <td>-13.363304</td>\n",
              "      <td>-13.045043</td>\n",
              "      <td>-12.705130</td>\n",
              "      <td>-12.426000</td>\n",
              "      <td>-12.195652</td>\n",
              "      <td>3.000000</td>\n",
              "    </tr>\n",
              "    <tr>\n",
              "      <th>std</th>\n",
              "      <td>165.626284</td>\n",
              "      <td>166.059609</td>\n",
              "      <td>163.524317</td>\n",
              "      <td>161.269041</td>\n",
              "      <td>160.998007</td>\n",
              "      <td>161.328725</td>\n",
              "      <td>161.467837</td>\n",
              "      <td>162.11912</td>\n",
              "      <td>162.03336</td>\n",
              "      <td>160.436352</td>\n",
              "      <td>160.471017</td>\n",
              "      <td>161.181118</td>\n",
              "      <td>165.071121</td>\n",
              "      <td>169.198359</td>\n",
              "      <td>170.641967</td>\n",
              "      <td>168.930355</td>\n",
              "      <td>164.646296</td>\n",
              "      <td>162.062661</td>\n",
              "      <td>162.571333</td>\n",
              "      <td>162.339911</td>\n",
              "      <td>162.823325</td>\n",
              "      <td>163.909723</td>\n",
              "      <td>165.844176</td>\n",
              "      <td>166.009100</td>\n",
              "      <td>164.715153</td>\n",
              "      <td>162.77423</td>\n",
              "      <td>162.902294</td>\n",
              "      <td>164.799831</td>\n",
              "      <td>165.391697</td>\n",
              "      <td>164.291120</td>\n",
              "      <td>163.165167</td>\n",
              "      <td>163.408052</td>\n",
              "      <td>163.561408</td>\n",
              "      <td>162.548119</td>\n",
              "      <td>160.813772</td>\n",
              "      <td>160.441049</td>\n",
              "      <td>162.881958</td>\n",
              "      <td>166.235164</td>\n",
              "      <td>166.314965</td>\n",
              "      <td>164.513017</td>\n",
              "      <td>...</td>\n",
              "      <td>168.567495</td>\n",
              "      <td>168.662705</td>\n",
              "      <td>167.643458</td>\n",
              "      <td>167.414439</td>\n",
              "      <td>167.922773</td>\n",
              "      <td>168.274009</td>\n",
              "      <td>167.808218</td>\n",
              "      <td>166.739558</td>\n",
              "      <td>165.678558</td>\n",
              "      <td>167.130911</td>\n",
              "      <td>168.156296</td>\n",
              "      <td>167.459868</td>\n",
              "      <td>165.061414</td>\n",
              "      <td>164.248830</td>\n",
              "      <td>166.226332</td>\n",
              "      <td>168.143625</td>\n",
              "      <td>167.067064</td>\n",
              "      <td>166.446540</td>\n",
              "      <td>167.554020</td>\n",
              "      <td>169.418457</td>\n",
              "      <td>170.639171</td>\n",
              "      <td>170.817824</td>\n",
              "      <td>168.145372</td>\n",
              "      <td>166.817974</td>\n",
              "      <td>166.999981</td>\n",
              "      <td>167.756860</td>\n",
              "      <td>166.988820</td>\n",
              "      <td>167.062497</td>\n",
              "      <td>166.606345</td>\n",
              "      <td>165.235574</td>\n",
              "      <td>164.652883</td>\n",
              "      <td>166.149790</td>\n",
              "      <td>168.554058</td>\n",
              "      <td>168.556486</td>\n",
              "      <td>167.257290</td>\n",
              "      <td>164.241019</td>\n",
              "      <td>162.895832</td>\n",
              "      <td>162.886311</td>\n",
              "      <td>164.852015</td>\n",
              "      <td>1.414275</td>\n",
              "    </tr>\n",
              "    <tr>\n",
              "      <th>min</th>\n",
              "      <td>-1839.000000</td>\n",
              "      <td>-1838.000000</td>\n",
              "      <td>-1835.000000</td>\n",
              "      <td>-1845.000000</td>\n",
              "      <td>-1791.000000</td>\n",
              "      <td>-1757.000000</td>\n",
              "      <td>-1832.000000</td>\n",
              "      <td>-1778.00000</td>\n",
              "      <td>-1840.00000</td>\n",
              "      <td>-1867.000000</td>\n",
              "      <td>-1765.000000</td>\n",
              "      <td>-1803.000000</td>\n",
              "      <td>-1833.000000</td>\n",
              "      <td>-1867.000000</td>\n",
              "      <td>-1870.000000</td>\n",
              "      <td>-1839.000000</td>\n",
              "      <td>-1867.000000</td>\n",
              "      <td>-1856.000000</td>\n",
              "      <td>-1844.000000</td>\n",
              "      <td>-1717.000000</td>\n",
              "      <td>-1764.000000</td>\n",
              "      <td>-1856.000000</td>\n",
              "      <td>-1844.000000</td>\n",
              "      <td>-1866.000000</td>\n",
              "      <td>-1863.000000</td>\n",
              "      <td>-1866.00000</td>\n",
              "      <td>-1781.000000</td>\n",
              "      <td>-1860.000000</td>\n",
              "      <td>-1818.000000</td>\n",
              "      <td>-1867.000000</td>\n",
              "      <td>-1743.000000</td>\n",
              "      <td>-1517.000000</td>\n",
              "      <td>-1552.000000</td>\n",
              "      <td>-1720.000000</td>\n",
              "      <td>-1864.000000</td>\n",
              "      <td>-1814.000000</td>\n",
              "      <td>-1829.000000</td>\n",
              "      <td>-1851.000000</td>\n",
              "      <td>-1840.000000</td>\n",
              "      <td>-1673.000000</td>\n",
              "      <td>...</td>\n",
              "      <td>-1867.000000</td>\n",
              "      <td>-1826.000000</td>\n",
              "      <td>-1866.000000</td>\n",
              "      <td>-1854.000000</td>\n",
              "      <td>-1789.000000</td>\n",
              "      <td>-1872.000000</td>\n",
              "      <td>-1866.000000</td>\n",
              "      <td>-1675.000000</td>\n",
              "      <td>-1778.000000</td>\n",
              "      <td>-1733.000000</td>\n",
              "      <td>-1862.000000</td>\n",
              "      <td>-1861.000000</td>\n",
              "      <td>-1857.000000</td>\n",
              "      <td>-1839.000000</td>\n",
              "      <td>-1860.000000</td>\n",
              "      <td>-1843.000000</td>\n",
              "      <td>-1863.000000</td>\n",
              "      <td>-1861.000000</td>\n",
              "      <td>-1845.000000</td>\n",
              "      <td>-1820.000000</td>\n",
              "      <td>-1864.000000</td>\n",
              "      <td>-1868.000000</td>\n",
              "      <td>-1855.000000</td>\n",
              "      <td>-1852.000000</td>\n",
              "      <td>-1870.000000</td>\n",
              "      <td>-1847.000000</td>\n",
              "      <td>-1578.000000</td>\n",
              "      <td>-1838.000000</td>\n",
              "      <td>-1763.000000</td>\n",
              "      <td>-1860.000000</td>\n",
              "      <td>-1867.000000</td>\n",
              "      <td>-1865.000000</td>\n",
              "      <td>-1642.000000</td>\n",
              "      <td>-1723.000000</td>\n",
              "      <td>-1866.000000</td>\n",
              "      <td>-1863.000000</td>\n",
              "      <td>-1781.000000</td>\n",
              "      <td>-1727.000000</td>\n",
              "      <td>-1829.000000</td>\n",
              "      <td>1.000000</td>\n",
              "    </tr>\n",
              "    <tr>\n",
              "      <th>25%</th>\n",
              "      <td>-54.000000</td>\n",
              "      <td>-55.000000</td>\n",
              "      <td>-54.000000</td>\n",
              "      <td>-54.000000</td>\n",
              "      <td>-54.000000</td>\n",
              "      <td>-54.000000</td>\n",
              "      <td>-54.000000</td>\n",
              "      <td>-55.00000</td>\n",
              "      <td>-55.00000</td>\n",
              "      <td>-54.000000</td>\n",
              "      <td>-54.000000</td>\n",
              "      <td>-54.000000</td>\n",
              "      <td>-54.000000</td>\n",
              "      <td>-54.000000</td>\n",
              "      <td>-53.000000</td>\n",
              "      <td>-53.000000</td>\n",
              "      <td>-53.000000</td>\n",
              "      <td>-52.000000</td>\n",
              "      <td>-53.000000</td>\n",
              "      <td>-53.000000</td>\n",
              "      <td>-53.000000</td>\n",
              "      <td>-53.000000</td>\n",
              "      <td>-53.000000</td>\n",
              "      <td>-52.000000</td>\n",
              "      <td>-52.000000</td>\n",
              "      <td>-52.00000</td>\n",
              "      <td>-51.000000</td>\n",
              "      <td>-50.000000</td>\n",
              "      <td>-50.000000</td>\n",
              "      <td>-50.000000</td>\n",
              "      <td>-51.000000</td>\n",
              "      <td>-52.000000</td>\n",
              "      <td>-52.000000</td>\n",
              "      <td>-51.000000</td>\n",
              "      <td>-51.000000</td>\n",
              "      <td>-51.000000</td>\n",
              "      <td>-51.000000</td>\n",
              "      <td>-51.000000</td>\n",
              "      <td>-52.000000</td>\n",
              "      <td>-52.000000</td>\n",
              "      <td>...</td>\n",
              "      <td>-54.000000</td>\n",
              "      <td>-55.000000</td>\n",
              "      <td>-55.000000</td>\n",
              "      <td>-56.000000</td>\n",
              "      <td>-56.000000</td>\n",
              "      <td>-56.000000</td>\n",
              "      <td>-55.000000</td>\n",
              "      <td>-57.000000</td>\n",
              "      <td>-55.000000</td>\n",
              "      <td>-55.000000</td>\n",
              "      <td>-54.000000</td>\n",
              "      <td>-54.000000</td>\n",
              "      <td>-53.000000</td>\n",
              "      <td>-53.000000</td>\n",
              "      <td>-53.000000</td>\n",
              "      <td>-52.000000</td>\n",
              "      <td>-52.250000</td>\n",
              "      <td>-52.000000</td>\n",
              "      <td>-52.000000</td>\n",
              "      <td>-53.000000</td>\n",
              "      <td>-52.000000</td>\n",
              "      <td>-52.000000</td>\n",
              "      <td>-52.000000</td>\n",
              "      <td>-53.000000</td>\n",
              "      <td>-54.000000</td>\n",
              "      <td>-54.000000</td>\n",
              "      <td>-55.000000</td>\n",
              "      <td>-55.000000</td>\n",
              "      <td>-55.000000</td>\n",
              "      <td>-55.000000</td>\n",
              "      <td>-55.000000</td>\n",
              "      <td>-56.000000</td>\n",
              "      <td>-56.000000</td>\n",
              "      <td>-56.000000</td>\n",
              "      <td>-55.000000</td>\n",
              "      <td>-56.000000</td>\n",
              "      <td>-55.000000</td>\n",
              "      <td>-55.000000</td>\n",
              "      <td>-55.000000</td>\n",
              "      <td>2.000000</td>\n",
              "    </tr>\n",
              "    <tr>\n",
              "      <th>50%</th>\n",
              "      <td>-8.000000</td>\n",
              "      <td>-8.000000</td>\n",
              "      <td>-7.000000</td>\n",
              "      <td>-8.000000</td>\n",
              "      <td>-8.000000</td>\n",
              "      <td>-8.000000</td>\n",
              "      <td>-8.000000</td>\n",
              "      <td>-8.00000</td>\n",
              "      <td>-7.00000</td>\n",
              "      <td>-7.000000</td>\n",
              "      <td>-8.000000</td>\n",
              "      <td>-8.000000</td>\n",
              "      <td>-8.000000</td>\n",
              "      <td>-8.000000</td>\n",
              "      <td>-7.000000</td>\n",
              "      <td>-7.000000</td>\n",
              "      <td>-6.000000</td>\n",
              "      <td>-7.000000</td>\n",
              "      <td>-6.000000</td>\n",
              "      <td>-6.000000</td>\n",
              "      <td>-7.000000</td>\n",
              "      <td>-6.000000</td>\n",
              "      <td>-6.000000</td>\n",
              "      <td>-7.000000</td>\n",
              "      <td>-7.000000</td>\n",
              "      <td>-6.00000</td>\n",
              "      <td>-6.000000</td>\n",
              "      <td>-6.000000</td>\n",
              "      <td>-5.000000</td>\n",
              "      <td>-5.000000</td>\n",
              "      <td>-5.000000</td>\n",
              "      <td>-6.000000</td>\n",
              "      <td>-6.000000</td>\n",
              "      <td>-6.000000</td>\n",
              "      <td>-6.000000</td>\n",
              "      <td>-6.000000</td>\n",
              "      <td>-6.000000</td>\n",
              "      <td>-6.000000</td>\n",
              "      <td>-7.000000</td>\n",
              "      <td>-7.000000</td>\n",
              "      <td>...</td>\n",
              "      <td>-7.000000</td>\n",
              "      <td>-8.000000</td>\n",
              "      <td>-8.000000</td>\n",
              "      <td>-8.000000</td>\n",
              "      <td>-8.000000</td>\n",
              "      <td>-8.000000</td>\n",
              "      <td>-8.000000</td>\n",
              "      <td>-9.000000</td>\n",
              "      <td>-9.000000</td>\n",
              "      <td>-9.000000</td>\n",
              "      <td>-8.000000</td>\n",
              "      <td>-8.000000</td>\n",
              "      <td>-7.000000</td>\n",
              "      <td>-7.000000</td>\n",
              "      <td>-7.000000</td>\n",
              "      <td>-7.000000</td>\n",
              "      <td>-7.000000</td>\n",
              "      <td>-7.000000</td>\n",
              "      <td>-7.000000</td>\n",
              "      <td>-7.000000</td>\n",
              "      <td>-6.000000</td>\n",
              "      <td>-7.000000</td>\n",
              "      <td>-7.000000</td>\n",
              "      <td>-7.000000</td>\n",
              "      <td>-8.000000</td>\n",
              "      <td>-8.000000</td>\n",
              "      <td>-9.000000</td>\n",
              "      <td>-9.000000</td>\n",
              "      <td>-8.000000</td>\n",
              "      <td>-8.000000</td>\n",
              "      <td>-9.000000</td>\n",
              "      <td>-10.000000</td>\n",
              "      <td>-10.000000</td>\n",
              "      <td>-10.000000</td>\n",
              "      <td>-10.000000</td>\n",
              "      <td>-9.000000</td>\n",
              "      <td>-9.000000</td>\n",
              "      <td>-9.000000</td>\n",
              "      <td>-9.000000</td>\n",
              "      <td>3.000000</td>\n",
              "    </tr>\n",
              "    <tr>\n",
              "      <th>75%</th>\n",
              "      <td>34.000000</td>\n",
              "      <td>35.000000</td>\n",
              "      <td>36.000000</td>\n",
              "      <td>36.000000</td>\n",
              "      <td>35.000000</td>\n",
              "      <td>36.000000</td>\n",
              "      <td>35.000000</td>\n",
              "      <td>36.00000</td>\n",
              "      <td>36.00000</td>\n",
              "      <td>35.250000</td>\n",
              "      <td>36.000000</td>\n",
              "      <td>35.000000</td>\n",
              "      <td>36.000000</td>\n",
              "      <td>37.000000</td>\n",
              "      <td>37.000000</td>\n",
              "      <td>38.000000</td>\n",
              "      <td>37.000000</td>\n",
              "      <td>38.000000</td>\n",
              "      <td>38.000000</td>\n",
              "      <td>39.000000</td>\n",
              "      <td>39.000000</td>\n",
              "      <td>38.000000</td>\n",
              "      <td>37.000000</td>\n",
              "      <td>38.000000</td>\n",
              "      <td>37.000000</td>\n",
              "      <td>38.00000</td>\n",
              "      <td>37.000000</td>\n",
              "      <td>38.250000</td>\n",
              "      <td>38.000000</td>\n",
              "      <td>38.000000</td>\n",
              "      <td>38.000000</td>\n",
              "      <td>38.000000</td>\n",
              "      <td>38.000000</td>\n",
              "      <td>38.000000</td>\n",
              "      <td>39.000000</td>\n",
              "      <td>39.000000</td>\n",
              "      <td>39.000000</td>\n",
              "      <td>38.000000</td>\n",
              "      <td>38.000000</td>\n",
              "      <td>37.000000</td>\n",
              "      <td>...</td>\n",
              "      <td>36.000000</td>\n",
              "      <td>35.000000</td>\n",
              "      <td>35.000000</td>\n",
              "      <td>35.000000</td>\n",
              "      <td>35.000000</td>\n",
              "      <td>35.000000</td>\n",
              "      <td>35.000000</td>\n",
              "      <td>35.000000</td>\n",
              "      <td>34.000000</td>\n",
              "      <td>35.000000</td>\n",
              "      <td>36.000000</td>\n",
              "      <td>36.000000</td>\n",
              "      <td>36.000000</td>\n",
              "      <td>37.000000</td>\n",
              "      <td>36.000000</td>\n",
              "      <td>36.000000</td>\n",
              "      <td>35.250000</td>\n",
              "      <td>36.000000</td>\n",
              "      <td>36.000000</td>\n",
              "      <td>37.000000</td>\n",
              "      <td>36.000000</td>\n",
              "      <td>36.000000</td>\n",
              "      <td>37.000000</td>\n",
              "      <td>35.000000</td>\n",
              "      <td>35.000000</td>\n",
              "      <td>34.000000</td>\n",
              "      <td>35.000000</td>\n",
              "      <td>35.000000</td>\n",
              "      <td>34.000000</td>\n",
              "      <td>35.000000</td>\n",
              "      <td>34.000000</td>\n",
              "      <td>34.000000</td>\n",
              "      <td>33.000000</td>\n",
              "      <td>33.000000</td>\n",
              "      <td>34.000000</td>\n",
              "      <td>34.000000</td>\n",
              "      <td>34.000000</td>\n",
              "      <td>34.000000</td>\n",
              "      <td>34.000000</td>\n",
              "      <td>4.000000</td>\n",
              "    </tr>\n",
              "    <tr>\n",
              "      <th>max</th>\n",
              "      <td>1726.000000</td>\n",
              "      <td>1713.000000</td>\n",
              "      <td>1697.000000</td>\n",
              "      <td>1612.000000</td>\n",
              "      <td>1518.000000</td>\n",
              "      <td>1816.000000</td>\n",
              "      <td>2047.000000</td>\n",
              "      <td>2047.00000</td>\n",
              "      <td>2047.00000</td>\n",
              "      <td>2047.000000</td>\n",
              "      <td>2047.000000</td>\n",
              "      <td>2047.000000</td>\n",
              "      <td>2047.000000</td>\n",
              "      <td>1829.000000</td>\n",
              "      <td>1631.000000</td>\n",
              "      <td>1532.000000</td>\n",
              "      <td>1441.000000</td>\n",
              "      <td>1352.000000</td>\n",
              "      <td>1504.000000</td>\n",
              "      <td>1821.000000</td>\n",
              "      <td>2022.000000</td>\n",
              "      <td>2047.000000</td>\n",
              "      <td>2040.000000</td>\n",
              "      <td>1879.000000</td>\n",
              "      <td>1666.000000</td>\n",
              "      <td>1435.00000</td>\n",
              "      <td>1340.000000</td>\n",
              "      <td>1257.000000</td>\n",
              "      <td>1452.000000</td>\n",
              "      <td>1551.000000</td>\n",
              "      <td>1446.000000</td>\n",
              "      <td>1381.000000</td>\n",
              "      <td>1259.000000</td>\n",
              "      <td>1213.000000</td>\n",
              "      <td>1364.000000</td>\n",
              "      <td>1220.000000</td>\n",
              "      <td>1304.000000</td>\n",
              "      <td>1344.000000</td>\n",
              "      <td>1298.000000</td>\n",
              "      <td>1518.000000</td>\n",
              "      <td>...</td>\n",
              "      <td>2047.000000</td>\n",
              "      <td>2047.000000</td>\n",
              "      <td>2047.000000</td>\n",
              "      <td>2045.000000</td>\n",
              "      <td>2047.000000</td>\n",
              "      <td>2047.000000</td>\n",
              "      <td>2047.000000</td>\n",
              "      <td>2047.000000</td>\n",
              "      <td>1934.000000</td>\n",
              "      <td>1644.000000</td>\n",
              "      <td>1524.000000</td>\n",
              "      <td>1565.000000</td>\n",
              "      <td>1682.000000</td>\n",
              "      <td>1977.000000</td>\n",
              "      <td>2047.000000</td>\n",
              "      <td>2047.000000</td>\n",
              "      <td>1902.000000</td>\n",
              "      <td>1681.000000</td>\n",
              "      <td>1502.000000</td>\n",
              "      <td>1314.000000</td>\n",
              "      <td>1431.000000</td>\n",
              "      <td>1543.000000</td>\n",
              "      <td>1556.000000</td>\n",
              "      <td>1597.000000</td>\n",
              "      <td>1629.000000</td>\n",
              "      <td>1726.000000</td>\n",
              "      <td>2047.000000</td>\n",
              "      <td>2047.000000</td>\n",
              "      <td>2047.000000</td>\n",
              "      <td>2047.000000</td>\n",
              "      <td>1777.000000</td>\n",
              "      <td>1472.000000</td>\n",
              "      <td>1319.000000</td>\n",
              "      <td>1436.000000</td>\n",
              "      <td>1733.000000</td>\n",
              "      <td>1958.000000</td>\n",
              "      <td>2047.000000</td>\n",
              "      <td>2047.000000</td>\n",
              "      <td>1915.000000</td>\n",
              "      <td>5.000000</td>\n",
              "    </tr>\n",
              "  </tbody>\n",
              "</table>\n",
              "<p>8 rows × 179 columns</p>\n",
              "</div>"
            ],
            "text/plain": [
              "                 X1            X2  ...          X178             y\n",
              "count  11500.000000  11500.000000  ...  11500.000000  11500.000000\n",
              "mean     -11.581391    -10.911565  ...    -12.195652      3.000000\n",
              "std      165.626284    166.059609  ...    164.852015      1.414275\n",
              "min    -1839.000000  -1838.000000  ...  -1829.000000      1.000000\n",
              "25%      -54.000000    -55.000000  ...    -55.000000      2.000000\n",
              "50%       -8.000000     -8.000000  ...     -9.000000      3.000000\n",
              "75%       34.000000     35.000000  ...     34.000000      4.000000\n",
              "max     1726.000000   1713.000000  ...   1915.000000      5.000000\n",
              "\n",
              "[8 rows x 179 columns]"
            ]
          },
          "metadata": {
            "tags": []
          },
          "execution_count": 9
        }
      ]
    },
    {
      "cell_type": "code",
      "metadata": {
        "colab": {
          "base_uri": "https://localhost:8080/"
        },
        "id": "T_uMTzLtrQAD",
        "outputId": "737df7e5-3b42-4e18-985f-8d62429acd80"
      },
      "source": [
        "epilepsie_data['y'].value_counts()"
      ],
      "execution_count": null,
      "outputs": [
        {
          "output_type": "execute_result",
          "data": {
            "text/plain": [
              "5    2300\n",
              "4    2300\n",
              "3    2300\n",
              "2    2300\n",
              "1    2300\n",
              "Name: y, dtype: int64"
            ]
          },
          "metadata": {
            "tags": []
          },
          "execution_count": 10
        }
      ]
    },
    {
      "cell_type": "code",
      "metadata": {
        "colab": {
          "base_uri": "https://localhost:8080/"
        },
        "id": "w4eHWVcerUK4",
        "outputId": "aae57301-8de5-4fc4-bddb-5251b2b76f55"
      },
      "source": [
        "epilepsie_data['y'].value_counts(normalize=True)"
      ],
      "execution_count": null,
      "outputs": [
        {
          "output_type": "execute_result",
          "data": {
            "text/plain": [
              "5    0.2\n",
              "4    0.2\n",
              "3    0.2\n",
              "2    0.2\n",
              "1    0.2\n",
              "Name: y, dtype: float64"
            ]
          },
          "metadata": {
            "tags": []
          },
          "execution_count": 11
        }
      ]
    },
    {
      "cell_type": "code",
      "metadata": {
        "colab": {
          "base_uri": "https://localhost:8080/",
          "height": 282
        },
        "id": "zDM2n_sqrY-p",
        "outputId": "397af62a-e902-4b0f-d7a4-184cf47fd577"
      },
      "source": [
        "plt.hist(epilepsie_data['y'],label='y')\n",
        "plt.legend()"
      ],
      "execution_count": null,
      "outputs": [
        {
          "output_type": "execute_result",
          "data": {
            "text/plain": [
              "<matplotlib.legend.Legend at 0x7f723e151990>"
            ]
          },
          "metadata": {
            "tags": []
          },
          "execution_count": 12
        },
        {
          "output_type": "display_data",
          "data": {
            "image/png": "[encoded data removed]",
            "text/plain": [
              "<Figure size 432x288 with 1 Axes>"
            ]
          },
          "metadata": {
            "tags": [],
            "needs_background": "light"
          }
        }
      ]
    },
    {
      "cell_type": "markdown",
      "metadata": {
        "id": "qXAo83GvGNny"
      },
      "source": [
        "#epilepsie courbes"
      ]
    },
    {
      "cell_type": "code",
      "metadata": {
        "id": "EPOuY-yL8Vlo"
      },
      "source": [
        "epilepsie_data=epilepsie_data.drop(['Unnamed: 0'],axis=1)"
      ],
      "execution_count": null,
      "outputs": []
    },
    {
      "cell_type": "code",
      "metadata": {
        "colab": {
          "base_uri": "https://localhost:8080/"
        },
        "id": "0dSPvMap8XX7",
        "outputId": "3d1d6fdc-de19-4675-e8f6-e08aa0574167"
      },
      "source": [
        "epilepsie_data.shape"
      ],
      "execution_count": null,
      "outputs": [
        {
          "output_type": "execute_result",
          "data": {
            "text/plain": [
              "(11500, 179)"
            ]
          },
          "metadata": {
            "tags": []
          },
          "execution_count": 94
        }
      ]
    },
    {
      "cell_type": "code",
      "metadata": {
        "id": "s41FZ8-k8IVT"
      },
      "source": [
        "ep1=epilepsie_data[epilepsie_data.y==1]\n",
        "ep2=epilepsie_data[epilepsie_data.y==2]\n",
        "ep3=epilepsie_data[epilepsie_data.y==3]\n",
        "ep4=epilepsie_data[epilepsie_data.y==4]\n",
        "ep5=epilepsie_data[epilepsie_data.y==5]"
      ],
      "execution_count": null,
      "outputs": []
    },
    {
      "cell_type": "code",
      "metadata": {
        "id": "4C-ED3F29AwE"
      },
      "source": [
        "a=ep1.iloc[1]\n",
        "b=ep2.iloc[1]\n",
        "c=ep3.iloc[1]\n",
        "d=ep4.iloc[1]\n",
        "e=ep5.iloc[1]\n"
      ],
      "execution_count": null,
      "outputs": []
    },
    {
      "cell_type": "code",
      "metadata": {
        "colab": {
          "base_uri": "https://localhost:8080/"
        },
        "id": "lH_qqukN8HKz",
        "outputId": "baa3956d-cda9-4589-cbe0-20553098c054"
      },
      "source": [
        "a"
      ],
      "execution_count": null,
      "outputs": [
        {
          "output_type": "execute_result",
          "data": {
            "text/plain": [
              "X1     -278\n",
              "X2     -246\n",
              "X3     -215\n",
              "X4     -191\n",
              "X5     -177\n",
              "       ... \n",
              "X175   -174\n",
              "X176   -125\n",
              "X177    -79\n",
              "X178    -40\n",
              "y         1\n",
              "Name: 8, Length: 179, dtype: int64"
            ]
          },
          "metadata": {
            "tags": []
          },
          "execution_count": 17
        }
      ]
    },
    {
      "cell_type": "code",
      "metadata": {
        "colab": {
          "base_uri": "https://localhost:8080/",
          "height": 282
        },
        "id": "Z7X5CvluGVRq",
        "outputId": "7d040531-5398-4bc3-d98e-58a2c70f7560"
      },
      "source": [
        "plt.plot(a,color='red')\n",
        "plt.tight_layout\n",
        "plt.gca()\n",
        "plt.legend(['epilepsie'],loc='upper left')\n",
        "plt.show"
      ],
      "execution_count": null,
      "outputs": [
        {
          "output_type": "execute_result",
          "data": {
            "text/plain": [
              "<function matplotlib.pyplot.show>"
            ]
          },
          "metadata": {
            "tags": []
          },
          "execution_count": 18
        },
        {
          "output_type": "display_data",
          "data": {
            "image/png": "[encoded data removed]",
            "text/plain": [
              "<Figure size 432x288 with 1 Axes>"
            ]
          },
          "metadata": {
            "tags": [],
            "needs_background": "light"
          }
        }
      ]
    },
    {
      "cell_type": "code",
      "metadata": {
        "colab": {
          "base_uri": "https://localhost:8080/",
          "height": 282
        },
        "id": "sjmWeUwtGexs",
        "outputId": "d2281b6a-1c24-4ef6-f18c-c59df11f845e"
      },
      "source": [
        "plt.plot(b,color='blue')\n",
        "plt.tight_layout\n",
        "plt.gca()\n",
        "plt.legend(['first condition'],loc='upper left')\n",
        "plt.show"
      ],
      "execution_count": null,
      "outputs": [
        {
          "output_type": "execute_result",
          "data": {
            "text/plain": [
              "<function matplotlib.pyplot.show>"
            ]
          },
          "metadata": {
            "tags": []
          },
          "execution_count": 19
        },
        {
          "output_type": "display_data",
          "data": {
            "image/png": "[encoded data removed]",
            "text/plain": [
              "<Figure size 432x288 with 1 Axes>"
            ]
          },
          "metadata": {
            "tags": [],
            "needs_background": "light"
          }
        }
      ]
    },
    {
      "cell_type": "code",
      "metadata": {
        "colab": {
          "base_uri": "https://localhost:8080/",
          "height": 282
        },
        "id": "EMYPDv4mGq7L",
        "outputId": "b9f81446-fc91-4ecf-ded4-d0822e4f7f36"
      },
      "source": [
        "plt.plot(c,color='green')\n",
        "plt.tight_layout\n",
        "plt.gca()\n",
        "plt.legend(['second condition'],loc='upper left')\n",
        "plt.show"
      ],
      "execution_count": null,
      "outputs": [
        {
          "output_type": "execute_result",
          "data": {
            "text/plain": [
              "<function matplotlib.pyplot.show>"
            ]
          },
          "metadata": {
            "tags": []
          },
          "execution_count": 20
        },
        {
          "output_type": "display_data",
          "data": {
            "image/png": "[encoded data removed]",
            "text/plain": [
              "<Figure size 432x288 with 1 Axes>"
            ]
          },
          "metadata": {
            "tags": [],
            "needs_background": "light"
          }
        }
      ]
    },
    {
      "cell_type": "code",
      "metadata": {
        "colab": {
          "base_uri": "https://localhost:8080/",
          "height": 283
        },
        "id": "72MdnOmaG937",
        "outputId": "18143dd9-861b-4781-ac4f-f022cd7309fb"
      },
      "source": [
        "plt.plot(d,color='yellow')\n",
        "plt.tight_layout\n",
        "plt.gca()\n",
        "plt.legend(['third condition'],loc='upper left')\n",
        "plt.show"
      ],
      "execution_count": null,
      "outputs": [
        {
          "output_type": "execute_result",
          "data": {
            "text/plain": [
              "<function matplotlib.pyplot.show>"
            ]
          },
          "metadata": {
            "tags": []
          },
          "execution_count": 21
        },
        {
          "output_type": "display_data",
          "data": {
            "image/png": "[encoded data removed]",
            "text/plain": [
              "<Figure size 432x288 with 1 Axes>"
            ]
          },
          "metadata": {
            "tags": [],
            "needs_background": "light"
          }
        }
      ]
    },
    {
      "cell_type": "code",
      "metadata": {
        "colab": {
          "base_uri": "https://localhost:8080/",
          "height": 282
        },
        "id": "IOns_XkFHJHt",
        "outputId": "86078956-a984-49b3-f17a-35a88af93f8a"
      },
      "source": [
        "plt.plot(e,color='magenta')\n",
        "plt.tight_layout\n",
        "plt.gca()\n",
        "plt.legend(['fourth condition'],loc='upper left')\n",
        "plt.show"
      ],
      "execution_count": null,
      "outputs": [
        {
          "output_type": "execute_result",
          "data": {
            "text/plain": [
              "<function matplotlib.pyplot.show>"
            ]
          },
          "metadata": {
            "tags": []
          },
          "execution_count": 22
        },
        {
          "output_type": "display_data",
          "data": {
            "image/png": "[encoded data removed]",
            "text/plain": [
              "<Figure size 432x288 with 1 Axes>"
            ]
          },
          "metadata": {
            "tags": [],
            "needs_background": "light"
          }
        }
      ]
    },
    {
      "cell_type": "code",
      "metadata": {
        "colab": {
          "base_uri": "https://localhost:8080/",
          "height": 282
        },
        "id": "aGgwmLqr-0K8",
        "outputId": "7d3dd111-8394-414b-e2ee-ced943c9090d"
      },
      "source": [
        "plt.plot(a,color='red')\n",
        "plt.plot(b,color='blue')\n",
        "plt.plot(c,color='green')\n",
        "plt.plot(d,color='yellow')\n",
        "plt.plot(e,color='magenta')\n",
        "plt.tight_layout\n",
        "plt.gca()\n",
        "plt.legend(['epilepsie','first condition','second condition','third condition','fourth condition'],loc='upper left')\n",
        "plt.show"
      ],
      "execution_count": null,
      "outputs": [
        {
          "output_type": "execute_result",
          "data": {
            "text/plain": [
              "<function matplotlib.pyplot.show>"
            ]
          },
          "metadata": {
            "tags": []
          },
          "execution_count": 23
        },
        {
          "output_type": "display_data",
          "data": {
            "image/png": "[encoded data removed]",
            "text/plain": [
              "<Figure size 432x288 with 1 Axes>"
            ]
          },
          "metadata": {
            "tags": [],
            "needs_background": "light"
          }
        }
      ]
    },
    {
      "cell_type": "code",
      "metadata": {
        "colab": {
          "base_uri": "https://localhost:8080/",
          "height": 282
        },
        "id": "Jm3Ps_7gDr-1",
        "outputId": "9c81b01a-79e2-486a-9dc9-c8ad49d76672"
      },
      "source": [
        "fig,(ax1,ax2,ax3,ax4,ax5) = plt.subplots(nrows=5)\n",
        "ax1.plot(a,color='red')\n",
        "ax2.plot(b,color='blue')\n",
        "ax3.plot(c,color='green')\n",
        "ax4.plot(d,color='yellow')\n",
        "ax5.plot(e,color='magenta')\n",
        "plt.tight_layout\n",
        "plt.gca()\n",
        "plt.show"
      ],
      "execution_count": null,
      "outputs": [
        {
          "output_type": "execute_result",
          "data": {
            "text/plain": [
              "<function matplotlib.pyplot.show>"
            ]
          },
          "metadata": {
            "tags": []
          },
          "execution_count": 24
        },
        {
          "output_type": "display_data",
          "data": {
            "image/png": "[encoded data removed]",
            "text/plain": [
              "<Figure size 432x288 with 5 Axes>"
            ]
          },
          "metadata": {
            "tags": [],
            "needs_background": "light"
          }
        }
      ]
    },
    {
      "cell_type": "markdown",
      "metadata": {
        "id": "uGz4R4wJ9BMQ"
      },
      "source": [
        "#training"
      ]
    },
    {
      "cell_type": "code",
      "metadata": {
        "id": "e_EVPT9-woUq"
      },
      "source": [
        "X=epilepsie_data.iloc[:,0:178]\n",
        "Y=epilepsie_data['y']\n",
        "X=X.values\n",
        "Y=Y.values"
      ],
      "execution_count": null,
      "outputs": []
    },
    {
      "cell_type": "code",
      "metadata": {
        "colab": {
          "base_uri": "https://localhost:8080/"
        },
        "id": "3Y2I51eh9KBD",
        "outputId": "d1edb26c-af8f-4ea1-ef3d-35dd29876f90"
      },
      "source": [
        "Y"
      ],
      "execution_count": null,
      "outputs": [
        {
          "output_type": "execute_result",
          "data": {
            "text/plain": [
              "array([4, 1, 5, ..., 5, 3, 4])"
            ]
          },
          "metadata": {
            "tags": []
          },
          "execution_count": 96
        }
      ]
    },
    {
      "cell_type": "code",
      "metadata": {
        "id": "_oHfLUDF9ME1"
      },
      "source": [
        "Xtrain,Xtest,Ytrain,Ytest = train_test_split(X,Y,test_size=0.1,random_state=1)"
      ],
      "execution_count": null,
      "outputs": []
    },
    {
      "cell_type": "code",
      "metadata": {
        "colab": {
          "base_uri": "https://localhost:8080/"
        },
        "id": "7impMDzL9VAz",
        "outputId": "b282354c-a71d-41de-81e7-92984afdbd90"
      },
      "source": [
        "Xtrain.shape"
      ],
      "execution_count": null,
      "outputs": [
        {
          "output_type": "execute_result",
          "data": {
            "text/plain": [
              "(10350, 178)"
            ]
          },
          "metadata": {
            "tags": []
          },
          "execution_count": 98
        }
      ]
    },
    {
      "cell_type": "code",
      "metadata": {
        "id": "_hQmgZ_t9ZHK"
      },
      "source": [
        "Xtrain=Xtrain.reshape(Xtrain.shape[0],Xtrain.shape[1],1).astype('float32')\n",
        "Xtest=Xtest.reshape(Xtest.shape[0],Xtrain.shape[1],1).astype('float32')\n",
        "input_shape=(Xtrain.shape[1],1)"
      ],
      "execution_count": null,
      "outputs": []
    },
    {
      "cell_type": "code",
      "metadata": {
        "id": "e8YqmYDO9ank"
      },
      "source": [
        "Xtrain /=255.0\n",
        "Xtest /=255.0"
      ],
      "execution_count": null,
      "outputs": []
    },
    {
      "cell_type": "code",
      "metadata": {
        "colab": {
          "base_uri": "https://localhost:8080/"
        },
        "id": "S6tMep4X9hom",
        "outputId": "9d6a6023-4e8b-444b-e835-f58c87ce9684"
      },
      "source": [
        "Ytrain.shape"
      ],
      "execution_count": null,
      "outputs": [
        {
          "output_type": "execute_result",
          "data": {
            "text/plain": [
              "(10350,)"
            ]
          },
          "metadata": {
            "tags": []
          },
          "execution_count": 101
        }
      ]
    },
    {
      "cell_type": "code",
      "metadata": {
        "id": "d-Lf3myw9mAQ"
      },
      "source": [
        "Ytrain_one_hot = np_utils.to_categorical(Ytrain)\n",
        "Ytest_one_hot = np_utils.to_categorical(Ytest)"
      ],
      "execution_count": null,
      "outputs": []
    },
    {
      "cell_type": "markdown",
      "metadata": {
        "id": "TRtexHxa9oSJ"
      },
      "source": [
        "#CNN Model"
      ]
    },
    {
      "cell_type": "code",
      "metadata": {
        "id": "oKwq7KUd9qDi"
      },
      "source": [
        "model = Sequential()\n",
        "model.add(Conv1D(64,kernel_size=3,activation='relu',strides=1,input_shape=(Xtrain.shape[1],Xtrain.shape[2])))\n",
        "model.add(MaxPooling1D(pool_size=2,strides=2))\n",
        "\n",
        "model.add(Conv1D(128,kernel_size=3,activation='relu'))\n",
        "model.add(Conv1D(512,kernel_size=3,activation='relu'))\n",
        "model.add(Conv1D(1024,kernel_size=3,activation='relu'))\n",
        "\n",
        "model.add(Flatten())\n",
        "x = model.output\n",
        "x=Dense(256,activation='relu')(x)\n",
        "x=Dropout(0.3)(x)\n",
        "x=Dense(256,activation='relu')(x)\n",
        "#x=Dropout(0.3)(x)\n",
        "x=Dense(128,activation='relu')(x)\n",
        "#x=Dropout(0.2)(x)\n",
        "x=Dense(64,activation='relu')(x)\n",
        "\n",
        "prediction_layer = Dense(Ytrain_one_hot.shape[1], activation = 'softmax')(x)"
      ],
      "execution_count": null,
      "outputs": []
    },
    {
      "cell_type": "code",
      "metadata": {
        "id": "MOxEzOjW92aY"
      },
      "source": [
        "from keras.models import Model"
      ],
      "execution_count": null,
      "outputs": []
    },
    {
      "cell_type": "code",
      "metadata": {
        "id": "EZaoVT_U92pe"
      },
      "source": [
        "cnn_model = Model(inputs=model.input,outputs=prediction_layer)"
      ],
      "execution_count": null,
      "outputs": []
    },
    {
      "cell_type": "code",
      "metadata": {
        "colab": {
          "base_uri": "https://localhost:8080/"
        },
        "id": "ZBVYw7L-9_BI",
        "outputId": "97ab473d-a93a-4ef5-f57d-1e5bf664862f"
      },
      "source": [
        "cnn_model.summary()"
      ],
      "execution_count": null,
      "outputs": [
        {
          "output_type": "stream",
          "text": [
            "Model: \"model\"\n",
            "_________________________________________________________________\n",
            "Layer (type)                 Output Shape              Param #   \n",
            "=================================================================\n",
            "conv1d_input (InputLayer)    [(None, 178, 1)]          0         \n",
            "_________________________________________________________________\n",
            "conv1d (Conv1D)              (None, 176, 64)           256       \n",
            "_________________________________________________________________\n",
            "max_pooling1d (MaxPooling1D) (None, 88, 64)            0         \n",
            "_________________________________________________________________\n",
            "conv1d_1 (Conv1D)            (None, 86, 128)           24704     \n",
            "_________________________________________________________________\n",
            "conv1d_2 (Conv1D)            (None, 84, 512)           197120    \n",
            "_________________________________________________________________\n",
            "conv1d_3 (Conv1D)            (None, 82, 1024)          1573888   \n",
            "_________________________________________________________________\n",
            "flatten (Flatten)            (None, 83968)             0         \n",
            "_________________________________________________________________\n",
            "dense (Dense)                (None, 256)               21496064  \n",
            "_________________________________________________________________\n",
            "dropout (Dropout)            (None, 256)               0         \n",
            "_________________________________________________________________\n",
            "dense_1 (Dense)              (None, 256)               65792     \n",
            "_________________________________________________________________\n",
            "dense_2 (Dense)              (None, 128)               32896     \n",
            "_________________________________________________________________\n",
            "dense_3 (Dense)              (None, 64)                8256      \n",
            "_________________________________________________________________\n",
            "dense_4 (Dense)              (None, 6)                 390       \n",
            "=================================================================\n",
            "Total params: 23,399,366\n",
            "Trainable params: 23,399,366\n",
            "Non-trainable params: 0\n",
            "_________________________________________________________________\n"
          ],
          "name": "stdout"
        }
      ]
    },
    {
      "cell_type": "code",
      "metadata": {
        "id": "UdVD4Lml-B1N"
      },
      "source": [
        "cnn_model.compile(loss=keras.losses.categorical_crossentropy,optimizer=keras.optimizers.Adam(),metrics=['accuracy'])"
      ],
      "execution_count": null,
      "outputs": []
    },
    {
      "cell_type": "code",
      "metadata": {
        "id": "Co2Nr0zq-KBu"
      },
      "source": [
        "batch_size = 1350 #elements contains\n",
        "epochs = 50"
      ],
      "execution_count": null,
      "outputs": []
    },
    {
      "cell_type": "code",
      "metadata": {
        "colab": {
          "base_uri": "https://localhost:8080/"
        },
        "id": "xbeXPYjL-Oo_",
        "outputId": "52ea54f0-7d02-4211-8d62-f20d782ed5cb"
      },
      "source": [
        "history = cnn_model.fit(Xtrain,Ytrain_one_hot,batch_size = batch_size,epochs=epochs,verbose=1,validation_data=(Xtest,Ytest_one_hot))"
      ],
      "execution_count": null,
      "outputs": [
        {
          "output_type": "stream",
          "text": [
            "Epoch 1/50\n",
            "8/8 [==============================] - 52s 764ms/step - loss: 1.7308 - accuracy: 0.2169 - val_loss: 1.5257 - val_accuracy: 0.2539\n",
            "Epoch 2/50\n",
            "8/8 [==============================] - 3s 355ms/step - loss: 1.5037 - accuracy: 0.2379 - val_loss: 1.4368 - val_accuracy: 0.3809\n",
            "Epoch 3/50\n",
            "8/8 [==============================] - 3s 355ms/step - loss: 1.3893 - accuracy: 0.3878 - val_loss: 1.1918 - val_accuracy: 0.4183\n",
            "Epoch 4/50\n",
            "8/8 [==============================] - 3s 357ms/step - loss: 1.1726 - accuracy: 0.4446 - val_loss: 1.0729 - val_accuracy: 0.4522\n",
            "Epoch 5/50\n",
            "8/8 [==============================] - 3s 359ms/step - loss: 1.0623 - accuracy: 0.4949 - val_loss: 0.9745 - val_accuracy: 0.5365\n",
            "Epoch 6/50\n",
            "8/8 [==============================] - 3s 362ms/step - loss: 0.9424 - accuracy: 0.5693 - val_loss: 0.8452 - val_accuracy: 0.6026\n",
            "Epoch 7/50\n",
            "8/8 [==============================] - 3s 361ms/step - loss: 0.8713 - accuracy: 0.6019 - val_loss: 0.8467 - val_accuracy: 0.6148\n",
            "Epoch 8/50\n",
            "8/8 [==============================] - 3s 364ms/step - loss: 0.8234 - accuracy: 0.6222 - val_loss: 0.7731 - val_accuracy: 0.6400\n",
            "Epoch 9/50\n",
            "8/8 [==============================] - 3s 364ms/step - loss: 0.7666 - accuracy: 0.6552 - val_loss: 0.7371 - val_accuracy: 0.6548\n",
            "Epoch 10/50\n",
            "8/8 [==============================] - 3s 364ms/step - loss: 0.7422 - accuracy: 0.6674 - val_loss: 0.7628 - val_accuracy: 0.6435\n",
            "Epoch 11/50\n",
            "8/8 [==============================] - 3s 365ms/step - loss: 0.7312 - accuracy: 0.6585 - val_loss: 0.6897 - val_accuracy: 0.6704\n",
            "Epoch 12/50\n",
            "8/8 [==============================] - 3s 365ms/step - loss: 0.6871 - accuracy: 0.6846 - val_loss: 0.6560 - val_accuracy: 0.6922\n",
            "Epoch 13/50\n",
            "8/8 [==============================] - 3s 365ms/step - loss: 0.6518 - accuracy: 0.6986 - val_loss: 0.6398 - val_accuracy: 0.6870\n",
            "Epoch 14/50\n",
            "8/8 [==============================] - 3s 365ms/step - loss: 0.6404 - accuracy: 0.7046 - val_loss: 0.6082 - val_accuracy: 0.7096\n",
            "Epoch 15/50\n",
            "8/8 [==============================] - 3s 368ms/step - loss: 0.5999 - accuracy: 0.7183 - val_loss: 0.5973 - val_accuracy: 0.7035\n",
            "Epoch 16/50\n",
            "8/8 [==============================] - 3s 370ms/step - loss: 0.5721 - accuracy: 0.7281 - val_loss: 0.6029 - val_accuracy: 0.7061\n",
            "Epoch 17/50\n",
            "8/8 [==============================] - 3s 370ms/step - loss: 0.5737 - accuracy: 0.7267 - val_loss: 0.6001 - val_accuracy: 0.7191\n",
            "Epoch 18/50\n",
            "8/8 [==============================] - 3s 369ms/step - loss: 0.5599 - accuracy: 0.7305 - val_loss: 0.5649 - val_accuracy: 0.7548\n",
            "Epoch 19/50\n",
            "8/8 [==============================] - 3s 370ms/step - loss: 0.5349 - accuracy: 0.7460 - val_loss: 0.5782 - val_accuracy: 0.7235\n",
            "Epoch 20/50\n",
            "8/8 [==============================] - 3s 373ms/step - loss: 0.5397 - accuracy: 0.7489 - val_loss: 0.6376 - val_accuracy: 0.7017\n",
            "Epoch 21/50\n",
            "8/8 [==============================] - 3s 373ms/step - loss: 0.5492 - accuracy: 0.7410 - val_loss: 0.5838 - val_accuracy: 0.7217\n",
            "Epoch 22/50\n",
            "8/8 [==============================] - 3s 372ms/step - loss: 0.4994 - accuracy: 0.7668 - val_loss: 0.5608 - val_accuracy: 0.7470\n",
            "Epoch 23/50\n",
            "8/8 [==============================] - 3s 374ms/step - loss: 0.4794 - accuracy: 0.7794 - val_loss: 0.5505 - val_accuracy: 0.7652\n",
            "Epoch 24/50\n",
            "8/8 [==============================] - 3s 375ms/step - loss: 0.4827 - accuracy: 0.7746 - val_loss: 0.5692 - val_accuracy: 0.7565\n",
            "Epoch 25/50\n",
            "8/8 [==============================] - 3s 375ms/step - loss: 0.4511 - accuracy: 0.7935 - val_loss: 0.5702 - val_accuracy: 0.7635\n",
            "Epoch 26/50\n",
            "8/8 [==============================] - 3s 377ms/step - loss: 0.4501 - accuracy: 0.7946 - val_loss: 0.6024 - val_accuracy: 0.7243\n",
            "Epoch 27/50\n",
            "8/8 [==============================] - 3s 383ms/step - loss: 0.4213 - accuracy: 0.8088 - val_loss: 0.5905 - val_accuracy: 0.7296\n",
            "Epoch 28/50\n",
            "8/8 [==============================] - 3s 379ms/step - loss: 0.4030 - accuracy: 0.8135 - val_loss: 0.6008 - val_accuracy: 0.7496\n",
            "Epoch 29/50\n",
            "8/8 [==============================] - 3s 380ms/step - loss: 0.3942 - accuracy: 0.8239 - val_loss: 0.5861 - val_accuracy: 0.7626\n",
            "Epoch 30/50\n",
            "8/8 [==============================] - 3s 380ms/step - loss: 0.3821 - accuracy: 0.8289 - val_loss: 0.6600 - val_accuracy: 0.7374\n",
            "Epoch 31/50\n",
            "8/8 [==============================] - 3s 380ms/step - loss: 0.3701 - accuracy: 0.8379 - val_loss: 0.5785 - val_accuracy: 0.7678\n",
            "Epoch 32/50\n",
            "8/8 [==============================] - 3s 380ms/step - loss: 0.3258 - accuracy: 0.8579 - val_loss: 0.5924 - val_accuracy: 0.7704\n",
            "Epoch 33/50\n",
            "8/8 [==============================] - 3s 380ms/step - loss: 0.3050 - accuracy: 0.8663 - val_loss: 0.6017 - val_accuracy: 0.7765\n",
            "Epoch 34/50\n",
            "8/8 [==============================] - 3s 382ms/step - loss: 0.2902 - accuracy: 0.8681 - val_loss: 0.6091 - val_accuracy: 0.7791\n",
            "Epoch 35/50\n",
            "8/8 [==============================] - 3s 388ms/step - loss: 0.2990 - accuracy: 0.8722 - val_loss: 0.6750 - val_accuracy: 0.7809\n",
            "Epoch 36/50\n",
            "8/8 [==============================] - 3s 382ms/step - loss: 0.2558 - accuracy: 0.8898 - val_loss: 0.6936 - val_accuracy: 0.7591\n",
            "Epoch 37/50\n",
            "8/8 [==============================] - 3s 383ms/step - loss: 0.2409 - accuracy: 0.8991 - val_loss: 0.7638 - val_accuracy: 0.7591\n",
            "Epoch 38/50\n",
            "8/8 [==============================] - 3s 385ms/step - loss: 0.2340 - accuracy: 0.9034 - val_loss: 0.7223 - val_accuracy: 0.7843\n",
            "Epoch 39/50\n",
            "8/8 [==============================] - 3s 384ms/step - loss: 0.2042 - accuracy: 0.9183 - val_loss: 0.7213 - val_accuracy: 0.7661\n",
            "Epoch 40/50\n",
            "8/8 [==============================] - 3s 385ms/step - loss: 0.1791 - accuracy: 0.9273 - val_loss: 0.7303 - val_accuracy: 0.7939\n",
            "Epoch 41/50\n",
            "8/8 [==============================] - 3s 384ms/step - loss: 0.1617 - accuracy: 0.9307 - val_loss: 0.8070 - val_accuracy: 0.7843\n",
            "Epoch 42/50\n",
            "8/8 [==============================] - 3s 385ms/step - loss: 0.1570 - accuracy: 0.9383 - val_loss: 0.8373 - val_accuracy: 0.7843\n",
            "Epoch 43/50\n",
            "8/8 [==============================] - 3s 387ms/step - loss: 0.1494 - accuracy: 0.9396 - val_loss: 0.8562 - val_accuracy: 0.7739\n",
            "Epoch 44/50\n",
            "8/8 [==============================] - 3s 387ms/step - loss: 0.1263 - accuracy: 0.9480 - val_loss: 0.9814 - val_accuracy: 0.7661\n",
            "Epoch 45/50\n",
            "8/8 [==============================] - 3s 388ms/step - loss: 0.1471 - accuracy: 0.9389 - val_loss: 0.9437 - val_accuracy: 0.7504\n",
            "Epoch 46/50\n",
            "8/8 [==============================] - 3s 388ms/step - loss: 0.1742 - accuracy: 0.9294 - val_loss: 0.8206 - val_accuracy: 0.7800\n",
            "Epoch 47/50\n",
            "8/8 [==============================] - 3s 387ms/step - loss: 0.1448 - accuracy: 0.9440 - val_loss: 0.8558 - val_accuracy: 0.7635\n",
            "Epoch 48/50\n",
            "8/8 [==============================] - 3s 387ms/step - loss: 0.1220 - accuracy: 0.9535 - val_loss: 0.9007 - val_accuracy: 0.7757\n",
            "Epoch 49/50\n",
            "8/8 [==============================] - 3s 394ms/step - loss: 0.0862 - accuracy: 0.9667 - val_loss: 0.9150 - val_accuracy: 0.7861\n",
            "Epoch 50/50\n",
            "8/8 [==============================] - 3s 390ms/step - loss: 0.0757 - accuracy: 0.9705 - val_loss: 1.0550 - val_accuracy: 0.7835\n"
          ],
          "name": "stdout"
        }
      ]
    },
    {
      "cell_type": "code",
      "metadata": {
        "colab": {
          "base_uri": "https://localhost:8080/"
        },
        "id": "O4exw0II_hQy",
        "outputId": "6b363be4-c0f2-4cf7-bdb2-471e5bb9f684"
      },
      "source": [
        "score = cnn_model.evaluate(Xtrain,Ytrain_one_hot,verbose=0)\n",
        "print('test loss = ',score[0])\n",
        "print('accuracy = ',score[1])"
      ],
      "execution_count": null,
      "outputs": [
        {
          "output_type": "stream",
          "text": [
            "test loss =  0.028359251096844673\n",
            "accuracy =  0.9936231970787048\n"
          ],
          "name": "stdout"
        }
      ]
    },
    {
      "cell_type": "code",
      "metadata": {
        "colab": {
          "base_uri": "https://localhost:8080/"
        },
        "id": "vKhSY13XAAgv",
        "outputId": "a5bb7dda-6af6-4067-ae82-5f69e2476bbd"
      },
      "source": [
        "score = cnn_model.evaluate(Xtest,Ytest_one_hot,verbose=0)\n",
        "print('test loss = ',score[0])\n",
        "print('accuracy = ',score[1])"
      ],
      "execution_count": null,
      "outputs": [
        {
          "output_type": "stream",
          "text": [
            "test loss =  1.0549522638320923\n",
            "accuracy =  0.7834782600402832\n"
          ],
          "name": "stdout"
        }
      ]
    },
    {
      "cell_type": "code",
      "metadata": {
        "colab": {
          "base_uri": "https://localhost:8080/",
          "height": 332
        },
        "id": "k2BlRQFZAwaG",
        "outputId": "e275806e-e0a4-4f1b-8110-8bc27d1bf730"
      },
      "source": [
        "print(history.history)\n",
        "plt.plot(history.history['accuracy'])\n",
        "plt.plot(history.history['val_accuracy'])\n",
        "plt.title('model accuracy')\n",
        "plt.ylabel('accuracy')\n",
        "plt.xlabel('epoch')\n",
        "plt.legend(['train','test'],loc='upper left')\n",
        "#plt.legend(['test'],loc='upper left')\n",
        "plt.show()"
      ],
      "execution_count": null,
      "outputs": [
        {
          "output_type": "stream",
          "text": [
            "{'loss': [1.6902791261672974, 1.4890295267105103, 1.350880742073059, 1.147655963897705, 1.039940357208252, 0.933671236038208, 0.8688127398490906, 0.8088306784629822, 0.7639641761779785, 0.7282403707504272, 0.7199921011924744, 0.6869845986366272, 0.6425777077674866, 0.6332743167877197, 0.5952708125114441, 0.5760007500648499, 0.5680028200149536, 0.5601000785827637, 0.539156973361969, 0.5574908256530762, 0.5368598103523254, 0.4973125159740448, 0.48255541920661926, 0.4745887517929077, 0.4475170373916626, 0.4479634761810303, 0.4185433089733124, 0.4081985056400299, 0.39796772599220276, 0.38277068734169006, 0.3585193157196045, 0.3285123407840729, 0.2992858290672302, 0.2895711064338684, 0.296021044254303, 0.2558956444263458, 0.249547079205513, 0.22685091197490692, 0.19891813397407532, 0.18169161677360535, 0.16223224997520447, 0.1570398211479187, 0.151364266872406, 0.13253076374530792, 0.1558491736650467, 0.16899287700653076, 0.1406024694442749, 0.11735653132200241, 0.08851706236600876, 0.07416647672653198], 'accuracy': [0.2450241595506668, 0.25681158900260925, 0.4000000059604645, 0.4555555582046509, 0.5159420371055603, 0.5725603699684143, 0.6036714911460876, 0.6324637532234192, 0.6551690697669983, 0.6714009642601013, 0.6669565439224243, 0.6853139996528625, 0.7049275636672974, 0.707632839679718, 0.7191304564476013, 0.7272464036941528, 0.7331401109695435, 0.7318840622901917, 0.7437680959701538, 0.7449275255203247, 0.7507246136665344, 0.7679226994514465, 0.7778744101524353, 0.7796135544776917, 0.7942029237747192, 0.7953622937202454, 0.8088889122009277, 0.8114009499549866, 0.8245410919189453, 0.8273429870605469, 0.8433816432952881, 0.8540096879005432, 0.8685990571975708, 0.8708212375640869, 0.8718840479850769, 0.8910145163536072, 0.8941062688827515, 0.9071497321128845, 0.9198067784309387, 0.9249275326728821, 0.9297584295272827, 0.9371980428695679, 0.9383574724197388, 0.9458937048912048, 0.9365217685699463, 0.9328502416610718, 0.944637656211853, 0.95545893907547, 0.966183602809906, 0.9705314040184021], 'val_loss': [1.5257420539855957, 1.4367666244506836, 1.1917866468429565, 1.0729328393936157, 0.9744580984115601, 0.8452398180961609, 0.8466991782188416, 0.7730931043624878, 0.7370578050613403, 0.7627983689308167, 0.689708411693573, 0.6559907793998718, 0.6398439407348633, 0.6081582903862, 0.5973488688468933, 0.6028894782066345, 0.6001104116439819, 0.5648643374443054, 0.578179121017456, 0.6376386284828186, 0.5838189721107483, 0.560756266117096, 0.5504876375198364, 0.569218635559082, 0.5702263116836548, 0.6023838520050049, 0.5904637575149536, 0.6007582545280457, 0.5861278176307678, 0.6599794030189514, 0.5785270929336548, 0.5924307703971863, 0.6016870141029358, 0.6090915203094482, 0.6749562621116638, 0.6936424970626831, 0.763820469379425, 0.722318172454834, 0.7213180661201477, 0.7303367257118225, 0.8069713115692139, 0.8372616767883301, 0.8562309741973877, 0.9814455509185791, 0.9436780214309692, 0.8205761909484863, 0.8557528257369995, 0.9006540775299072, 0.9150404334068298, 1.0549530982971191], 'val_accuracy': [0.2539130449295044, 0.3808695673942566, 0.4182608723640442, 0.4521739184856415, 0.5365217328071594, 0.6026086807250977, 0.6147826313972473, 0.6399999856948853, 0.6547825932502747, 0.643478274345398, 0.6704347729682922, 0.6921738982200623, 0.686956524848938, 0.7095652222633362, 0.7034782767295837, 0.7060869336128235, 0.7191304564476013, 0.7547826170921326, 0.7234782576560974, 0.7017391324043274, 0.7217391133308411, 0.7469565272331238, 0.7652173638343811, 0.7565217614173889, 0.7634782791137695, 0.7243478298187256, 0.7295652031898499, 0.7495652437210083, 0.7626087069511414, 0.7373912930488586, 0.7678260803222656, 0.7704347968101501, 0.7765217423439026, 0.7791304588317871, 0.7808695435523987, 0.7591304183006287, 0.7591304183006287, 0.7843478322029114, 0.7660869359970093, 0.7939130663871765, 0.7843478322029114, 0.7843478322029114, 0.7739130258560181, 0.7660869359970093, 0.7504347562789917, 0.7799999713897705, 0.7634782791137695, 0.7756521701812744, 0.7860869765281677, 0.7834782600402832]}\n"
          ],
          "name": "stdout"
        },
        {
          "output_type": "display_data",
          "data": {
            "image/png": "[encoded data removed]",
            "text/plain": [
              "<Figure size 432x288 with 1 Axes>"
            ]
          },
          "metadata": {
            "tags": [],
            "needs_background": "light"
          }
        }
      ]
    },
    {
      "cell_type": "code",
      "metadata": {
        "colab": {
          "base_uri": "https://localhost:8080/",
          "height": 295
        },
        "id": "RF6hytp4A6nq",
        "outputId": "c7911e2c-1c8e-445f-a2cf-09128ed55441"
      },
      "source": [
        "plt.plot(history.history['loss'])\n",
        "plt.plot(history.history['val_loss'])\n",
        "plt.title('model loss')\n",
        "plt.ylabel('loss')\n",
        "plt.xlabel('epoch')\n",
        "plt.legend(['train','test'],loc='upper left')\n",
        "plt.show()"
      ],
      "execution_count": null,
      "outputs": [
        {
          "output_type": "display_data",
          "data": {
            "image/png": "[encoded data removed]",
            "text/plain": [
              "<Figure size 432x288 with 1 Axes>"
            ]
          },
          "metadata": {
            "tags": [],
            "needs_background": "light"
          }
        }
      ]
    },
    {
      "cell_type": "code",
      "metadata": {
        "id": "PwmOpUKBG8oM"
      },
      "source": [
        "y_pred = cnn_model.predict(Xtest)\n",
        "y_pred = np.argmax(y_pred,axis=-1)"
      ],
      "execution_count": null,
      "outputs": []
    },
    {
      "cell_type": "code",
      "metadata": {
        "id": "FJIAHLb4HGJs"
      },
      "source": [
        "from sklearn.metrics import confusion_matrix, classification_report"
      ],
      "execution_count": null,
      "outputs": []
    },
    {
      "cell_type": "code",
      "metadata": {
        "id": "Xvws5zBqHQJ_"
      },
      "source": [
        "cm = confusion_matrix(Ytest, y_pred)"
      ],
      "execution_count": null,
      "outputs": []
    },
    {
      "cell_type": "code",
      "metadata": {
        "colab": {
          "base_uri": "https://localhost:8080/",
          "height": 282
        },
        "id": "4qsFMVomHUFH",
        "outputId": "89aa591e-6609-461b-9ca4-f693b9959fd7"
      },
      "source": [
        "sns.heatmap(cm,annot=True,fmt='g')"
      ],
      "execution_count": null,
      "outputs": [
        {
          "output_type": "execute_result",
          "data": {
            "text/plain": [
              "<matplotlib.axes._subplots.AxesSubplot at 0x7f2e1ed04d50>"
            ]
          },
          "metadata": {
            "tags": []
          },
          "execution_count": 29
        },
        {
          "output_type": "display_data",
          "data": {
            "image/png": "[encoded data removed]",
            "text/plain": [
              "<Figure size 432x288 with 2 Axes>"
            ]
          },
          "metadata": {
            "tags": [],
            "needs_background": "light"
          }
        }
      ]
    },
    {
      "cell_type": "code",
      "metadata": {
        "colab": {
          "base_uri": "https://localhost:8080/"
        },
        "id": "6aKFsdNKNLy1",
        "outputId": "07aa816a-0048-45bc-d5d9-a4c34416c2d9"
      },
      "source": [
        "cp = classification_report(Ytest,y_pred)\n",
        "print(cp)\n",
        "#print(classification_report(Ytrain_one_hot,y_pred))"
      ],
      "execution_count": null,
      "outputs": [
        {
          "output_type": "stream",
          "text": [
            "              precision    recall  f1-score   support\n",
            "\n",
            "           1       0.97      0.95      0.96       241\n",
            "           2       0.76      0.71      0.74       250\n",
            "           3       0.73      0.69      0.71       217\n",
            "           4       0.73      0.81      0.77       204\n",
            "           5       0.71      0.75      0.73       238\n",
            "\n",
            "    accuracy                           0.78      1150\n",
            "   macro avg       0.78      0.78      0.78      1150\n",
            "weighted avg       0.79      0.78      0.78      1150\n",
            "\n"
          ],
          "name": "stdout"
        }
      ]
    },
    {
      "cell_type": "markdown",
      "metadata": {
        "id": "rmS4NenOHX_G"
      },
      "source": [
        "#CNN_LSTM_Model"
      ]
    },
    {
      "cell_type": "code",
      "metadata": {
        "id": "JRWfzRYPHaV4"
      },
      "source": [
        "from keras.layers import LSTM"
      ],
      "execution_count": null,
      "outputs": []
    },
    {
      "cell_type": "code",
      "metadata": {
        "id": "dKsavTzDHfXS"
      },
      "source": [
        "model_LSTM = Sequential()\n",
        "model_LSTM.add(Conv1D(64,kernel_size=3,activation='relu',strides=1,input_shape=(Xtrain.shape[1],Xtrain.shape[2])))\n",
        "model_LSTM.add(MaxPooling1D(pool_size=2,strides=2))\n",
        "\n",
        "model_LSTM.add(Conv1D(128,kernel_size=3,activation='relu'))\n",
        "model_LSTM.add(Conv1D(512,kernel_size=3,activation='relu'))\n",
        "model_LSTM.add(Conv1D(1024,kernel_size=3,activation='relu'))\n",
        "\n",
        "#model.add(Flatten())\n",
        "model_LSTM.add(Dense(256,activation='relu'))\n",
        "model_LSTM.add(Dropout(0.2))\n",
        "model_LSTM.add(LSTM(64,activation='tanh',return_sequences=True))\n",
        "model_LSTM.add(LSTM(64,activation='tanh'))\n",
        "model_LSTM.add(Dense(256,activation='relu'))\n",
        "model_LSTM.add(Dense(128,activation='relu'))\n",
        "model_LSTM.add(Dense(64,activation='relu'))\n",
        "model_LSTM.add(Dense(Ytrain_one_hot.shape[1], activation = 'softmax'))\n"
      ],
      "execution_count": null,
      "outputs": []
    },
    {
      "cell_type": "code",
      "metadata": {
        "colab": {
          "base_uri": "https://localhost:8080/"
        },
        "id": "279V4dHveECL",
        "outputId": "faaf9947-5ef5-42b1-898d-5bd3c918e05d"
      },
      "source": [
        "model_LSTM.summary()"
      ],
      "execution_count": null,
      "outputs": [
        {
          "output_type": "stream",
          "text": [
            "Model: \"sequential_5\"\n",
            "_________________________________________________________________\n",
            "Layer (type)                 Output Shape              Param #   \n",
            "=================================================================\n",
            "conv1d_20 (Conv1D)           (None, 176, 64)           256       \n",
            "_________________________________________________________________\n",
            "max_pooling1d_5 (MaxPooling1 (None, 88, 64)            0         \n",
            "_________________________________________________________________\n",
            "conv1d_21 (Conv1D)           (None, 86, 128)           24704     \n",
            "_________________________________________________________________\n",
            "conv1d_22 (Conv1D)           (None, 84, 512)           197120    \n",
            "_________________________________________________________________\n",
            "conv1d_23 (Conv1D)           (None, 82, 1024)          1573888   \n",
            "_________________________________________________________________\n",
            "dense_25 (Dense)             (None, 82, 256)           262400    \n",
            "_________________________________________________________________\n",
            "dropout_5 (Dropout)          (None, 82, 256)           0         \n",
            "_________________________________________________________________\n",
            "lstm_8 (LSTM)                (None, 82, 64)            82176     \n",
            "_________________________________________________________________\n",
            "lstm_9 (LSTM)                (None, 64)                33024     \n",
            "_________________________________________________________________\n",
            "dense_26 (Dense)             (None, 256)               16640     \n",
            "_________________________________________________________________\n",
            "dense_27 (Dense)             (None, 128)               32896     \n",
            "_________________________________________________________________\n",
            "dense_28 (Dense)             (None, 64)                8256      \n",
            "_________________________________________________________________\n",
            "dense_29 (Dense)             (None, 6)                 390       \n",
            "=================================================================\n",
            "Total params: 2,231,750\n",
            "Trainable params: 2,231,750\n",
            "Non-trainable params: 0\n",
            "_________________________________________________________________\n"
          ],
          "name": "stdout"
        }
      ]
    },
    {
      "cell_type": "code",
      "metadata": {
        "id": "4VeDskmwHorC"
      },
      "source": [
        "model_LSTM.compile(loss=keras.losses.categorical_crossentropy,optimizer=keras.optimizers.Adam(),metrics=['accuracy'])"
      ],
      "execution_count": null,
      "outputs": []
    },
    {
      "cell_type": "code",
      "metadata": {
        "id": "i2HIlF8jHtv-"
      },
      "source": [
        "batch_size = 1350 #elements contains\n",
        "epochs = 50"
      ],
      "execution_count": null,
      "outputs": []
    },
    {
      "cell_type": "code",
      "metadata": {
        "colab": {
          "base_uri": "https://localhost:8080/"
        },
        "id": "OvC8s1tpHxfm",
        "outputId": "e902fc60-a83a-4376-9aef-7abc04e71dd5"
      },
      "source": [
        "history_LSTM = model_LSTM.fit(Xtrain,Ytrain_one_hot,batch_size = batch_size,epochs=epochs,verbose=1,validation_data=(Xtest,Ytest_one_hot))"
      ],
      "execution_count": null,
      "outputs": [
        {
          "output_type": "stream",
          "text": [
            "Epoch 1/50\n",
            "8/8 [==============================] - 12s 578ms/step - loss: 1.7358 - accuracy: 0.1562 - val_loss: 1.5110 - val_accuracy: 0.3261\n",
            "Epoch 2/50\n",
            "8/8 [==============================] - 3s 420ms/step - loss: 1.4825 - accuracy: 0.3800 - val_loss: 1.3259 - val_accuracy: 0.3965\n",
            "Epoch 3/50\n",
            "8/8 [==============================] - 3s 425ms/step - loss: 1.2500 - accuracy: 0.4433 - val_loss: 1.1329 - val_accuracy: 0.4843\n",
            "Epoch 4/50\n",
            "8/8 [==============================] - 3s 425ms/step - loss: 1.1425 - accuracy: 0.4731 - val_loss: 1.1115 - val_accuracy: 0.4791\n",
            "Epoch 5/50\n",
            "8/8 [==============================] - 3s 426ms/step - loss: 1.0923 - accuracy: 0.5021 - val_loss: 1.1596 - val_accuracy: 0.4661\n",
            "Epoch 6/50\n",
            "8/8 [==============================] - 3s 428ms/step - loss: 1.0875 - accuracy: 0.5087 - val_loss: 1.0655 - val_accuracy: 0.4878\n",
            "Epoch 7/50\n",
            "8/8 [==============================] - 3s 429ms/step - loss: 1.0161 - accuracy: 0.5408 - val_loss: 0.9895 - val_accuracy: 0.5487\n",
            "Epoch 8/50\n",
            "8/8 [==============================] - 3s 428ms/step - loss: 0.9834 - accuracy: 0.5529 - val_loss: 0.9732 - val_accuracy: 0.5670\n",
            "Epoch 9/50\n",
            "8/8 [==============================] - 3s 432ms/step - loss: 0.9549 - accuracy: 0.5722 - val_loss: 0.9972 - val_accuracy: 0.5374\n",
            "Epoch 10/50\n",
            "8/8 [==============================] - 3s 431ms/step - loss: 0.9542 - accuracy: 0.5838 - val_loss: 0.9163 - val_accuracy: 0.5843\n",
            "Epoch 11/50\n",
            "8/8 [==============================] - 3s 432ms/step - loss: 0.8921 - accuracy: 0.6071 - val_loss: 0.8845 - val_accuracy: 0.5957\n",
            "Epoch 12/50\n",
            "8/8 [==============================] - 3s 434ms/step - loss: 0.8585 - accuracy: 0.6241 - val_loss: 0.8625 - val_accuracy: 0.6000\n",
            "Epoch 13/50\n",
            "8/8 [==============================] - 3s 434ms/step - loss: 0.8512 - accuracy: 0.6205 - val_loss: 0.8504 - val_accuracy: 0.6122\n",
            "Epoch 14/50\n",
            "8/8 [==============================] - 3s 436ms/step - loss: 0.8165 - accuracy: 0.6326 - val_loss: 0.7901 - val_accuracy: 0.6270\n",
            "Epoch 15/50\n",
            "8/8 [==============================] - 3s 438ms/step - loss: 0.7940 - accuracy: 0.6419 - val_loss: 0.7790 - val_accuracy: 0.6417\n",
            "Epoch 16/50\n",
            "8/8 [==============================] - 3s 438ms/step - loss: 0.7665 - accuracy: 0.6515 - val_loss: 0.7824 - val_accuracy: 0.6400\n",
            "Epoch 17/50\n",
            "8/8 [==============================] - 4s 439ms/step - loss: 0.7558 - accuracy: 0.6614 - val_loss: 0.7431 - val_accuracy: 0.6504\n",
            "Epoch 18/50\n",
            "8/8 [==============================] - 4s 439ms/step - loss: 0.7357 - accuracy: 0.6626 - val_loss: 0.6992 - val_accuracy: 0.6574\n",
            "Epoch 19/50\n",
            "8/8 [==============================] - 4s 440ms/step - loss: 0.6877 - accuracy: 0.6853 - val_loss: 0.6755 - val_accuracy: 0.6661\n",
            "Epoch 20/50\n",
            "8/8 [==============================] - 4s 442ms/step - loss: 0.6420 - accuracy: 0.7006 - val_loss: 0.6431 - val_accuracy: 0.7017\n",
            "Epoch 21/50\n",
            "8/8 [==============================] - 4s 444ms/step - loss: 0.6325 - accuracy: 0.7059 - val_loss: 0.6464 - val_accuracy: 0.6983\n",
            "Epoch 22/50\n",
            "8/8 [==============================] - 4s 442ms/step - loss: 0.6300 - accuracy: 0.7111 - val_loss: 0.7034 - val_accuracy: 0.6696\n",
            "Epoch 23/50\n",
            "8/8 [==============================] - 4s 443ms/step - loss: 0.6764 - accuracy: 0.6844 - val_loss: 0.6451 - val_accuracy: 0.6930\n",
            "Epoch 24/50\n",
            "8/8 [==============================] - 4s 444ms/step - loss: 0.6306 - accuracy: 0.7055 - val_loss: 0.6226 - val_accuracy: 0.7078\n",
            "Epoch 25/50\n",
            "8/8 [==============================] - 4s 443ms/step - loss: 0.6075 - accuracy: 0.7156 - val_loss: 0.6332 - val_accuracy: 0.6930\n",
            "Epoch 26/50\n",
            "8/8 [==============================] - 4s 444ms/step - loss: 0.6265 - accuracy: 0.7031 - val_loss: 0.6194 - val_accuracy: 0.7026\n",
            "Epoch 27/50\n",
            "8/8 [==============================] - 4s 446ms/step - loss: 0.5953 - accuracy: 0.7263 - val_loss: 0.6267 - val_accuracy: 0.7139\n",
            "Epoch 28/50\n",
            "8/8 [==============================] - 4s 448ms/step - loss: 0.5817 - accuracy: 0.7237 - val_loss: 0.6091 - val_accuracy: 0.7191\n",
            "Epoch 29/50\n",
            "8/8 [==============================] - 4s 444ms/step - loss: 0.5867 - accuracy: 0.7243 - val_loss: 0.5935 - val_accuracy: 0.7122\n",
            "Epoch 30/50\n",
            "8/8 [==============================] - 4s 445ms/step - loss: 0.5729 - accuracy: 0.7309 - val_loss: 0.5771 - val_accuracy: 0.7209\n",
            "Epoch 31/50\n",
            "8/8 [==============================] - 4s 446ms/step - loss: 0.5649 - accuracy: 0.7395 - val_loss: 0.5829 - val_accuracy: 0.7113\n",
            "Epoch 32/50\n",
            "8/8 [==============================] - 4s 446ms/step - loss: 0.5625 - accuracy: 0.7294 - val_loss: 0.5774 - val_accuracy: 0.7191\n",
            "Epoch 33/50\n",
            "8/8 [==============================] - 4s 444ms/step - loss: 0.5492 - accuracy: 0.7459 - val_loss: 0.5506 - val_accuracy: 0.7357\n",
            "Epoch 34/50\n",
            "8/8 [==============================] - 4s 446ms/step - loss: 0.5385 - accuracy: 0.7447 - val_loss: 0.5471 - val_accuracy: 0.7426\n",
            "Epoch 35/50\n",
            "8/8 [==============================] - 4s 444ms/step - loss: 0.5517 - accuracy: 0.7363 - val_loss: 0.5499 - val_accuracy: 0.7243\n",
            "Epoch 36/50\n",
            "8/8 [==============================] - 4s 445ms/step - loss: 0.5278 - accuracy: 0.7494 - val_loss: 0.5467 - val_accuracy: 0.7365\n",
            "Epoch 37/50\n",
            "8/8 [==============================] - 4s 446ms/step - loss: 0.5232 - accuracy: 0.7504 - val_loss: 0.5451 - val_accuracy: 0.7365\n",
            "Epoch 38/50\n",
            "8/8 [==============================] - 4s 444ms/step - loss: 0.5434 - accuracy: 0.7425 - val_loss: 0.5937 - val_accuracy: 0.7217\n",
            "Epoch 39/50\n",
            "8/8 [==============================] - 4s 444ms/step - loss: 0.5499 - accuracy: 0.7428 - val_loss: 0.5650 - val_accuracy: 0.7374\n",
            "Epoch 40/50\n",
            "8/8 [==============================] - 4s 443ms/step - loss: 0.5482 - accuracy: 0.7401 - val_loss: 0.5706 - val_accuracy: 0.7278\n",
            "Epoch 41/50\n",
            "8/8 [==============================] - 4s 444ms/step - loss: 0.5439 - accuracy: 0.7397 - val_loss: 0.5495 - val_accuracy: 0.7322\n",
            "Epoch 42/50\n",
            "8/8 [==============================] - 4s 444ms/step - loss: 0.5433 - accuracy: 0.7392 - val_loss: 0.5367 - val_accuracy: 0.7278\n",
            "Epoch 43/50\n",
            "8/8 [==============================] - 4s 443ms/step - loss: 0.5351 - accuracy: 0.7402 - val_loss: 0.5534 - val_accuracy: 0.7278\n",
            "Epoch 44/50\n",
            "8/8 [==============================] - 4s 443ms/step - loss: 0.5271 - accuracy: 0.7377 - val_loss: 0.5423 - val_accuracy: 0.7217\n",
            "Epoch 45/50\n",
            "8/8 [==============================] - 4s 442ms/step - loss: 0.5306 - accuracy: 0.7440 - val_loss: 0.5521 - val_accuracy: 0.7400\n",
            "Epoch 46/50\n",
            "8/8 [==============================] - 4s 443ms/step - loss: 0.5171 - accuracy: 0.7495 - val_loss: 0.5373 - val_accuracy: 0.7409\n",
            "Epoch 47/50\n",
            "8/8 [==============================] - 4s 444ms/step - loss: 0.5290 - accuracy: 0.7393 - val_loss: 0.5837 - val_accuracy: 0.7078\n",
            "Epoch 48/50\n",
            "8/8 [==============================] - 4s 443ms/step - loss: 0.5589 - accuracy: 0.7274 - val_loss: 0.5385 - val_accuracy: 0.7270\n",
            "Epoch 49/50\n",
            "8/8 [==============================] - 4s 443ms/step - loss: 0.5202 - accuracy: 0.7478 - val_loss: 0.5406 - val_accuracy: 0.7365\n",
            "Epoch 50/50\n",
            "8/8 [==============================] - 4s 442ms/step - loss: 0.5087 - accuracy: 0.7640 - val_loss: 0.5084 - val_accuracy: 0.7617\n"
          ],
          "name": "stdout"
        }
      ]
    },
    {
      "cell_type": "code",
      "metadata": {
        "colab": {
          "base_uri": "https://localhost:8080/"
        },
        "id": "NLlI-gzDIzog",
        "outputId": "04eb3d2b-ee7e-4e59-97a7-f986c0db4e26"
      },
      "source": [
        "score = model_LSTM.evaluate(Xtrain,Ytrain_one_hot,verbose=0)\n",
        "print('test loss = ',score[0])\n",
        "print('accuracy = ',score[1])"
      ],
      "execution_count": null,
      "outputs": [
        {
          "output_type": "stream",
          "text": [
            "test loss =  0.4908849000930786\n",
            "accuracy =  0.7708212733268738\n"
          ],
          "name": "stdout"
        }
      ]
    },
    {
      "cell_type": "code",
      "metadata": {
        "colab": {
          "base_uri": "https://localhost:8080/"
        },
        "id": "gqqO_8sjI7G8",
        "outputId": "ac7516c9-48c2-4c6f-8e04-424dafc3be7f"
      },
      "source": [
        "score = model_LSTM.evaluate(Xtest,Ytest_one_hot,verbose=0)\n",
        "print('test loss = ',score[0])\n",
        "print('accuracy = ',score[1])"
      ],
      "execution_count": null,
      "outputs": [
        {
          "output_type": "stream",
          "text": [
            "test loss =  0.5084302425384521\n",
            "accuracy =  0.7617391347885132\n"
          ],
          "name": "stdout"
        }
      ]
    },
    {
      "cell_type": "code",
      "metadata": {
        "colab": {
          "base_uri": "https://localhost:8080/",
          "height": 295
        },
        "id": "T2FyXvITJBdK",
        "outputId": "3e4b3ea8-09a3-4cc8-9636-331c17e61378"
      },
      "source": [
        "#print(history_LSTM.history)\n",
        "plt.plot(history_LSTM.history['accuracy'])\n",
        "plt.plot(history_LSTM.history['val_accuracy'])\n",
        "plt.title('model accuracy')\n",
        "plt.ylabel('accuracy')\n",
        "plt.xlabel('epoch')\n",
        "plt.legend(['train','test'],loc='upper left')\n",
        "#plt.legend(['test'],loc='upper left')\n",
        "plt.show()"
      ],
      "execution_count": null,
      "outputs": [
        {
          "output_type": "display_data",
          "data": {
            "image/png": "[encoded data removed]",
            "text/plain": [
              "<Figure size 432x288 with 1 Axes>"
            ]
          },
          "metadata": {
            "tags": [],
            "needs_background": "light"
          }
        }
      ]
    },
    {
      "cell_type": "code",
      "metadata": {
        "colab": {
          "base_uri": "https://localhost:8080/",
          "height": 295
        },
        "id": "ay7_7pEhJI-m",
        "outputId": "66dfc0d0-e904-4e98-d601-d0cfd96b9427"
      },
      "source": [
        "plt.plot(history_LSTM.history['loss'])\n",
        "plt.plot(history_LSTM.history['val_loss'])\n",
        "plt.title('model loss')\n",
        "plt.ylabel('loss')\n",
        "plt.xlabel('epoch')\n",
        "plt.legend(['train','test'],loc='upper left')\n",
        "plt.show()"
      ],
      "execution_count": null,
      "outputs": [
        {
          "output_type": "display_data",
          "data": {
            "image/png": "[encoded data removed]",
            "text/plain": [
              "<Figure size 432x288 with 1 Axes>"
            ]
          },
          "metadata": {
            "tags": [],
            "needs_background": "light"
          }
        }
      ]
    },
    {
      "cell_type": "code",
      "metadata": {
        "id": "2y7qVwyPJQOK"
      },
      "source": [
        "y_pred = model_LSTM.predict(Xtest)\n",
        "y_pred = np.argmax(y_pred,axis=-1)"
      ],
      "execution_count": null,
      "outputs": []
    },
    {
      "cell_type": "code",
      "metadata": {
        "colab": {
          "base_uri": "https://localhost:8080/"
        },
        "id": "afD1pk-yJTe0",
        "outputId": "0a19c857-161c-4386-fbd4-8aed56eb5719"
      },
      "source": [
        "cm = confusion_matrix(Ytest, y_pred)\n",
        "print(cm)"
      ],
      "execution_count": null,
      "outputs": [
        {
          "output_type": "stream",
          "text": [
            "[[237   2   2   0   0]\n",
            " [  4 152  76   1  17]\n",
            " [  2  69 132   2  12]\n",
            " [  0   3   3 153  45]\n",
            " [  0   4   7  25 202]]\n"
          ],
          "name": "stdout"
        }
      ]
    },
    {
      "cell_type": "code",
      "metadata": {
        "colab": {
          "base_uri": "https://localhost:8080/",
          "height": 282
        },
        "id": "94tnQrO2JhUb",
        "outputId": "e053d504-cf5e-41e7-8af3-7c5f1232f5bf"
      },
      "source": [
        "sns.heatmap(cm,annot=True,fmt='g')"
      ],
      "execution_count": null,
      "outputs": [
        {
          "output_type": "execute_result",
          "data": {
            "text/plain": [
              "<matplotlib.axes._subplots.AxesSubplot at 0x7f2e26c16d50>"
            ]
          },
          "metadata": {
            "tags": []
          },
          "execution_count": 42
        },
        {
          "output_type": "display_data",
          "data": {
            "image/png": "[encoded data removed]",
            "text/plain": [
              "<Figure size 432x288 with 2 Axes>"
            ]
          },
          "metadata": {
            "tags": [],
            "needs_background": "light"
          }
        }
      ]
    },
    {
      "cell_type": "code",
      "metadata": {
        "colab": {
          "base_uri": "https://localhost:8080/"
        },
        "id": "eJLA0BLcSki-",
        "outputId": "c1d0d3ea-e094-4c15-debc-290007b951cb"
      },
      "source": [
        "cp = classification_report(Ytest,y_pred)\n",
        "print(cp)"
      ],
      "execution_count": null,
      "outputs": [
        {
          "output_type": "stream",
          "text": [
            "              precision    recall  f1-score   support\n",
            "\n",
            "           1       0.98      0.98      0.98       241\n",
            "           2       0.66      0.61      0.63       250\n",
            "           3       0.60      0.61      0.60       217\n",
            "           4       0.85      0.75      0.79       204\n",
            "           5       0.73      0.85      0.79       238\n",
            "\n",
            "    accuracy                           0.76      1150\n",
            "   macro avg       0.76      0.76      0.76      1150\n",
            "weighted avg       0.76      0.76      0.76      1150\n",
            "\n"
          ],
          "name": "stdout"
        }
      ]
    },
    {
      "cell_type": "markdown",
      "metadata": {
        "id": "5RrOaDG8Jo_X"
      },
      "source": [
        "#CNN & CNN_LSTM Courbe"
      ]
    },
    {
      "cell_type": "code",
      "metadata": {
        "colab": {
          "base_uri": "https://localhost:8080/",
          "height": 295
        },
        "id": "0rC5pkyXJs9e",
        "outputId": "4a44fb1d-b4e4-44d2-dba5-71465f2fe5bc"
      },
      "source": [
        "plt.plot(history_LSTM.history['val_accuracy'])\n",
        "plt.plot(history.history['val_accuracy'])\n",
        "plt.title('model accuracy')\n",
        "plt.ylabel('accuracy')\n",
        "plt.xlabel('epoch')\n",
        "plt.legend(['CNN_LSTM_Model','CNN_Model'],loc='upper left')\n",
        "plt.show()"
      ],
      "execution_count": null,
      "outputs": [
        {
          "output_type": "display_data",
          "data": {
            "image/png": "[encoded data removed]",
            "text/plain": [
              "<Figure size 432x288 with 1 Axes>"
            ]
          },
          "metadata": {
            "tags": [],
            "needs_background": "light"
          }
        }
      ]
    },
    {
      "cell_type": "code",
      "metadata": {
        "colab": {
          "base_uri": "https://localhost:8080/",
          "height": 295
        },
        "id": "qndRzUttJ2y0",
        "outputId": "ade34998-6edc-46c5-d8eb-4a1ea4b43ca1"
      },
      "source": [
        "plt.plot(history_LSTM.history['val_loss'])\n",
        "plt.plot(history.history['val_loss'])\n",
        "plt.title('model loss')\n",
        "plt.ylabel('loss')\n",
        "plt.xlabel('epoch')\n",
        "plt.legend(['CNN_LSTM_Model','CNN_Model'],loc='upper left')\n",
        "plt.show()"
      ],
      "execution_count": null,
      "outputs": [
        {
          "output_type": "display_data",
          "data": {
            "image/png": "[encoded data removed]",
            "text/plain": [
              "<Figure size 432x288 with 1 Axes>"
            ]
          },
          "metadata": {
            "tags": [],
            "needs_background": "light"
          }
        }
      ]
    },
    {
      "cell_type": "markdown",
      "metadata": {
        "id": "zqE83qAVJ9AS"
      },
      "source": [
        "#CNN_SVM"
      ]
    },
    {
      "cell_type": "code",
      "metadata": {
        "id": "YuO2kBW2J6Cx"
      },
      "source": [
        "X_for_SVM = cnn_model.predict(Xtrain)"
      ],
      "execution_count": null,
      "outputs": []
    },
    {
      "cell_type": "code",
      "metadata": {
        "id": "endgPtXQKJw4"
      },
      "source": [
        "from sklearn.svm import SVC"
      ],
      "execution_count": null,
      "outputs": []
    },
    {
      "cell_type": "code",
      "metadata": {
        "id": "gzrYCEbGKNbD"
      },
      "source": [
        "SVM_model = SVC(gamma='auto',C=150,kernel='linear')"
      ],
      "execution_count": null,
      "outputs": []
    },
    {
      "cell_type": "code",
      "metadata": {
        "colab": {
          "base_uri": "https://localhost:8080/"
        },
        "id": "6fTuxMkjKQ8V",
        "outputId": "fe33c205-d413-4f93-b7a2-bf91532f1389"
      },
      "source": [
        "SVM_model.fit(X_for_SVM,Ytrain)"
      ],
      "execution_count": null,
      "outputs": [
        {
          "output_type": "execute_result",
          "data": {
            "text/plain": [
              "SVC(C=150, break_ties=False, cache_size=200, class_weight=None, coef0=0.0,\n",
              "    decision_function_shape='ovr', degree=3, gamma='auto', kernel='linear',\n",
              "    max_iter=-1, probability=False, random_state=None, shrinking=True,\n",
              "    tol=0.001, verbose=False)"
            ]
          },
          "metadata": {
            "tags": []
          },
          "execution_count": 49
        }
      ]
    },
    {
      "cell_type": "code",
      "metadata": {
        "id": "lE1X0VibKRL1"
      },
      "source": [
        "X_test_features = cnn_model.predict(Xtest)"
      ],
      "execution_count": null,
      "outputs": []
    },
    {
      "cell_type": "code",
      "metadata": {
        "id": "gZ4hs1TwWTQ5"
      },
      "source": [
        "prediction_SVM = SVM_model.predict(X_test_features)"
      ],
      "execution_count": null,
      "outputs": []
    },
    {
      "cell_type": "code",
      "metadata": {
        "id": "PiRtG42PWYFS"
      },
      "source": [
        "from sklearn import metrics"
      ],
      "execution_count": null,
      "outputs": []
    },
    {
      "cell_type": "code",
      "metadata": {
        "colab": {
          "base_uri": "https://localhost:8080/"
        },
        "id": "oaYo5aoOWbtj",
        "outputId": "14a07df5-a172-4c35-b97d-5feaa2a07626"
      },
      "source": [
        "print (\"Accuracy = \", metrics.accuracy_score(Ytest, prediction_SVM))"
      ],
      "execution_count": null,
      "outputs": [
        {
          "output_type": "stream",
          "text": [
            "Accuracy =  0.7721739130434783\n"
          ],
          "name": "stdout"
        }
      ]
    },
    {
      "cell_type": "code",
      "metadata": {
        "colab": {
          "base_uri": "https://localhost:8080/"
        },
        "id": "f7oFnif8Wb9q",
        "outputId": "6ea2f013-c1d5-4f92-b87f-077903911a64"
      },
      "source": [
        "cm = confusion_matrix(Ytest, prediction_SVM)\n",
        "print(cm)"
      ],
      "execution_count": null,
      "outputs": [
        {
          "output_type": "stream",
          "text": [
            "[[230   6   1   4   0]\n",
            " [  6 180  48   3  13]\n",
            " [  1  46 149   5  16]\n",
            " [  0   3   0 169  32]\n",
            " [  0   4   6  68 160]]\n"
          ],
          "name": "stdout"
        }
      ]
    },
    {
      "cell_type": "code",
      "metadata": {
        "colab": {
          "base_uri": "https://localhost:8080/",
          "height": 282
        },
        "id": "I3-7SpVdWkbS",
        "outputId": "1c124ddc-4ff3-4315-a0d6-73d4235944d6"
      },
      "source": [
        "sns.heatmap(cm, annot=True,fmt='g')"
      ],
      "execution_count": null,
      "outputs": [
        {
          "output_type": "execute_result",
          "data": {
            "text/plain": [
              "<matplotlib.axes._subplots.AxesSubplot at 0x7f2e26014e50>"
            ]
          },
          "metadata": {
            "tags": []
          },
          "execution_count": 55
        },
        {
          "output_type": "display_data",
          "data": {
            "image/png": "[encoded data removed]",
            "text/plain": [
              "<Figure size 432x288 with 2 Axes>"
            ]
          },
          "metadata": {
            "tags": [],
            "needs_background": "light"
          }
        }
      ]
    },
    {
      "cell_type": "code",
      "metadata": {
        "colab": {
          "base_uri": "https://localhost:8080/"
        },
        "id": "PXWpeV1RW5jk",
        "outputId": "85fd1359-417e-4a3a-ffc0-5abeeebd3598"
      },
      "source": [
        "cp = classification_report(Ytest,prediction_SVM)\n",
        "print(cp)"
      ],
      "execution_count": null,
      "outputs": [
        {
          "output_type": "stream",
          "text": [
            "              precision    recall  f1-score   support\n",
            "\n",
            "           1       0.97      0.95      0.96       241\n",
            "           2       0.75      0.72      0.74       250\n",
            "           3       0.73      0.69      0.71       217\n",
            "           4       0.68      0.83      0.75       204\n",
            "           5       0.72      0.67      0.70       238\n",
            "\n",
            "    accuracy                           0.77      1150\n",
            "   macro avg       0.77      0.77      0.77      1150\n",
            "weighted avg       0.78      0.77      0.77      1150\n",
            "\n"
          ],
          "name": "stdout"
        }
      ]
    },
    {
      "cell_type": "markdown",
      "metadata": {
        "id": "grSrY4G-XA1_"
      },
      "source": [
        "#CNN_RF"
      ]
    },
    {
      "cell_type": "code",
      "metadata": {
        "id": "Ky32qQEeXCpE"
      },
      "source": [
        "X_For_RF = cnn_model.predict(Xtrain)"
      ],
      "execution_count": null,
      "outputs": []
    },
    {
      "cell_type": "code",
      "metadata": {
        "id": "zRECMa3KXJ4F"
      },
      "source": [
        "from sklearn.ensemble import RandomForestClassifier"
      ],
      "execution_count": null,
      "outputs": []
    },
    {
      "cell_type": "code",
      "metadata": {
        "id": "xbKDjJtjXKFn"
      },
      "source": [
        "RF_model = RandomForestClassifier(n_estimators=200,criterion='entropy',random_state=42)"
      ],
      "execution_count": null,
      "outputs": []
    },
    {
      "cell_type": "code",
      "metadata": {
        "colab": {
          "base_uri": "https://localhost:8080/"
        },
        "id": "5jqII4R9XRjh",
        "outputId": "7b5c5e18-e981-4c4a-9597-324c439adea7"
      },
      "source": [
        "RF_model.fit(X_For_RF,Ytrain)"
      ],
      "execution_count": null,
      "outputs": [
        {
          "output_type": "execute_result",
          "data": {
            "text/plain": [
              "RandomForestClassifier(bootstrap=True, ccp_alpha=0.0, class_weight=None,\n",
              "                       criterion='entropy', max_depth=None, max_features='auto',\n",
              "                       max_leaf_nodes=None, max_samples=None,\n",
              "                       min_impurity_decrease=0.0, min_impurity_split=None,\n",
              "                       min_samples_leaf=1, min_samples_split=2,\n",
              "                       min_weight_fraction_leaf=0.0, n_estimators=200,\n",
              "                       n_jobs=None, oob_score=False, random_state=42, verbose=0,\n",
              "                       warm_start=False)"
            ]
          },
          "metadata": {
            "tags": []
          },
          "execution_count": 60
        }
      ]
    },
    {
      "cell_type": "code",
      "metadata": {
        "id": "PhBOcskQXRvb"
      },
      "source": [
        "X_test_features = cnn_model.predict(Xtest)"
      ],
      "execution_count": null,
      "outputs": []
    },
    {
      "cell_type": "code",
      "metadata": {
        "id": "WL5HSdDrXR8i"
      },
      "source": [
        "prediction_RF = RF_model.predict(X_test_features)"
      ],
      "execution_count": null,
      "outputs": []
    },
    {
      "cell_type": "code",
      "metadata": {
        "colab": {
          "base_uri": "https://localhost:8080/"
        },
        "id": "SGRHEwleXeEZ",
        "outputId": "ec354822-91e3-48ba-efe0-3c3834b44453"
      },
      "source": [
        "print (\"Accuracy = \", metrics.accuracy_score(Ytest, prediction_RF))"
      ],
      "execution_count": null,
      "outputs": [
        {
          "output_type": "stream",
          "text": [
            "Accuracy =  0.7678260869565218\n"
          ],
          "name": "stdout"
        }
      ]
    },
    {
      "cell_type": "code",
      "metadata": {
        "id": "8r9ZYoeIXhzb"
      },
      "source": [
        "cm = confusion_matrix(Ytest, prediction_RF)"
      ],
      "execution_count": null,
      "outputs": []
    },
    {
      "cell_type": "code",
      "metadata": {
        "colab": {
          "base_uri": "https://localhost:8080/",
          "height": 282
        },
        "id": "JkxA0hiHXnjx",
        "outputId": "62dddd38-b38b-47ba-d41d-8be526a0b5a0"
      },
      "source": [
        "sns.heatmap(cm, annot=True,fmt='g')"
      ],
      "execution_count": null,
      "outputs": [
        {
          "output_type": "execute_result",
          "data": {
            "text/plain": [
              "<matplotlib.axes._subplots.AxesSubplot at 0x7f2ca0056bd0>"
            ]
          },
          "metadata": {
            "tags": []
          },
          "execution_count": 65
        },
        {
          "output_type": "display_data",
          "data": {
            "image/png": "[encoded data removed]",
            "text/plain": [
              "<Figure size 432x288 with 2 Axes>"
            ]
          },
          "metadata": {
            "tags": [],
            "needs_background": "light"
          }
        }
      ]
    },
    {
      "cell_type": "code",
      "metadata": {
        "colab": {
          "base_uri": "https://localhost:8080/"
        },
        "id": "3-xCjzkbXvf7",
        "outputId": "b039bebb-af22-410a-8fa6-0067389a020c"
      },
      "source": [
        "cp = classification_report(Ytest,prediction_RF)\n",
        "print(cp)"
      ],
      "execution_count": null,
      "outputs": [
        {
          "output_type": "stream",
          "text": [
            "              precision    recall  f1-score   support\n",
            "\n",
            "           1       0.97      0.95      0.96       241\n",
            "           2       0.75      0.70      0.73       250\n",
            "           3       0.71      0.69      0.70       217\n",
            "           4       0.68      0.83      0.75       204\n",
            "           5       0.72      0.67      0.69       238\n",
            "\n",
            "    accuracy                           0.77      1150\n",
            "   macro avg       0.77      0.77      0.77      1150\n",
            "weighted avg       0.77      0.77      0.77      1150\n",
            "\n"
          ],
          "name": "stdout"
        }
      ]
    },
    {
      "cell_type": "markdown",
      "metadata": {
        "id": "vD77rgesYBA-"
      },
      "source": [
        "#Bar chart"
      ]
    },
    {
      "cell_type": "code",
      "metadata": {
        "colab": {
          "base_uri": "https://localhost:8080/",
          "height": 297
        },
        "id": "ZAdzQ7OnYGzw",
        "outputId": "0475636e-e156-42a8-cf82-58a49cf7e043"
      },
      "source": [
        "labels = ['CNN', 'CNN_LSTM']\n",
        "accuracy_training = [0.993,0.784]\n",
        "accuracy_val = [0.770, 0.761]\n",
        "\n",
        "x = np.arange(len(labels))  # the label locations\n",
        "width = 0.35  # the width of the bars\n",
        "\n",
        "fig, ax = plt.subplots()\n",
        "rects1 = ax.bar(x - width/2, accuracy_training, width, label='accuracy_training',color='red')\n",
        "rects2 = ax.bar(x + width/2, accuracy_val, width, label='accuracy_val')\n",
        "\n",
        "ax=plt.gca()\n",
        "for p in ax.patches:\n",
        "  ax.text(p.get_x()+p.get_width()/2,p.get_height(),'%.3f' % float(p.get_height()))\n",
        "\n",
        "# Add some text for labels, title and custom x-axis tick labels, etc.\n",
        "ax.set_ylabel('% accuracy')\n",
        "ax.set_title('Scores by model')\n",
        "ax.set_xticks(x)\n",
        "ax.set_xticklabels(labels)\n",
        "ax.legend()\n",
        "\n",
        "plt.ylim(0, 1.5) \n",
        "#ax.bar_label(rects1, padding=3)\n",
        "#ax.bar_label(rects2, padding=3)\n",
        "\n",
        "fig.tight_layout()\n",
        "\n",
        "plt.show()"
      ],
      "execution_count": null,
      "outputs": [
        {
          "output_type": "display_data",
          "data": {
            "image/png": "[encoded data removed]",
            "text/plain": [
              "<Figure size 432x288 with 1 Axes>"
            ]
          },
          "metadata": {
            "tags": [],
            "needs_background": "light"
          }
        }
      ]
    },
    {
      "cell_type": "code",
      "metadata": {
        "colab": {
          "base_uri": "https://localhost:8080/",
          "height": 297
        },
        "id": "11-OS_vMZabr",
        "outputId": "593e2d5e-9e59-4913-97dc-556559620a8c"
      },
      "source": [
        "labels = ['CNN', 'CNN_LSTM', 'CNN_SVM', 'CNN_RF']\n",
        "#twoClasss_Scores = [0.8713,0.8652,0.8704,0.8704]\n",
        "fiveClass_Scores = [0.770, 0.761, 0.772, 0.767]\n",
        "\n",
        "x = np.arange(len(labels))  # the label locations\n",
        "width = 0.35  # the width of the bars\n",
        "\n",
        "fig, ax = plt.subplots()\n",
        "#rects1 = ax.bar(x - width/2, twoClasss_Scores, width, label='TwoClasss_Scores',color='red')\n",
        "rects2 = ax.bar(x + width/2, fiveClass_Scores, width, label='fiveClass_Scores')\n",
        "\n",
        "ax=plt.gca()\n",
        "for p in ax.patches:\n",
        "  ax.text(p.get_x()+p.get_width()/2,p.get_height(),'%.3f' % float(p.get_height()))\n",
        "\n",
        "# Add some text for labels, title and custom x-axis tick labels, etc.\n",
        "ax.set_ylabel('% accuracy_val')\n",
        "ax.set_title('Scores by model')\n",
        "ax.set_xticks(x)\n",
        "ax.set_xticklabels(labels)\n",
        "ax.legend()\n",
        "\n",
        "plt.ylim(0.4, 1) \n",
        "#ax.bar_label(rects1, padding=3)\n",
        "#ax.bar_label(rects2, padding=3)\n",
        "\n",
        "fig.tight_layout()\n",
        "\n",
        "plt.show()"
      ],
      "execution_count": null,
      "outputs": [
        {
          "output_type": "display_data",
          "data": {
            "image/png": "[encoded data removed]",
            "text/plain": [
              "<Figure size 432x288 with 1 Axes>"
            ]
          },
          "metadata": {
            "tags": [],
            "needs_background": "light"
          }
        }
      ]
    },
    {
      "cell_type": "code",
      "metadata": {
        "colab": {
          "base_uri": "https://localhost:8080/",
          "height": 297
        },
        "id": "7mRWmVWRc1YP",
        "outputId": "a4c7faef-b9af-4ecb-b37f-11d72adab544"
      },
      "source": [
        "labels = ['CNN_LSTM32', 'CNN_LSTM64', 'CNN_LSTM128']\n",
        "#twoClasss_Scores = [0.8713,0.8652,0.8704,0.8704]\n",
        "CNN_LSTM_Scores = [0.724,0.761, 0.759]\n",
        "\n",
        "x = np.arange(len(labels))  # the label locations\n",
        "width = 0.35  # the width of the bars\n",
        "\n",
        "fig, ax = plt.subplots()\n",
        "#rects1 = ax.bar(x - width/2, twoClasss_Scores, width, label='TwoClasss_Scores',color='red')\n",
        "rects2 = ax.bar(x + width/2, CNN_LSTM_Scores, width, label='CNN_LSTM_Scores')\n",
        "\n",
        "ax=plt.gca()\n",
        "for p in ax.patches:\n",
        "  ax.text(p.get_x()+p.get_width()/2,p.get_height(),'%.3f' % float(p.get_height()))\n",
        "\n",
        "# Add some text for labels, title and custom x-axis tick labels, etc.\n",
        "ax.set_ylabel('% accuracy_val')\n",
        "ax.set_title('Scores by model')\n",
        "ax.set_xticks(x)\n",
        "ax.set_xticklabels(labels)\n",
        "ax.legend()\n",
        "\n",
        "plt.ylim(0.4, 1) \n",
        "#ax.bar_label(rects1, padding=3)\n",
        "#ax.bar_label(rects2, padding=3)\n",
        "\n",
        "fig.tight_layout()\n",
        "\n",
        "plt.show()"
      ],
      "execution_count": null,
      "outputs": [
        {
          "output_type": "display_data",
          "data": {
            "image/png": "[encoded data removed]",
            "text/plain": [
              "<Figure size 432x288 with 1 Axes>"
            ]
          },
          "metadata": {
            "tags": [],
            "needs_background": "light"
          }
        }
      ]
    },
    {
      "cell_type": "markdown",
      "metadata": {
        "id": "zeDuS4FOZvUw"
      },
      "source": [
        "#CNN_LSTM 32"
      ]
    },
    {
      "cell_type": "markdown",
      "metadata": {
        "id": "SMV78ScvbPuf"
      },
      "source": [
        "32 neurones"
      ]
    },
    {
      "cell_type": "code",
      "metadata": {
        "id": "Yqjra83rZySS"
      },
      "source": [
        "model_LSTM = Sequential()\n",
        "model_LSTM.add(Conv1D(64,kernel_size=3,activation='relu',strides=1,input_shape=(Xtrain.shape[1],Xtrain.shape[2])))\n",
        "model_LSTM.add(MaxPooling1D(pool_size=2,strides=2))\n",
        "\n",
        "model_LSTM.add(Conv1D(128,kernel_size=3,activation='relu'))\n",
        "model_LSTM.add(Conv1D(512,kernel_size=3,activation='relu'))\n",
        "model_LSTM.add(Conv1D(1024,kernel_size=3,activation='relu'))\n",
        "\n",
        "#model.add(Flatten())\n",
        "model_LSTM.add(Dense(256,activation='relu'))\n",
        "model_LSTM.add(Dropout(0.2))\n",
        "model_LSTM.add(LSTM(32,activation='tanh',return_sequences=True))\n",
        "model_LSTM.add(LSTM(32,activation='tanh'))\n",
        "model_LSTM.add(Dense(256,activation='relu'))\n",
        "model_LSTM.add(Dense(128,activation='relu'))\n",
        "model_LSTM.add(Dense(64,activation='relu'))\n",
        "model_LSTM.add(Dense(Ytrain_one_hot.shape[1], activation = 'softmax'))\n"
      ],
      "execution_count": null,
      "outputs": []
    },
    {
      "cell_type": "code",
      "metadata": {
        "id": "UeqK2eLFaGsJ"
      },
      "source": [
        "model_LSTM.compile(loss=keras.losses.categorical_crossentropy,optimizer=keras.optimizers.Adam(),metrics=['accuracy'])"
      ],
      "execution_count": null,
      "outputs": []
    },
    {
      "cell_type": "code",
      "metadata": {
        "id": "Cvig_u_maLPW"
      },
      "source": [
        "batch_size = 1350 #elements contains\n",
        "epochs = 50"
      ],
      "execution_count": null,
      "outputs": []
    },
    {
      "cell_type": "code",
      "metadata": {
        "colab": {
          "base_uri": "https://localhost:8080/"
        },
        "id": "sceyfNI0aPCx",
        "outputId": "c6fd4bce-86d2-45bf-feb1-839d0b8657c6"
      },
      "source": [
        "history_LSTM = model_LSTM.fit(Xtrain,Ytrain_one_hot,batch_size = batch_size,epochs=epochs,verbose=1,validation_data=(Xtest,Ytest_one_hot))"
      ],
      "execution_count": null,
      "outputs": [
        {
          "output_type": "stream",
          "text": [
            "Epoch 1/50\n",
            "8/8 [==============================] - 8s 536ms/step - loss: 1.7706 - accuracy: 0.1913 - val_loss: 1.6488 - val_accuracy: 0.2948\n",
            "Epoch 2/50\n",
            "8/8 [==============================] - 3s 391ms/step - loss: 1.5979 - accuracy: 0.3363 - val_loss: 1.4240 - val_accuracy: 0.4200\n",
            "Epoch 3/50\n",
            "8/8 [==============================] - 3s 394ms/step - loss: 1.3860 - accuracy: 0.4218 - val_loss: 1.2556 - val_accuracy: 0.4209\n",
            "Epoch 4/50\n",
            "8/8 [==============================] - 3s 396ms/step - loss: 1.2141 - accuracy: 0.4423 - val_loss: 1.1663 - val_accuracy: 0.4417\n",
            "Epoch 5/50\n",
            "8/8 [==============================] - 3s 396ms/step - loss: 1.1428 - accuracy: 0.4579 - val_loss: 1.0762 - val_accuracy: 0.4939\n",
            "Epoch 6/50\n",
            "8/8 [==============================] - 3s 398ms/step - loss: 1.0587 - accuracy: 0.5225 - val_loss: 1.0130 - val_accuracy: 0.5357\n",
            "Epoch 7/50\n",
            "8/8 [==============================] - 3s 400ms/step - loss: 1.0312 - accuracy: 0.5338 - val_loss: 1.0058 - val_accuracy: 0.5322\n",
            "Epoch 8/50\n",
            "8/8 [==============================] - 3s 401ms/step - loss: 0.9822 - accuracy: 0.5631 - val_loss: 0.9688 - val_accuracy: 0.5748\n",
            "Epoch 9/50\n",
            "8/8 [==============================] - 3s 404ms/step - loss: 0.9502 - accuracy: 0.5828 - val_loss: 0.9305 - val_accuracy: 0.5896\n",
            "Epoch 10/50\n",
            "8/8 [==============================] - 3s 404ms/step - loss: 0.9382 - accuracy: 0.5774 - val_loss: 0.9807 - val_accuracy: 0.5522\n",
            "Epoch 11/50\n",
            "8/8 [==============================] - 3s 403ms/step - loss: 0.9479 - accuracy: 0.5864 - val_loss: 0.8615 - val_accuracy: 0.6096\n",
            "Epoch 12/50\n",
            "8/8 [==============================] - 3s 405ms/step - loss: 0.8511 - accuracy: 0.6243 - val_loss: 0.8258 - val_accuracy: 0.6252\n",
            "Epoch 13/50\n",
            "8/8 [==============================] - 3s 405ms/step - loss: 0.8277 - accuracy: 0.6301 - val_loss: 0.7941 - val_accuracy: 0.6461\n",
            "Epoch 14/50\n",
            "8/8 [==============================] - 3s 407ms/step - loss: 0.7862 - accuracy: 0.6515 - val_loss: 0.8081 - val_accuracy: 0.6287\n",
            "Epoch 15/50\n",
            "8/8 [==============================] - 3s 406ms/step - loss: 0.7820 - accuracy: 0.6385 - val_loss: 0.7945 - val_accuracy: 0.6461\n",
            "Epoch 16/50\n",
            "8/8 [==============================] - 3s 409ms/step - loss: 0.7596 - accuracy: 0.6599 - val_loss: 0.7283 - val_accuracy: 0.6583\n",
            "Epoch 17/50\n",
            "8/8 [==============================] - 3s 409ms/step - loss: 0.7109 - accuracy: 0.6733 - val_loss: 0.6947 - val_accuracy: 0.6757\n",
            "Epoch 18/50\n",
            "8/8 [==============================] - 3s 410ms/step - loss: 0.7337 - accuracy: 0.6671 - val_loss: 0.7877 - val_accuracy: 0.6504\n",
            "Epoch 19/50\n",
            "8/8 [==============================] - 3s 410ms/step - loss: 0.7333 - accuracy: 0.6685 - val_loss: 0.7028 - val_accuracy: 0.6643\n",
            "Epoch 20/50\n",
            "8/8 [==============================] - 3s 415ms/step - loss: 0.6748 - accuracy: 0.6930 - val_loss: 0.6922 - val_accuracy: 0.6574\n",
            "Epoch 21/50\n",
            "8/8 [==============================] - 3s 413ms/step - loss: 0.6410 - accuracy: 0.6996 - val_loss: 0.6454 - val_accuracy: 0.6913\n",
            "Epoch 22/50\n",
            "8/8 [==============================] - 3s 413ms/step - loss: 0.6510 - accuracy: 0.6915 - val_loss: 0.6592 - val_accuracy: 0.6835\n",
            "Epoch 23/50\n",
            "8/8 [==============================] - 3s 415ms/step - loss: 0.6314 - accuracy: 0.7065 - val_loss: 0.6604 - val_accuracy: 0.6800\n",
            "Epoch 24/50\n",
            "8/8 [==============================] - 3s 414ms/step - loss: 0.6238 - accuracy: 0.7075 - val_loss: 0.6588 - val_accuracy: 0.6791\n",
            "Epoch 25/50\n",
            "8/8 [==============================] - 3s 415ms/step - loss: 0.6167 - accuracy: 0.7063 - val_loss: 0.6472 - val_accuracy: 0.6826\n",
            "Epoch 26/50\n",
            "8/8 [==============================] - 3s 415ms/step - loss: 0.6172 - accuracy: 0.7085 - val_loss: 0.6194 - val_accuracy: 0.6922\n",
            "Epoch 27/50\n",
            "8/8 [==============================] - 3s 417ms/step - loss: 0.6069 - accuracy: 0.7135 - val_loss: 0.6101 - val_accuracy: 0.7122\n",
            "Epoch 28/50\n",
            "8/8 [==============================] - 3s 418ms/step - loss: 0.6113 - accuracy: 0.7093 - val_loss: 0.6430 - val_accuracy: 0.6791\n",
            "Epoch 29/50\n",
            "8/8 [==============================] - 3s 418ms/step - loss: 0.6145 - accuracy: 0.7032 - val_loss: 0.6093 - val_accuracy: 0.6904\n",
            "Epoch 30/50\n",
            "8/8 [==============================] - 3s 419ms/step - loss: 0.6062 - accuracy: 0.7085 - val_loss: 0.6205 - val_accuracy: 0.7009\n",
            "Epoch 31/50\n",
            "8/8 [==============================] - 3s 420ms/step - loss: 0.5955 - accuracy: 0.7147 - val_loss: 0.6229 - val_accuracy: 0.6991\n",
            "Epoch 32/50\n",
            "8/8 [==============================] - 3s 420ms/step - loss: 0.6208 - accuracy: 0.7052 - val_loss: 0.6531 - val_accuracy: 0.6896\n",
            "Epoch 33/50\n",
            "8/8 [==============================] - 3s 420ms/step - loss: 0.6207 - accuracy: 0.7065 - val_loss: 0.6521 - val_accuracy: 0.6904\n",
            "Epoch 34/50\n",
            "8/8 [==============================] - 3s 421ms/step - loss: 0.6051 - accuracy: 0.7128 - val_loss: 0.6235 - val_accuracy: 0.6948\n",
            "Epoch 35/50\n",
            "8/8 [==============================] - 3s 422ms/step - loss: 0.5987 - accuracy: 0.7150 - val_loss: 0.6228 - val_accuracy: 0.7017\n",
            "Epoch 36/50\n",
            "8/8 [==============================] - 3s 422ms/step - loss: 0.5824 - accuracy: 0.7189 - val_loss: 0.6275 - val_accuracy: 0.6930\n",
            "Epoch 37/50\n",
            "8/8 [==============================] - 3s 422ms/step - loss: 0.5881 - accuracy: 0.7109 - val_loss: 0.5867 - val_accuracy: 0.7009\n",
            "Epoch 38/50\n",
            "8/8 [==============================] - 3s 423ms/step - loss: 0.5728 - accuracy: 0.7245 - val_loss: 0.5931 - val_accuracy: 0.7000\n",
            "Epoch 39/50\n",
            "8/8 [==============================] - 3s 423ms/step - loss: 0.5767 - accuracy: 0.7241 - val_loss: 0.5876 - val_accuracy: 0.7261\n",
            "Epoch 40/50\n",
            "8/8 [==============================] - 3s 423ms/step - loss: 0.5793 - accuracy: 0.7239 - val_loss: 0.5894 - val_accuracy: 0.7209\n",
            "Epoch 41/50\n",
            "8/8 [==============================] - 3s 425ms/step - loss: 0.5771 - accuracy: 0.7256 - val_loss: 0.6089 - val_accuracy: 0.7226\n",
            "Epoch 42/50\n",
            "8/8 [==============================] - 3s 425ms/step - loss: 0.5845 - accuracy: 0.7212 - val_loss: 0.5878 - val_accuracy: 0.7226\n",
            "Epoch 43/50\n",
            "8/8 [==============================] - 3s 424ms/step - loss: 0.5605 - accuracy: 0.7300 - val_loss: 0.5934 - val_accuracy: 0.7191\n",
            "Epoch 44/50\n",
            "8/8 [==============================] - 3s 425ms/step - loss: 0.5652 - accuracy: 0.7332 - val_loss: 0.5909 - val_accuracy: 0.7217\n",
            "Epoch 45/50\n",
            "8/8 [==============================] - 3s 425ms/step - loss: 0.5553 - accuracy: 0.7419 - val_loss: 0.5661 - val_accuracy: 0.7226\n",
            "Epoch 46/50\n",
            "8/8 [==============================] - 3s 426ms/step - loss: 0.5551 - accuracy: 0.7361 - val_loss: 0.5921 - val_accuracy: 0.7235\n",
            "Epoch 47/50\n",
            "8/8 [==============================] - 3s 425ms/step - loss: 0.5473 - accuracy: 0.7343 - val_loss: 0.5713 - val_accuracy: 0.7235\n",
            "Epoch 48/50\n",
            "8/8 [==============================] - 3s 425ms/step - loss: 0.5430 - accuracy: 0.7328 - val_loss: 0.5676 - val_accuracy: 0.7191\n",
            "Epoch 49/50\n",
            "8/8 [==============================] - 3s 428ms/step - loss: 0.5406 - accuracy: 0.7384 - val_loss: 0.5930 - val_accuracy: 0.7235\n",
            "Epoch 50/50\n",
            "8/8 [==============================] - 3s 424ms/step - loss: 0.5600 - accuracy: 0.7390 - val_loss: 0.5671 - val_accuracy: 0.7243\n"
          ],
          "name": "stdout"
        }
      ]
    },
    {
      "cell_type": "code",
      "metadata": {
        "colab": {
          "base_uri": "https://localhost:8080/"
        },
        "id": "wtZ8XFKfa8MQ",
        "outputId": "2b04d517-e852-4b62-babe-874c36d21f7a"
      },
      "source": [
        "score = model_LSTM.evaluate(Xtrain,Ytrain_one_hot,verbose=0)\n",
        "print('test loss = ',score[0])\n",
        "print('accuracy = ',score[1])"
      ],
      "execution_count": null,
      "outputs": [
        {
          "output_type": "stream",
          "text": [
            "test loss =  0.5309287905693054\n",
            "accuracy =  0.7515941858291626\n"
          ],
          "name": "stdout"
        }
      ]
    },
    {
      "cell_type": "code",
      "metadata": {
        "colab": {
          "base_uri": "https://localhost:8080/"
        },
        "id": "cO9UBTygbC4r",
        "outputId": "51de93d6-bbf1-4e7c-cc28-4255f27c1e10"
      },
      "source": [
        "score = model_LSTM.evaluate(Xtest,Ytest_one_hot,verbose=0)\n",
        "print('test loss = ',score[0])\n",
        "print('accuracy = ',score[1])"
      ],
      "execution_count": null,
      "outputs": [
        {
          "output_type": "stream",
          "text": [
            "test loss =  0.5671331882476807\n",
            "accuracy =  0.7243478298187256\n"
          ],
          "name": "stdout"
        }
      ]
    },
    {
      "cell_type": "markdown",
      "metadata": {
        "id": "JY9ZMvNtbXVi"
      },
      "source": [
        "128 neurones"
      ]
    },
    {
      "cell_type": "code",
      "metadata": {
        "id": "m702WnakbYxx"
      },
      "source": [
        "model_LSTM = Sequential()\n",
        "model_LSTM.add(Conv1D(64,kernel_size=3,activation='relu',strides=1,input_shape=(Xtrain.shape[1],Xtrain.shape[2])))\n",
        "model_LSTM.add(MaxPooling1D(pool_size=2,strides=2))\n",
        "\n",
        "model_LSTM.add(Conv1D(128,kernel_size=3,activation='relu'))\n",
        "model_LSTM.add(Conv1D(512,kernel_size=3,activation='relu'))\n",
        "model_LSTM.add(Conv1D(1024,kernel_size=3,activation='relu'))\n",
        "\n",
        "#model.add(Flatten())\n",
        "model_LSTM.add(Dense(256,activation='relu'))\n",
        "model_LSTM.add(Dropout(0.2))\n",
        "model_LSTM.add(LSTM(128,activation='tanh',return_sequences=True))\n",
        "model_LSTM.add(LSTM(128,activation='tanh'))\n",
        "model_LSTM.add(Dense(256,activation='relu'))\n",
        "model_LSTM.add(Dense(128,activation='relu'))\n",
        "model_LSTM.add(Dense(64,activation='relu'))\n",
        "model_LSTM.add(Dense(Ytrain_one_hot.shape[1], activation = 'softmax'))\n"
      ],
      "execution_count": null,
      "outputs": []
    },
    {
      "cell_type": "code",
      "metadata": {
        "id": "tFxu3h9obl5d"
      },
      "source": [
        "model_LSTM.compile(loss=keras.losses.categorical_crossentropy,optimizer=keras.optimizers.Adam(),metrics=['accuracy'])"
      ],
      "execution_count": null,
      "outputs": []
    },
    {
      "cell_type": "code",
      "metadata": {
        "colab": {
          "base_uri": "https://localhost:8080/"
        },
        "id": "TS82xmg5brzF",
        "outputId": "e63f5b88-cd3a-42a8-89e0-3a84fe806641"
      },
      "source": [
        "history_LSTM = model_LSTM.fit(Xtrain,Ytrain_one_hot,batch_size = batch_size,epochs=epochs,verbose=1,validation_data=(Xtest,Ytest_one_hot))"
      ],
      "execution_count": null,
      "outputs": [
        {
          "output_type": "stream",
          "text": [
            "Epoch 1/50\n",
            "8/8 [==============================] - 8s 613ms/step - loss: 1.7422 - accuracy: 0.2201 - val_loss: 1.5100 - val_accuracy: 0.2678\n",
            "Epoch 2/50\n",
            "8/8 [==============================] - 4s 461ms/step - loss: 1.4860 - accuracy: 0.3099 - val_loss: 1.3127 - val_accuracy: 0.4400\n",
            "Epoch 3/50\n",
            "8/8 [==============================] - 4s 462ms/step - loss: 1.2390 - accuracy: 0.4229 - val_loss: 1.1001 - val_accuracy: 0.4757\n",
            "Epoch 4/50\n",
            "8/8 [==============================] - 4s 463ms/step - loss: 1.1791 - accuracy: 0.4564 - val_loss: 1.1168 - val_accuracy: 0.4626\n",
            "Epoch 5/50\n",
            "8/8 [==============================] - 4s 463ms/step - loss: 1.0962 - accuracy: 0.4968 - val_loss: 1.0539 - val_accuracy: 0.5174\n",
            "Epoch 6/50\n",
            "8/8 [==============================] - 4s 465ms/step - loss: 1.0238 - accuracy: 0.5442 - val_loss: 0.9745 - val_accuracy: 0.5835\n",
            "Epoch 7/50\n",
            "8/8 [==============================] - 4s 467ms/step - loss: 0.9528 - accuracy: 0.5853 - val_loss: 0.9462 - val_accuracy: 0.5739\n",
            "Epoch 8/50\n",
            "8/8 [==============================] - 4s 469ms/step - loss: 0.8855 - accuracy: 0.6170 - val_loss: 0.8310 - val_accuracy: 0.6165\n",
            "Epoch 9/50\n",
            "8/8 [==============================] - 4s 470ms/step - loss: 0.8244 - accuracy: 0.6401 - val_loss: 0.8865 - val_accuracy: 0.5817\n",
            "Epoch 10/50\n",
            "8/8 [==============================] - 4s 471ms/step - loss: 0.8531 - accuracy: 0.6135 - val_loss: 0.8328 - val_accuracy: 0.5974\n",
            "Epoch 11/50\n",
            "8/8 [==============================] - 4s 472ms/step - loss: 0.7901 - accuracy: 0.6536 - val_loss: 0.7952 - val_accuracy: 0.6278\n",
            "Epoch 12/50\n",
            "8/8 [==============================] - 4s 475ms/step - loss: 0.7541 - accuracy: 0.6518 - val_loss: 0.7507 - val_accuracy: 0.6417\n",
            "Epoch 13/50\n",
            "8/8 [==============================] - 4s 475ms/step - loss: 0.7168 - accuracy: 0.6658 - val_loss: 0.7387 - val_accuracy: 0.6383\n",
            "Epoch 14/50\n",
            "8/8 [==============================] - 4s 476ms/step - loss: 0.6874 - accuracy: 0.6865 - val_loss: 0.7356 - val_accuracy: 0.6757\n",
            "Epoch 15/50\n",
            "8/8 [==============================] - 4s 477ms/step - loss: 0.7065 - accuracy: 0.6762 - val_loss: 0.7016 - val_accuracy: 0.6539\n",
            "Epoch 16/50\n",
            "8/8 [==============================] - 4s 478ms/step - loss: 0.6426 - accuracy: 0.7001 - val_loss: 0.6690 - val_accuracy: 0.6870\n",
            "Epoch 17/50\n",
            "8/8 [==============================] - 4s 480ms/step - loss: 0.6253 - accuracy: 0.7184 - val_loss: 0.6280 - val_accuracy: 0.7026\n",
            "Epoch 18/50\n",
            "8/8 [==============================] - 4s 480ms/step - loss: 0.6113 - accuracy: 0.7198 - val_loss: 0.6851 - val_accuracy: 0.6609\n",
            "Epoch 19/50\n",
            "8/8 [==============================] - 4s 482ms/step - loss: 0.6257 - accuracy: 0.7067 - val_loss: 0.6122 - val_accuracy: 0.7130\n",
            "Epoch 20/50\n",
            "8/8 [==============================] - 4s 484ms/step - loss: 0.6110 - accuracy: 0.7143 - val_loss: 0.6078 - val_accuracy: 0.7174\n",
            "Epoch 21/50\n",
            "8/8 [==============================] - 4s 484ms/step - loss: 0.6025 - accuracy: 0.7214 - val_loss: 0.5903 - val_accuracy: 0.7226\n",
            "Epoch 22/50\n",
            "8/8 [==============================] - 4s 484ms/step - loss: 0.5744 - accuracy: 0.7278 - val_loss: 0.6327 - val_accuracy: 0.7078\n",
            "Epoch 23/50\n",
            "8/8 [==============================] - 4s 485ms/step - loss: 0.5897 - accuracy: 0.7303 - val_loss: 0.5834 - val_accuracy: 0.7226\n",
            "Epoch 24/50\n",
            "8/8 [==============================] - 4s 485ms/step - loss: 0.5711 - accuracy: 0.7285 - val_loss: 0.6246 - val_accuracy: 0.7096\n",
            "Epoch 25/50\n",
            "8/8 [==============================] - 4s 487ms/step - loss: 0.5872 - accuracy: 0.7240 - val_loss: 0.6482 - val_accuracy: 0.7052\n",
            "Epoch 26/50\n",
            "8/8 [==============================] - 4s 486ms/step - loss: 0.5887 - accuracy: 0.7250 - val_loss: 0.5905 - val_accuracy: 0.7130\n",
            "Epoch 27/50\n",
            "8/8 [==============================] - 4s 488ms/step - loss: 0.5797 - accuracy: 0.7249 - val_loss: 0.5711 - val_accuracy: 0.7122\n",
            "Epoch 28/50\n",
            "8/8 [==============================] - 4s 490ms/step - loss: 0.5700 - accuracy: 0.7276 - val_loss: 0.5874 - val_accuracy: 0.7200\n",
            "Epoch 29/50\n",
            "8/8 [==============================] - 4s 490ms/step - loss: 0.5605 - accuracy: 0.7273 - val_loss: 0.5882 - val_accuracy: 0.7043\n",
            "Epoch 30/50\n",
            "8/8 [==============================] - 4s 489ms/step - loss: 0.5774 - accuracy: 0.7180 - val_loss: 0.5642 - val_accuracy: 0.7287\n",
            "Epoch 31/50\n",
            "8/8 [==============================] - 4s 491ms/step - loss: 0.5467 - accuracy: 0.7406 - val_loss: 0.5620 - val_accuracy: 0.7383\n",
            "Epoch 32/50\n",
            "8/8 [==============================] - 4s 492ms/step - loss: 0.5432 - accuracy: 0.7397 - val_loss: 0.5639 - val_accuracy: 0.7200\n",
            "Epoch 33/50\n",
            "8/8 [==============================] - 4s 494ms/step - loss: 0.5380 - accuracy: 0.7477 - val_loss: 0.5609 - val_accuracy: 0.7443\n",
            "Epoch 34/50\n",
            "8/8 [==============================] - 4s 493ms/step - loss: 0.5376 - accuracy: 0.7445 - val_loss: 0.5530 - val_accuracy: 0.7357\n",
            "Epoch 35/50\n",
            "8/8 [==============================] - 4s 493ms/step - loss: 0.5393 - accuracy: 0.7455 - val_loss: 0.5708 - val_accuracy: 0.7330\n",
            "Epoch 36/50\n",
            "8/8 [==============================] - 4s 495ms/step - loss: 0.5336 - accuracy: 0.7462 - val_loss: 0.5653 - val_accuracy: 0.7174\n",
            "Epoch 37/50\n",
            "8/8 [==============================] - 4s 493ms/step - loss: 0.5396 - accuracy: 0.7414 - val_loss: 0.6119 - val_accuracy: 0.7070\n",
            "Epoch 38/50\n",
            "8/8 [==============================] - 4s 494ms/step - loss: 0.5625 - accuracy: 0.7334 - val_loss: 0.5648 - val_accuracy: 0.7235\n",
            "Epoch 39/50\n",
            "8/8 [==============================] - 4s 492ms/step - loss: 0.5584 - accuracy: 0.7366 - val_loss: 0.6229 - val_accuracy: 0.7304\n",
            "Epoch 40/50\n",
            "8/8 [==============================] - 4s 492ms/step - loss: 0.5460 - accuracy: 0.7441 - val_loss: 0.5600 - val_accuracy: 0.7365\n",
            "Epoch 41/50\n",
            "8/8 [==============================] - 4s 491ms/step - loss: 0.5297 - accuracy: 0.7502 - val_loss: 0.5609 - val_accuracy: 0.7383\n",
            "Epoch 42/50\n",
            "8/8 [==============================] - 4s 491ms/step - loss: 0.5232 - accuracy: 0.7555 - val_loss: 0.5489 - val_accuracy: 0.7548\n",
            "Epoch 43/50\n",
            "8/8 [==============================] - 4s 490ms/step - loss: 0.5139 - accuracy: 0.7592 - val_loss: 0.5497 - val_accuracy: 0.7357\n",
            "Epoch 44/50\n",
            "8/8 [==============================] - 4s 491ms/step - loss: 0.5054 - accuracy: 0.7598 - val_loss: 0.5633 - val_accuracy: 0.7426\n",
            "Epoch 45/50\n",
            "8/8 [==============================] - 4s 490ms/step - loss: 0.5144 - accuracy: 0.7597 - val_loss: 0.5650 - val_accuracy: 0.7261\n",
            "Epoch 46/50\n",
            "8/8 [==============================] - 4s 489ms/step - loss: 0.5245 - accuracy: 0.7539 - val_loss: 0.5931 - val_accuracy: 0.7148\n",
            "Epoch 47/50\n",
            "8/8 [==============================] - 4s 488ms/step - loss: 0.5072 - accuracy: 0.7647 - val_loss: 0.5516 - val_accuracy: 0.7226\n",
            "Epoch 48/50\n",
            "8/8 [==============================] - 4s 487ms/step - loss: 0.5070 - accuracy: 0.7583 - val_loss: 0.5660 - val_accuracy: 0.7365\n",
            "Epoch 49/50\n",
            "8/8 [==============================] - 4s 488ms/step - loss: 0.4935 - accuracy: 0.7698 - val_loss: 0.5405 - val_accuracy: 0.7496\n",
            "Epoch 50/50\n",
            "8/8 [==============================] - 4s 489ms/step - loss: 0.4925 - accuracy: 0.7760 - val_loss: 0.5533 - val_accuracy: 0.7600\n"
          ],
          "name": "stdout"
        }
      ]
    },
    {
      "cell_type": "code",
      "metadata": {
        "colab": {
          "base_uri": "https://localhost:8080/"
        },
        "id": "BPUnK8PbcgBA",
        "outputId": "1bb47b39-c3fe-490e-a4c6-b9b7abe24835"
      },
      "source": [
        "score = model_LSTM.evaluate(Xtrain,Ytrain_one_hot,verbose=0)\n",
        "print('test loss = ',score[0])\n",
        "print('accuracy = ',score[1])"
      ],
      "execution_count": null,
      "outputs": [
        {
          "output_type": "stream",
          "text": [
            "test loss =  0.4975532591342926\n",
            "accuracy =  0.7710145115852356\n"
          ],
          "name": "stdout"
        }
      ]
    },
    {
      "cell_type": "code",
      "metadata": {
        "colab": {
          "base_uri": "https://localhost:8080/"
        },
        "id": "V5zx6yFVcpqr",
        "outputId": "ef750eb2-4886-4257-fed5-d3b1bb17aaa0"
      },
      "source": [
        "score = model_LSTM.evaluate(Xtest,Ytest_one_hot,verbose=0)\n",
        "print('test loss = ',score[0])\n",
        "print('accuracy = ',score[1])"
      ],
      "execution_count": null,
      "outputs": [
        {
          "output_type": "stream",
          "text": [
            "test loss =  0.553276777267456\n",
            "accuracy =  0.7599999904632568\n"
          ],
          "name": "stdout"
        }
      ]
    }
  ]
}