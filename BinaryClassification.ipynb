{
  "nbformat": 4,
  "nbformat_minor": 0,
  "metadata": {
    "colab": {
      "name": "BinaryClassification.ipynb",
      "provenance": [],
      "collapsed_sections": []
    },
    "kernelspec": {
      "display_name": "Python 3",
      "name": "python3"
    },
    "language_info": {
      "name": "python"
    },
    "accelerator": "GPU"
  },
  "cells": [
    {
      "cell_type": "code",
      "metadata": {
        "id": "bxmovc3CUXP_"
      },
      "source": [
        "import keras\n",
        "#from keras.datasets import mnist #import Data\n",
        "from sklearn.model_selection import train_test_split\n",
        "from keras.models import Sequential #preparing layres position\n",
        "from keras.layers import Dense, Dropout, Flatten, Activation  #3 layers\n",
        "from keras.layers import Conv2D,MaxPooling2D,GRU,Conv1D,MaxPooling1D #convolution & pooling\n",
        "from tensorflow.keras import utils as np_utils\n",
        "import numpy as np\n",
        "np.set_printoptions(threshold=1000,suppress=True)\n",
        "import pandas as pd\n",
        "import seaborn as sns\n",
        "import matplotlib \n",
        "import matplotlib.pyplot as plt #graph 2D\n",
        "import warnings\n",
        "warnings.filterwarnings('ignore')"
      ],
      "execution_count": null,
      "outputs": []
    },
    {
      "cell_type": "code",
      "metadata": {
        "colab": {
          "base_uri": "https://localhost:8080/",
          "height": 270
        },
        "id": "ig2xomCZVSEV",
        "outputId": "07ec6c80-6646-451f-e56e-bb5c3907d97c"
      },
      "source": [
        "epilepsie_data=pd.read_csv('data.csv',sep=',',header=0)\n",
        "epilepsie_data.head()"
      ],
      "execution_count": null,
      "outputs": [
        {
          "output_type": "execute_result",
          "data": {
            "text/html": [
              "<div>\n",
              "<style scoped>\n",
              "    .dataframe tbody tr th:only-of-type {\n",
              "        vertical-align: middle;\n",
              "    }\n",
              "\n",
              "    .dataframe tbody tr th {\n",
              "        vertical-align: top;\n",
              "    }\n",
              "\n",
              "    .dataframe thead th {\n",
              "        text-align: right;\n",
              "    }\n",
              "</style>\n",
              "<table border=\"1\" class=\"dataframe\">\n",
              "  <thead>\n",
              "    <tr style=\"text-align: right;\">\n",
              "      <th></th>\n",
              "      <th>Unnamed: 0</th>\n",
              "      <th>X1</th>\n",
              "      <th>X2</th>\n",
              "      <th>X3</th>\n",
              "      <th>X4</th>\n",
              "      <th>X5</th>\n",
              "      <th>X6</th>\n",
              "      <th>X7</th>\n",
              "      <th>X8</th>\n",
              "      <th>X9</th>\n",
              "      <th>X10</th>\n",
              "      <th>X11</th>\n",
              "      <th>X12</th>\n",
              "      <th>X13</th>\n",
              "      <th>X14</th>\n",
              "      <th>X15</th>\n",
              "      <th>X16</th>\n",
              "      <th>X17</th>\n",
              "      <th>X18</th>\n",
              "      <th>X19</th>\n",
              "      <th>X20</th>\n",
              "      <th>X21</th>\n",
              "      <th>X22</th>\n",
              "      <th>X23</th>\n",
              "      <th>X24</th>\n",
              "      <th>X25</th>\n",
              "      <th>X26</th>\n",
              "      <th>X27</th>\n",
              "      <th>X28</th>\n",
              "      <th>X29</th>\n",
              "      <th>X30</th>\n",
              "      <th>X31</th>\n",
              "      <th>X32</th>\n",
              "      <th>X33</th>\n",
              "      <th>X34</th>\n",
              "      <th>X35</th>\n",
              "      <th>X36</th>\n",
              "      <th>X37</th>\n",
              "      <th>X38</th>\n",
              "      <th>X39</th>\n",
              "      <th>...</th>\n",
              "      <th>X140</th>\n",
              "      <th>X141</th>\n",
              "      <th>X142</th>\n",
              "      <th>X143</th>\n",
              "      <th>X144</th>\n",
              "      <th>X145</th>\n",
              "      <th>X146</th>\n",
              "      <th>X147</th>\n",
              "      <th>X148</th>\n",
              "      <th>X149</th>\n",
              "      <th>X150</th>\n",
              "      <th>X151</th>\n",
              "      <th>X152</th>\n",
              "      <th>X153</th>\n",
              "      <th>X154</th>\n",
              "      <th>X155</th>\n",
              "      <th>X156</th>\n",
              "      <th>X157</th>\n",
              "      <th>X158</th>\n",
              "      <th>X159</th>\n",
              "      <th>X160</th>\n",
              "      <th>X161</th>\n",
              "      <th>X162</th>\n",
              "      <th>X163</th>\n",
              "      <th>X164</th>\n",
              "      <th>X165</th>\n",
              "      <th>X166</th>\n",
              "      <th>X167</th>\n",
              "      <th>X168</th>\n",
              "      <th>X169</th>\n",
              "      <th>X170</th>\n",
              "      <th>X171</th>\n",
              "      <th>X172</th>\n",
              "      <th>X173</th>\n",
              "      <th>X174</th>\n",
              "      <th>X175</th>\n",
              "      <th>X176</th>\n",
              "      <th>X177</th>\n",
              "      <th>X178</th>\n",
              "      <th>y</th>\n",
              "    </tr>\n",
              "  </thead>\n",
              "  <tbody>\n",
              "    <tr>\n",
              "      <th>0</th>\n",
              "      <td>X21.V1.791</td>\n",
              "      <td>135</td>\n",
              "      <td>190</td>\n",
              "      <td>229</td>\n",
              "      <td>223</td>\n",
              "      <td>192</td>\n",
              "      <td>125</td>\n",
              "      <td>55</td>\n",
              "      <td>-9</td>\n",
              "      <td>-33</td>\n",
              "      <td>-38</td>\n",
              "      <td>-10</td>\n",
              "      <td>35</td>\n",
              "      <td>64</td>\n",
              "      <td>113</td>\n",
              "      <td>152</td>\n",
              "      <td>164</td>\n",
              "      <td>127</td>\n",
              "      <td>50</td>\n",
              "      <td>-47</td>\n",
              "      <td>-121</td>\n",
              "      <td>-138</td>\n",
              "      <td>-125</td>\n",
              "      <td>-101</td>\n",
              "      <td>-50</td>\n",
              "      <td>11</td>\n",
              "      <td>39</td>\n",
              "      <td>24</td>\n",
              "      <td>48</td>\n",
              "      <td>64</td>\n",
              "      <td>46</td>\n",
              "      <td>13</td>\n",
              "      <td>-19</td>\n",
              "      <td>-61</td>\n",
              "      <td>-96</td>\n",
              "      <td>-130</td>\n",
              "      <td>-132</td>\n",
              "      <td>-116</td>\n",
              "      <td>-115</td>\n",
              "      <td>-71</td>\n",
              "      <td>...</td>\n",
              "      <td>54</td>\n",
              "      <td>90</td>\n",
              "      <td>111</td>\n",
              "      <td>107</td>\n",
              "      <td>64</td>\n",
              "      <td>32</td>\n",
              "      <td>18</td>\n",
              "      <td>-25</td>\n",
              "      <td>-69</td>\n",
              "      <td>-65</td>\n",
              "      <td>-44</td>\n",
              "      <td>-33</td>\n",
              "      <td>-57</td>\n",
              "      <td>-88</td>\n",
              "      <td>-114</td>\n",
              "      <td>-130</td>\n",
              "      <td>-114</td>\n",
              "      <td>-83</td>\n",
              "      <td>-53</td>\n",
              "      <td>-79</td>\n",
              "      <td>-72</td>\n",
              "      <td>-85</td>\n",
              "      <td>-109</td>\n",
              "      <td>-98</td>\n",
              "      <td>-72</td>\n",
              "      <td>-65</td>\n",
              "      <td>-63</td>\n",
              "      <td>-11</td>\n",
              "      <td>10</td>\n",
              "      <td>8</td>\n",
              "      <td>-17</td>\n",
              "      <td>-15</td>\n",
              "      <td>-31</td>\n",
              "      <td>-77</td>\n",
              "      <td>-103</td>\n",
              "      <td>-127</td>\n",
              "      <td>-116</td>\n",
              "      <td>-83</td>\n",
              "      <td>-51</td>\n",
              "      <td>4</td>\n",
              "    </tr>\n",
              "    <tr>\n",
              "      <th>1</th>\n",
              "      <td>X15.V1.924</td>\n",
              "      <td>386</td>\n",
              "      <td>382</td>\n",
              "      <td>356</td>\n",
              "      <td>331</td>\n",
              "      <td>320</td>\n",
              "      <td>315</td>\n",
              "      <td>307</td>\n",
              "      <td>272</td>\n",
              "      <td>244</td>\n",
              "      <td>232</td>\n",
              "      <td>237</td>\n",
              "      <td>258</td>\n",
              "      <td>212</td>\n",
              "      <td>2</td>\n",
              "      <td>-267</td>\n",
              "      <td>-605</td>\n",
              "      <td>-850</td>\n",
              "      <td>-1001</td>\n",
              "      <td>-1109</td>\n",
              "      <td>-1090</td>\n",
              "      <td>-967</td>\n",
              "      <td>-746</td>\n",
              "      <td>-464</td>\n",
              "      <td>-152</td>\n",
              "      <td>118</td>\n",
              "      <td>318</td>\n",
              "      <td>427</td>\n",
              "      <td>473</td>\n",
              "      <td>485</td>\n",
              "      <td>447</td>\n",
              "      <td>397</td>\n",
              "      <td>339</td>\n",
              "      <td>312</td>\n",
              "      <td>314</td>\n",
              "      <td>326</td>\n",
              "      <td>335</td>\n",
              "      <td>332</td>\n",
              "      <td>324</td>\n",
              "      <td>310</td>\n",
              "      <td>...</td>\n",
              "      <td>27</td>\n",
              "      <td>146</td>\n",
              "      <td>229</td>\n",
              "      <td>269</td>\n",
              "      <td>297</td>\n",
              "      <td>307</td>\n",
              "      <td>303</td>\n",
              "      <td>305</td>\n",
              "      <td>306</td>\n",
              "      <td>307</td>\n",
              "      <td>280</td>\n",
              "      <td>231</td>\n",
              "      <td>159</td>\n",
              "      <td>85</td>\n",
              "      <td>51</td>\n",
              "      <td>43</td>\n",
              "      <td>62</td>\n",
              "      <td>63</td>\n",
              "      <td>63</td>\n",
              "      <td>69</td>\n",
              "      <td>89</td>\n",
              "      <td>123</td>\n",
              "      <td>136</td>\n",
              "      <td>127</td>\n",
              "      <td>102</td>\n",
              "      <td>95</td>\n",
              "      <td>105</td>\n",
              "      <td>131</td>\n",
              "      <td>163</td>\n",
              "      <td>168</td>\n",
              "      <td>164</td>\n",
              "      <td>150</td>\n",
              "      <td>146</td>\n",
              "      <td>152</td>\n",
              "      <td>157</td>\n",
              "      <td>156</td>\n",
              "      <td>154</td>\n",
              "      <td>143</td>\n",
              "      <td>129</td>\n",
              "      <td>1</td>\n",
              "    </tr>\n",
              "    <tr>\n",
              "      <th>2</th>\n",
              "      <td>X8.V1.1</td>\n",
              "      <td>-32</td>\n",
              "      <td>-39</td>\n",
              "      <td>-47</td>\n",
              "      <td>-37</td>\n",
              "      <td>-32</td>\n",
              "      <td>-36</td>\n",
              "      <td>-57</td>\n",
              "      <td>-73</td>\n",
              "      <td>-85</td>\n",
              "      <td>-94</td>\n",
              "      <td>-99</td>\n",
              "      <td>-94</td>\n",
              "      <td>-96</td>\n",
              "      <td>-104</td>\n",
              "      <td>-103</td>\n",
              "      <td>-92</td>\n",
              "      <td>-75</td>\n",
              "      <td>-69</td>\n",
              "      <td>-69</td>\n",
              "      <td>-53</td>\n",
              "      <td>-37</td>\n",
              "      <td>-14</td>\n",
              "      <td>-10</td>\n",
              "      <td>-39</td>\n",
              "      <td>-78</td>\n",
              "      <td>-102</td>\n",
              "      <td>-98</td>\n",
              "      <td>-80</td>\n",
              "      <td>-54</td>\n",
              "      <td>-40</td>\n",
              "      <td>-35</td>\n",
              "      <td>-39</td>\n",
              "      <td>-32</td>\n",
              "      <td>-13</td>\n",
              "      <td>7</td>\n",
              "      <td>34</td>\n",
              "      <td>41</td>\n",
              "      <td>33</td>\n",
              "      <td>6</td>\n",
              "      <td>...</td>\n",
              "      <td>-82</td>\n",
              "      <td>-107</td>\n",
              "      <td>-126</td>\n",
              "      <td>-124</td>\n",
              "      <td>-108</td>\n",
              "      <td>-84</td>\n",
              "      <td>-68</td>\n",
              "      <td>-61</td>\n",
              "      <td>-56</td>\n",
              "      <td>-63</td>\n",
              "      <td>-62</td>\n",
              "      <td>-33</td>\n",
              "      <td>1</td>\n",
              "      <td>28</td>\n",
              "      <td>45</td>\n",
              "      <td>37</td>\n",
              "      <td>48</td>\n",
              "      <td>62</td>\n",
              "      <td>80</td>\n",
              "      <td>66</td>\n",
              "      <td>23</td>\n",
              "      <td>-11</td>\n",
              "      <td>-39</td>\n",
              "      <td>-44</td>\n",
              "      <td>-42</td>\n",
              "      <td>-45</td>\n",
              "      <td>-48</td>\n",
              "      <td>-42</td>\n",
              "      <td>-6</td>\n",
              "      <td>29</td>\n",
              "      <td>57</td>\n",
              "      <td>64</td>\n",
              "      <td>48</td>\n",
              "      <td>19</td>\n",
              "      <td>-12</td>\n",
              "      <td>-30</td>\n",
              "      <td>-35</td>\n",
              "      <td>-35</td>\n",
              "      <td>-36</td>\n",
              "      <td>5</td>\n",
              "    </tr>\n",
              "    <tr>\n",
              "      <th>3</th>\n",
              "      <td>X16.V1.60</td>\n",
              "      <td>-105</td>\n",
              "      <td>-101</td>\n",
              "      <td>-96</td>\n",
              "      <td>-92</td>\n",
              "      <td>-89</td>\n",
              "      <td>-95</td>\n",
              "      <td>-102</td>\n",
              "      <td>-100</td>\n",
              "      <td>-87</td>\n",
              "      <td>-79</td>\n",
              "      <td>-72</td>\n",
              "      <td>-68</td>\n",
              "      <td>-74</td>\n",
              "      <td>-80</td>\n",
              "      <td>-83</td>\n",
              "      <td>-73</td>\n",
              "      <td>-68</td>\n",
              "      <td>-61</td>\n",
              "      <td>-58</td>\n",
              "      <td>-59</td>\n",
              "      <td>-64</td>\n",
              "      <td>-79</td>\n",
              "      <td>-84</td>\n",
              "      <td>-97</td>\n",
              "      <td>-94</td>\n",
              "      <td>-84</td>\n",
              "      <td>-77</td>\n",
              "      <td>-75</td>\n",
              "      <td>-72</td>\n",
              "      <td>-68</td>\n",
              "      <td>-76</td>\n",
              "      <td>-76</td>\n",
              "      <td>-72</td>\n",
              "      <td>-67</td>\n",
              "      <td>-69</td>\n",
              "      <td>-69</td>\n",
              "      <td>-69</td>\n",
              "      <td>-67</td>\n",
              "      <td>-68</td>\n",
              "      <td>...</td>\n",
              "      <td>-69</td>\n",
              "      <td>-66</td>\n",
              "      <td>-74</td>\n",
              "      <td>-69</td>\n",
              "      <td>-61</td>\n",
              "      <td>-51</td>\n",
              "      <td>-45</td>\n",
              "      <td>-45</td>\n",
              "      <td>-49</td>\n",
              "      <td>-58</td>\n",
              "      <td>-64</td>\n",
              "      <td>-78</td>\n",
              "      <td>-80</td>\n",
              "      <td>-90</td>\n",
              "      <td>-87</td>\n",
              "      <td>-83</td>\n",
              "      <td>-78</td>\n",
              "      <td>-64</td>\n",
              "      <td>-38</td>\n",
              "      <td>-22</td>\n",
              "      <td>-29</td>\n",
              "      <td>-42</td>\n",
              "      <td>-51</td>\n",
              "      <td>-68</td>\n",
              "      <td>-71</td>\n",
              "      <td>-69</td>\n",
              "      <td>-69</td>\n",
              "      <td>-74</td>\n",
              "      <td>-74</td>\n",
              "      <td>-80</td>\n",
              "      <td>-82</td>\n",
              "      <td>-81</td>\n",
              "      <td>-80</td>\n",
              "      <td>-77</td>\n",
              "      <td>-85</td>\n",
              "      <td>-77</td>\n",
              "      <td>-72</td>\n",
              "      <td>-69</td>\n",
              "      <td>-65</td>\n",
              "      <td>5</td>\n",
              "    </tr>\n",
              "    <tr>\n",
              "      <th>4</th>\n",
              "      <td>X20.V1.54</td>\n",
              "      <td>-9</td>\n",
              "      <td>-65</td>\n",
              "      <td>-98</td>\n",
              "      <td>-102</td>\n",
              "      <td>-78</td>\n",
              "      <td>-48</td>\n",
              "      <td>-16</td>\n",
              "      <td>0</td>\n",
              "      <td>-21</td>\n",
              "      <td>-59</td>\n",
              "      <td>-90</td>\n",
              "      <td>-103</td>\n",
              "      <td>-84</td>\n",
              "      <td>-43</td>\n",
              "      <td>-9</td>\n",
              "      <td>3</td>\n",
              "      <td>-21</td>\n",
              "      <td>-60</td>\n",
              "      <td>-96</td>\n",
              "      <td>-103</td>\n",
              "      <td>-75</td>\n",
              "      <td>-29</td>\n",
              "      <td>14</td>\n",
              "      <td>55</td>\n",
              "      <td>78</td>\n",
              "      <td>73</td>\n",
              "      <td>28</td>\n",
              "      <td>-13</td>\n",
              "      <td>-43</td>\n",
              "      <td>-68</td>\n",
              "      <td>-78</td>\n",
              "      <td>-75</td>\n",
              "      <td>-55</td>\n",
              "      <td>-41</td>\n",
              "      <td>-19</td>\n",
              "      <td>-20</td>\n",
              "      <td>-29</td>\n",
              "      <td>-36</td>\n",
              "      <td>-20</td>\n",
              "      <td>...</td>\n",
              "      <td>38</td>\n",
              "      <td>26</td>\n",
              "      <td>10</td>\n",
              "      <td>-4</td>\n",
              "      <td>-13</td>\n",
              "      <td>-8</td>\n",
              "      <td>0</td>\n",
              "      <td>10</td>\n",
              "      <td>19</td>\n",
              "      <td>29</td>\n",
              "      <td>57</td>\n",
              "      <td>63</td>\n",
              "      <td>45</td>\n",
              "      <td>7</td>\n",
              "      <td>-13</td>\n",
              "      <td>-23</td>\n",
              "      <td>-9</td>\n",
              "      <td>9</td>\n",
              "      <td>11</td>\n",
              "      <td>3</td>\n",
              "      <td>-1</td>\n",
              "      <td>-2</td>\n",
              "      <td>4</td>\n",
              "      <td>18</td>\n",
              "      <td>27</td>\n",
              "      <td>27</td>\n",
              "      <td>14</td>\n",
              "      <td>15</td>\n",
              "      <td>11</td>\n",
              "      <td>10</td>\n",
              "      <td>4</td>\n",
              "      <td>2</td>\n",
              "      <td>-12</td>\n",
              "      <td>-32</td>\n",
              "      <td>-41</td>\n",
              "      <td>-65</td>\n",
              "      <td>-83</td>\n",
              "      <td>-89</td>\n",
              "      <td>-73</td>\n",
              "      <td>5</td>\n",
              "    </tr>\n",
              "  </tbody>\n",
              "</table>\n",
              "<p>5 rows × 180 columns</p>\n",
              "</div>"
            ],
            "text/plain": [
              "   Unnamed: 0   X1   X2   X3   X4   X5  ...  X174  X175  X176  X177  X178  y\n",
              "0  X21.V1.791  135  190  229  223  192  ...  -103  -127  -116   -83   -51  4\n",
              "1  X15.V1.924  386  382  356  331  320  ...   157   156   154   143   129  1\n",
              "2     X8.V1.1  -32  -39  -47  -37  -32  ...   -12   -30   -35   -35   -36  5\n",
              "3   X16.V1.60 -105 -101  -96  -92  -89  ...   -85   -77   -72   -69   -65  5\n",
              "4   X20.V1.54   -9  -65  -98 -102  -78  ...   -41   -65   -83   -89   -73  5\n",
              "\n",
              "[5 rows x 180 columns]"
            ]
          },
          "metadata": {
            "tags": []
          },
          "execution_count": 2
        }
      ]
    },
    {
      "cell_type": "code",
      "metadata": {
        "colab": {
          "base_uri": "https://localhost:8080/"
        },
        "id": "HDgQqFQxVa73",
        "outputId": "c83782cd-2b02-497f-f3b8-06b06185887d"
      },
      "source": [
        "epilepsie_data.shape"
      ],
      "execution_count": null,
      "outputs": [
        {
          "output_type": "execute_result",
          "data": {
            "text/plain": [
              "(11500, 180)"
            ]
          },
          "metadata": {
            "tags": []
          },
          "execution_count": 3
        }
      ]
    },
    {
      "cell_type": "code",
      "metadata": {
        "id": "CIDKk2lBVfkM"
      },
      "source": [
        "epilepsie_data=epilepsie_data.drop(['Unnamed: 0'],axis=1)"
      ],
      "execution_count": null,
      "outputs": []
    },
    {
      "cell_type": "code",
      "metadata": {
        "colab": {
          "base_uri": "https://localhost:8080/"
        },
        "id": "0_ByQzkbVfvK",
        "outputId": "a89b92e6-664e-4318-ab67-01d04fefcbfa"
      },
      "source": [
        "epilepsie_data.shape"
      ],
      "execution_count": null,
      "outputs": [
        {
          "output_type": "execute_result",
          "data": {
            "text/plain": [
              "(11500, 179)"
            ]
          },
          "metadata": {
            "tags": []
          },
          "execution_count": 5
        }
      ]
    },
    {
      "cell_type": "code",
      "metadata": {
        "id": "dCdLtcUebwuw"
      },
      "source": [
        "X=epilepsie_data.iloc[:,0:178]\n",
        "Y=epilepsie_data['y']\n",
        "X=X.values\n",
        "Y=Y.values"
      ],
      "execution_count": null,
      "outputs": []
    },
    {
      "cell_type": "code",
      "metadata": {
        "colab": {
          "base_uri": "https://localhost:8080/"
        },
        "id": "-r3MmejBcZpk",
        "outputId": "4ff32bd6-d2da-4f57-b3cc-91d6f114e44d"
      },
      "source": [
        "Y"
      ],
      "execution_count": null,
      "outputs": [
        {
          "output_type": "execute_result",
          "data": {
            "text/plain": [
              "array([4, 1, 5, ..., 5, 3, 4])"
            ]
          },
          "metadata": {
            "tags": []
          },
          "execution_count": 7
        }
      ]
    },
    {
      "cell_type": "code",
      "metadata": {
        "id": "LljrYPOKb2z3"
      },
      "source": [
        "Y[Y[:] == 1]=1\n",
        "Y[Y[:] > 1]=0"
      ],
      "execution_count": null,
      "outputs": []
    },
    {
      "cell_type": "code",
      "metadata": {
        "colab": {
          "base_uri": "https://localhost:8080/"
        },
        "id": "gTo3QFU_cW76",
        "outputId": "ec5d69c1-3539-4e33-8984-b68206af73d7"
      },
      "source": [
        "Y"
      ],
      "execution_count": null,
      "outputs": [
        {
          "output_type": "execute_result",
          "data": {
            "text/plain": [
              "array([0, 1, 0, ..., 0, 0, 0])"
            ]
          },
          "metadata": {
            "tags": []
          },
          "execution_count": 9
        }
      ]
    },
    {
      "cell_type": "code",
      "metadata": {
        "colab": {
          "base_uri": "https://localhost:8080/"
        },
        "id": "1ZsBxMf4JfWH",
        "outputId": "b86847b4-bd80-4aa9-a9cb-a6328922e9c7"
      },
      "source": [
        "epilepsie_data['y'].value_counts()"
      ],
      "execution_count": null,
      "outputs": [
        {
          "output_type": "execute_result",
          "data": {
            "text/plain": [
              "0    9200\n",
              "1    2300\n",
              "Name: y, dtype: int64"
            ]
          },
          "metadata": {
            "tags": []
          },
          "execution_count": 10
        }
      ]
    },
    {
      "cell_type": "code",
      "metadata": {
        "colab": {
          "base_uri": "https://localhost:8080/",
          "height": 282
        },
        "id": "SQ7h-39cJSb4",
        "outputId": "4171c3a4-df56-438b-9aae-f95a64c4be21"
      },
      "source": [
        "plt.hist(epilepsie_data['y'],label='y')\n",
        "plt.legend()"
      ],
      "execution_count": null,
      "outputs": [
        {
          "output_type": "execute_result",
          "data": {
            "text/plain": [
              "<matplotlib.legend.Legend at 0x7feae508c3d0>"
            ]
          },
          "metadata": {
            "tags": []
          },
          "execution_count": 11
        },
        {
          "output_type": "display_data",
          "data": {
            "image/png": "[encoded data removed]",
            "text/plain": [
              "<Figure size 432x288 with 1 Axes>"
            ]
          },
          "metadata": {
            "tags": [],
            "needs_background": "light"
          }
        }
      ]
    },
    {
      "cell_type": "code",
      "metadata": {
        "colab": {
          "base_uri": "https://localhost:8080/"
        },
        "id": "2AxFwvp_cnda",
        "outputId": "3927354c-81b8-44e0-f9b7-930b78d28278"
      },
      "source": [
        "X"
      ],
      "execution_count": null,
      "outputs": [
        {
          "output_type": "execute_result",
          "data": {
            "text/plain": [
              "array([[ 135,  190,  229, ..., -116,  -83,  -51],\n",
              "       [ 386,  382,  356, ...,  154,  143,  129],\n",
              "       [ -32,  -39,  -47, ...,  -35,  -35,  -36],\n",
              "       ...,\n",
              "       [  14,    6,  -13, ...,   -2,   -1,   -8],\n",
              "       [ -40,  -25,   -9, ...,   68,   59,   55],\n",
              "       [  29,   41,   57, ...,   -2,    2,   20]])"
            ]
          },
          "metadata": {
            "tags": []
          },
          "execution_count": 12
        }
      ]
    },
    {
      "cell_type": "code",
      "metadata": {
        "id": "tpfh2IHX6gPO"
      },
      "source": [
        "from sklearn.preprocessing import StandardScaler\n",
        "scaler = StandardScaler().fit(X)\n",
        "X = scaler.transform(X)"
      ],
      "execution_count": null,
      "outputs": []
    },
    {
      "cell_type": "code",
      "metadata": {
        "id": "cJ6-8oy9cyeb"
      },
      "source": [
        "Xtrain,Xtest,Ytrain,Ytest = train_test_split(X,Y,test_size=0.1,random_state=1)"
      ],
      "execution_count": null,
      "outputs": []
    },
    {
      "cell_type": "code",
      "metadata": {
        "id": "KjwWE4D9dEkZ"
      },
      "source": [
        "Xtrain=Xtrain.reshape(Xtrain.shape[0],Xtrain.shape[1],1).astype('float32')\n",
        "Xtest=Xtest.reshape(Xtest.shape[0],Xtrain.shape[1],1).astype('float32')\n",
        "input_shape=(Xtrain.shape[1],1)"
      ],
      "execution_count": null,
      "outputs": []
    },
    {
      "cell_type": "code",
      "metadata": {
        "id": "u7pvyfTfdLzR"
      },
      "source": [
        "Xtrain /=255.0\n",
        "Xtest /=255.0"
      ],
      "execution_count": null,
      "outputs": []
    },
    {
      "cell_type": "code",
      "metadata": {
        "colab": {
          "base_uri": "https://localhost:8080/"
        },
        "id": "VblgtbqgdNgB",
        "outputId": "84e06421-4c41-45b1-f646-729ad750fb2a"
      },
      "source": [
        "Xtrain.shape"
      ],
      "execution_count": null,
      "outputs": [
        {
          "output_type": "execute_result",
          "data": {
            "text/plain": [
              "(10350, 178, 1)"
            ]
          },
          "metadata": {
            "tags": []
          },
          "execution_count": 16
        }
      ]
    },
    {
      "cell_type": "code",
      "metadata": {
        "colab": {
          "base_uri": "https://localhost:8080/"
        },
        "id": "F_Ar-N8KdTVi",
        "outputId": "1ff79a9d-804a-4f67-caa7-a9449c6115a4"
      },
      "source": [
        "Ytrain.shape"
      ],
      "execution_count": null,
      "outputs": [
        {
          "output_type": "execute_result",
          "data": {
            "text/plain": [
              "(10350,)"
            ]
          },
          "metadata": {
            "tags": []
          },
          "execution_count": 17
        }
      ]
    },
    {
      "cell_type": "code",
      "metadata": {
        "id": "53EdOljIDKPP"
      },
      "source": [
        "Ytrain_one_hot = np_utils.to_categorical(Ytrain,2)\n",
        "Ytest_one_hot = np_utils.to_categorical(Ytest,2)"
      ],
      "execution_count": null,
      "outputs": []
    },
    {
      "cell_type": "code",
      "metadata": {
        "id": "e3tC4FftdZjp"
      },
      "source": [
        "model = Sequential()\n",
        "model.add(Conv1D(64,kernel_size=3,activation='relu',strides=1,input_shape=(Xtrain.shape[1],Xtrain.shape[2])))\n",
        "model.add(MaxPooling1D(pool_size=2,strides=2))\n",
        "\n",
        "model.add(Conv1D(128,kernel_size=3,activation='relu'))\n",
        "model.add(Conv1D(512,kernel_size=3,activation='relu'))\n",
        "model.add(Conv1D(1024,kernel_size=3,activation='relu'))\n",
        "\n",
        "model.add(Flatten())\n",
        "x = model.output\n",
        "x=Dense(256,activation='relu')(x)\n",
        "x=Dropout(0.3)(x)\n",
        "x=Dense(256,activation='relu')(x)\n",
        "#x=Dropout(0.3)(x)\n",
        "x=Dense(128,activation='relu')(x)\n",
        "#x=Dropout(0.2)(x)\n",
        "x=Dense(64,activation='relu')(x)\n",
        "\n",
        "prediction_layer = Dense(2, activation = 'softmax')(x)\n",
        "#model.add(Dense(6,activation='softmax'))"
      ],
      "execution_count": null,
      "outputs": []
    },
    {
      "cell_type": "code",
      "metadata": {
        "id": "c1ZjhQ_UCAL1"
      },
      "source": [
        "from keras.models import Model"
      ],
      "execution_count": null,
      "outputs": []
    },
    {
      "cell_type": "code",
      "metadata": {
        "id": "XSRx6t_aCGL0"
      },
      "source": [
        "cnn_model = Model(inputs=model.input,outputs=prediction_layer)"
      ],
      "execution_count": null,
      "outputs": []
    },
    {
      "cell_type": "code",
      "metadata": {
        "colab": {
          "base_uri": "https://localhost:8080/"
        },
        "id": "_iKJ_xjVfCHE",
        "outputId": "927fe1ad-3fdb-4e71-e4fc-5d381d494e93"
      },
      "source": [
        "cnn_model.summary()"
      ],
      "execution_count": null,
      "outputs": [
        {
          "output_type": "stream",
          "text": [
            "Model: \"model\"\n",
            "_________________________________________________________________\n",
            "Layer (type)                 Output Shape              Param #   \n",
            "=================================================================\n",
            "conv1d_input (InputLayer)    [(None, 178, 1)]          0         \n",
            "_________________________________________________________________\n",
            "conv1d (Conv1D)              (None, 176, 64)           256       \n",
            "_________________________________________________________________\n",
            "max_pooling1d (MaxPooling1D) (None, 88, 64)            0         \n",
            "_________________________________________________________________\n",
            "conv1d_1 (Conv1D)            (None, 86, 128)           24704     \n",
            "_________________________________________________________________\n",
            "conv1d_2 (Conv1D)            (None, 84, 512)           197120    \n",
            "_________________________________________________________________\n",
            "conv1d_3 (Conv1D)            (None, 82, 1024)          1573888   \n",
            "_________________________________________________________________\n",
            "flatten (Flatten)            (None, 83968)             0         \n",
            "_________________________________________________________________\n",
            "dense (Dense)                (None, 256)               21496064  \n",
            "_________________________________________________________________\n",
            "dropout (Dropout)            (None, 256)               0         \n",
            "_________________________________________________________________\n",
            "dense_1 (Dense)              (None, 256)               65792     \n",
            "_________________________________________________________________\n",
            "dense_2 (Dense)              (None, 128)               32896     \n",
            "_________________________________________________________________\n",
            "dense_3 (Dense)              (None, 64)                8256      \n",
            "_________________________________________________________________\n",
            "dense_4 (Dense)              (None, 2)                 130       \n",
            "=================================================================\n",
            "Total params: 23,399,106\n",
            "Trainable params: 23,399,106\n",
            "Non-trainable params: 0\n",
            "_________________________________________________________________\n"
          ],
          "name": "stdout"
        }
      ]
    },
    {
      "cell_type": "code",
      "metadata": {
        "id": "QJZ5zKb4fTvM"
      },
      "source": [
        "cnn_model.compile(loss=keras.losses.categorical_crossentropy,optimizer=keras.optimizers.Adam(),metrics=['accuracy'])"
      ],
      "execution_count": null,
      "outputs": []
    },
    {
      "cell_type": "code",
      "metadata": {
        "id": "p6fSRhfRfbhe"
      },
      "source": [
        "batch_size = 1350 #elements contains\n",
        "epochs = 50"
      ],
      "execution_count": null,
      "outputs": []
    },
    {
      "cell_type": "code",
      "metadata": {
        "colab": {
          "base_uri": "https://localhost:8080/"
        },
        "id": "dZH3Ec-hfst0",
        "outputId": "77006b64-930d-4771-94b5-69b9bf9c1949"
      },
      "source": [
        "history = cnn_model.fit(Xtrain,Ytrain_one_hot,batch_size=batch_size,epochs=epochs,verbose=1,validation_data=(Xtest,Ytest_one_hot))"
      ],
      "execution_count": null,
      "outputs": [
        {
          "output_type": "stream",
          "text": [
            "Epoch 1/50\n",
            "8/8 [==============================] - 52s 762ms/step - loss: 0.6553 - accuracy: 0.6144 - val_loss: 0.1432 - val_accuracy: 0.9452\n",
            "Epoch 2/50\n",
            "8/8 [==============================] - 3s 359ms/step - loss: 0.1685 - accuracy: 0.9410 - val_loss: 0.1312 - val_accuracy: 0.9452\n",
            "Epoch 3/50\n",
            "8/8 [==============================] - 3s 358ms/step - loss: 0.1309 - accuracy: 0.9452 - val_loss: 0.1268 - val_accuracy: 0.9426\n",
            "Epoch 4/50\n",
            "8/8 [==============================] - 3s 360ms/step - loss: 0.1078 - accuracy: 0.9522 - val_loss: 0.1149 - val_accuracy: 0.9522\n",
            "Epoch 5/50\n",
            "8/8 [==============================] - 3s 358ms/step - loss: 0.1011 - accuracy: 0.9555 - val_loss: 0.1069 - val_accuracy: 0.9583\n",
            "Epoch 6/50\n",
            "8/8 [==============================] - 3s 360ms/step - loss: 0.0923 - accuracy: 0.9624 - val_loss: 0.1012 - val_accuracy: 0.9574\n",
            "Epoch 7/50\n",
            "8/8 [==============================] - 3s 363ms/step - loss: 0.0896 - accuracy: 0.9614 - val_loss: 0.0934 - val_accuracy: 0.9617\n",
            "Epoch 8/50\n",
            "8/8 [==============================] - 3s 364ms/step - loss: 0.0804 - accuracy: 0.9677 - val_loss: 0.0887 - val_accuracy: 0.9687\n",
            "Epoch 9/50\n",
            "8/8 [==============================] - 3s 365ms/step - loss: 0.0720 - accuracy: 0.9699 - val_loss: 0.0833 - val_accuracy: 0.9696\n",
            "Epoch 10/50\n",
            "8/8 [==============================] - 3s 368ms/step - loss: 0.0662 - accuracy: 0.9754 - val_loss: 0.0753 - val_accuracy: 0.9739\n",
            "Epoch 11/50\n",
            "8/8 [==============================] - 3s 369ms/step - loss: 0.0582 - accuracy: 0.9779 - val_loss: 0.0684 - val_accuracy: 0.9774\n",
            "Epoch 12/50\n",
            "8/8 [==============================] - 3s 376ms/step - loss: 0.0509 - accuracy: 0.9826 - val_loss: 0.0638 - val_accuracy: 0.9800\n",
            "Epoch 13/50\n",
            "8/8 [==============================] - 3s 374ms/step - loss: 0.0482 - accuracy: 0.9835 - val_loss: 0.0644 - val_accuracy: 0.9783\n",
            "Epoch 14/50\n",
            "8/8 [==============================] - 3s 374ms/step - loss: 0.0451 - accuracy: 0.9840 - val_loss: 0.0562 - val_accuracy: 0.9800\n",
            "Epoch 15/50\n",
            "8/8 [==============================] - 3s 377ms/step - loss: 0.0398 - accuracy: 0.9865 - val_loss: 0.0501 - val_accuracy: 0.9843\n",
            "Epoch 16/50\n",
            "8/8 [==============================] - 3s 385ms/step - loss: 0.0334 - accuracy: 0.9883 - val_loss: 0.0536 - val_accuracy: 0.9835\n",
            "Epoch 17/50\n",
            "8/8 [==============================] - 3s 381ms/step - loss: 0.0348 - accuracy: 0.9878 - val_loss: 0.0525 - val_accuracy: 0.9843\n",
            "Epoch 18/50\n",
            "8/8 [==============================] - 3s 382ms/step - loss: 0.0293 - accuracy: 0.9897 - val_loss: 0.0460 - val_accuracy: 0.9870\n",
            "Epoch 19/50\n",
            "8/8 [==============================] - 3s 383ms/step - loss: 0.0235 - accuracy: 0.9911 - val_loss: 0.0517 - val_accuracy: 0.9843\n",
            "Epoch 20/50\n",
            "8/8 [==============================] - 3s 385ms/step - loss: 0.0193 - accuracy: 0.9927 - val_loss: 0.0476 - val_accuracy: 0.9870\n",
            "Epoch 21/50\n",
            "8/8 [==============================] - 3s 386ms/step - loss: 0.0231 - accuracy: 0.9929 - val_loss: 0.0521 - val_accuracy: 0.9870\n",
            "Epoch 22/50\n",
            "8/8 [==============================] - 3s 390ms/step - loss: 0.0190 - accuracy: 0.9939 - val_loss: 0.0489 - val_accuracy: 0.9887\n",
            "Epoch 23/50\n",
            "8/8 [==============================] - 3s 391ms/step - loss: 0.0155 - accuracy: 0.9957 - val_loss: 0.0520 - val_accuracy: 0.9896\n",
            "Epoch 24/50\n",
            "8/8 [==============================] - 3s 393ms/step - loss: 0.0144 - accuracy: 0.9958 - val_loss: 0.0602 - val_accuracy: 0.9843\n",
            "Epoch 25/50\n",
            "8/8 [==============================] - 3s 395ms/step - loss: 0.0130 - accuracy: 0.9966 - val_loss: 0.0608 - val_accuracy: 0.9870\n",
            "Epoch 26/50\n",
            "8/8 [==============================] - 3s 395ms/step - loss: 0.0128 - accuracy: 0.9959 - val_loss: 0.0765 - val_accuracy: 0.9809\n",
            "Epoch 27/50\n",
            "8/8 [==============================] - 3s 393ms/step - loss: 0.0109 - accuracy: 0.9970 - val_loss: 0.0547 - val_accuracy: 0.9887\n",
            "Epoch 28/50\n",
            "8/8 [==============================] - 3s 391ms/step - loss: 0.0082 - accuracy: 0.9974 - val_loss: 0.0483 - val_accuracy: 0.9887\n",
            "Epoch 29/50\n",
            "8/8 [==============================] - 3s 390ms/step - loss: 0.0063 - accuracy: 0.9986 - val_loss: 0.0604 - val_accuracy: 0.9896\n",
            "Epoch 30/50\n",
            "8/8 [==============================] - 3s 388ms/step - loss: 0.0054 - accuracy: 0.9993 - val_loss: 0.0757 - val_accuracy: 0.9843\n",
            "Epoch 31/50\n",
            "8/8 [==============================] - 3s 386ms/step - loss: 0.0051 - accuracy: 0.9984 - val_loss: 0.0752 - val_accuracy: 0.9870\n",
            "Epoch 32/50\n",
            "8/8 [==============================] - 3s 384ms/step - loss: 0.0043 - accuracy: 0.9984 - val_loss: 0.0994 - val_accuracy: 0.9878\n",
            "Epoch 33/50\n",
            "8/8 [==============================] - 3s 385ms/step - loss: 0.0081 - accuracy: 0.9977 - val_loss: 0.0925 - val_accuracy: 0.9870\n",
            "Epoch 34/50\n",
            "8/8 [==============================] - 3s 383ms/step - loss: 0.0043 - accuracy: 0.9987 - val_loss: 0.0860 - val_accuracy: 0.9852\n",
            "Epoch 35/50\n",
            "8/8 [==============================] - 3s 384ms/step - loss: 0.0039 - accuracy: 0.9989 - val_loss: 0.0943 - val_accuracy: 0.9861\n",
            "Epoch 36/50\n",
            "8/8 [==============================] - 3s 383ms/step - loss: 0.0049 - accuracy: 0.9987 - val_loss: 0.0823 - val_accuracy: 0.9843\n",
            "Epoch 37/50\n",
            "8/8 [==============================] - 3s 381ms/step - loss: 0.0025 - accuracy: 0.9993 - val_loss: 0.1019 - val_accuracy: 0.9861\n",
            "Epoch 38/50\n",
            "8/8 [==============================] - 3s 381ms/step - loss: 0.0024 - accuracy: 0.9993 - val_loss: 0.0986 - val_accuracy: 0.9861\n",
            "Epoch 39/50\n",
            "8/8 [==============================] - 3s 381ms/step - loss: 0.0012 - accuracy: 0.9999 - val_loss: 0.0854 - val_accuracy: 0.9878\n",
            "Epoch 40/50\n",
            "8/8 [==============================] - 3s 382ms/step - loss: 0.0017 - accuracy: 0.9995 - val_loss: 0.1034 - val_accuracy: 0.9878\n",
            "Epoch 41/50\n",
            "8/8 [==============================] - 3s 381ms/step - loss: 0.0016 - accuracy: 0.9995 - val_loss: 0.1207 - val_accuracy: 0.9861\n",
            "Epoch 42/50\n",
            "8/8 [==============================] - 3s 381ms/step - loss: 0.0019 - accuracy: 0.9994 - val_loss: 0.0966 - val_accuracy: 0.9852\n",
            "Epoch 43/50\n",
            "8/8 [==============================] - 3s 380ms/step - loss: 0.0433 - accuracy: 0.9876 - val_loss: 0.1080 - val_accuracy: 0.9800\n",
            "Epoch 44/50\n",
            "8/8 [==============================] - 3s 379ms/step - loss: 0.0345 - accuracy: 0.9905 - val_loss: 0.0768 - val_accuracy: 0.9791\n",
            "Epoch 45/50\n",
            "8/8 [==============================] - 3s 378ms/step - loss: 0.0293 - accuracy: 0.9925 - val_loss: 0.0644 - val_accuracy: 0.9843\n",
            "Epoch 46/50\n",
            "8/8 [==============================] - 3s 379ms/step - loss: 0.0143 - accuracy: 0.9961 - val_loss: 0.0596 - val_accuracy: 0.9835\n",
            "Epoch 47/50\n",
            "8/8 [==============================] - 3s 378ms/step - loss: 0.0102 - accuracy: 0.9974 - val_loss: 0.0734 - val_accuracy: 0.9852\n",
            "Epoch 48/50\n",
            "8/8 [==============================] - 3s 380ms/step - loss: 0.0059 - accuracy: 0.9981 - val_loss: 0.0808 - val_accuracy: 0.9861\n",
            "Epoch 49/50\n",
            "8/8 [==============================] - 3s 380ms/step - loss: 0.0040 - accuracy: 0.9989 - val_loss: 0.0838 - val_accuracy: 0.9861\n",
            "Epoch 50/50\n",
            "8/8 [==============================] - 3s 379ms/step - loss: 0.0040 - accuracy: 0.9991 - val_loss: 0.0977 - val_accuracy: 0.9861\n"
          ],
          "name": "stdout"
        }
      ]
    },
    {
      "cell_type": "code",
      "metadata": {
        "colab": {
          "base_uri": "https://localhost:8080/"
        },
        "id": "MuAAIFE4sjov",
        "outputId": "8266dc88-0c29-45a1-ece0-65f73117b968"
      },
      "source": [
        "score = cnn_model.evaluate(Xtrain,Ytrain_one_hot,verbose=0)\n",
        "print('test loss = ',score[0])\n",
        "print('accuracy = ',score[1])"
      ],
      "execution_count": null,
      "outputs": [
        {
          "output_type": "stream",
          "text": [
            "test loss =  0.0013855639845132828\n",
            "accuracy =  0.9996135234832764\n"
          ],
          "name": "stdout"
        }
      ]
    },
    {
      "cell_type": "code",
      "metadata": {
        "colab": {
          "base_uri": "https://localhost:8080/"
        },
        "id": "s3FtcsvZs5yV",
        "outputId": "4fe5ff84-4f30-4e30-c643-dd28e09657e6"
      },
      "source": [
        "score = cnn_model.evaluate(Xtest,Ytest_one_hot,verbose=0)\n",
        "print('test loss = ',score[0])\n",
        "print('accuracy = ',score[1])"
      ],
      "execution_count": null,
      "outputs": [
        {
          "output_type": "stream",
          "text": [
            "test loss =  0.09769361466169357\n",
            "accuracy =  0.9860869646072388\n"
          ],
          "name": "stdout"
        }
      ]
    },
    {
      "cell_type": "code",
      "metadata": {
        "colab": {
          "base_uri": "https://localhost:8080/",
          "height": 332
        },
        "id": "D0layiQMtFv-",
        "outputId": "341bd2c1-99de-459a-8193-8b5703fb26c2"
      },
      "source": [
        "print(history.history)\n",
        "plt.plot(history.history['accuracy'])\n",
        "plt.plot(history.history['val_accuracy'])\n",
        "plt.title('model accuracy')\n",
        "plt.ylabel('accuracy')\n",
        "plt.xlabel('epoch')\n",
        "plt.legend(['train','test'],loc='upper left')\n",
        "plt.show()"
      ],
      "execution_count": null,
      "outputs": [
        {
          "output_type": "stream",
          "text": [
            "{'loss': [0.5810655355453491, 0.17581807076931, 0.12956762313842773, 0.1015988141298294, 0.0948886126279831, 0.09065832942724228, 0.0852765291929245, 0.07761258631944656, 0.07068581879138947, 0.06462471932172775, 0.060233768075704575, 0.05419405177235603, 0.04908674582839012, 0.04413490742444992, 0.03892156109213829, 0.03381941094994545, 0.03336707130074501, 0.02792387828230858, 0.023044105619192123, 0.02050122059881687, 0.024661483243107796, 0.0182753037661314, 0.015738707035779953, 0.013394751586019993, 0.01176423393189907, 0.011460699141025543, 0.011164676398038864, 0.008824626915156841, 0.006092127412557602, 0.00401938846334815, 0.004922013264149427, 0.0053103044629096985, 0.006839629728347063, 0.004544606897979975, 0.004128568340092897, 0.004501154646277428, 0.002763268770650029, 0.0021602711640298367, 0.0014495159266516566, 0.0014927851734682918, 0.001816248637624085, 0.002493961015716195, 0.06845204532146454, 0.034956637769937515, 0.026622043922543526, 0.014913038350641727, 0.010238111950457096, 0.006953057833015919, 0.004380096681416035, 0.0034396022092550993], 'accuracy': [0.7230917811393738, 0.9342995285987854, 0.9441545605659485, 0.9545893669128418, 0.958550751209259, 0.9624154567718506, 0.962995171546936, 0.9669564962387085, 0.9714975953102112, 0.9745893478393555, 0.9777777791023254, 0.9805797338485718, 0.9828985333442688, 0.9845410585403442, 0.985893726348877, 0.9878261089324951, 0.9874396324157715, 0.990338146686554, 0.9918840527534485, 0.9927536249160767, 0.9915941953659058, 0.9942029118537903, 0.9953623414039612, 0.9957488179206848, 0.99681156873703, 0.9961352944374084, 0.9966183304786682, 0.9974879026412964, 0.9984540939331055, 0.9994202852249146, 0.9985507130622864, 0.99787437915802, 0.9980676174163818, 0.9986473321914673, 0.9988405704498291, 0.9988405704498291, 0.9992270469665527, 0.9993236660957336, 0.9997101426124573, 0.9994202852249146, 0.9993236660957336, 0.9991304278373718, 0.9801932573318481, 0.989275336265564, 0.9927536249160767, 0.9960386753082275, 0.9971014261245728, 0.9976811408996582, 0.9987439513206482, 0.9991304278373718], 'val_loss': [0.14324872195720673, 0.13118180632591248, 0.12677758932113647, 0.11493749171495438, 0.10688670724630356, 0.10117343813180923, 0.09337414056062698, 0.08873406052589417, 0.08330772817134857, 0.07533130794763565, 0.06841664016246796, 0.0637623518705368, 0.06442154943943024, 0.056238848716020584, 0.050139427185058594, 0.05357474461197853, 0.052453868091106415, 0.046007800847291946, 0.05173157900571823, 0.04761462286114693, 0.052130769938230515, 0.048887934535741806, 0.052038852125406265, 0.06024892255663872, 0.06077104061841965, 0.07648688554763794, 0.05470563843846321, 0.0482664629817009, 0.06044426187872887, 0.075722835958004, 0.07516118139028549, 0.0994497537612915, 0.0924723669886589, 0.08596893399953842, 0.09429901093244553, 0.08233484625816345, 0.10194896906614304, 0.0985855683684349, 0.08535449951887131, 0.10336782783269882, 0.12070410698652267, 0.09662044048309326, 0.10796505212783813, 0.07677518576383591, 0.06441755592823029, 0.05958470329642296, 0.07344972342252731, 0.08078209310770035, 0.08376973122358322, 0.09769359230995178], 'val_accuracy': [0.9452173709869385, 0.9452173709869385, 0.9426087141036987, 0.9521738886833191, 0.9582608938217163, 0.9573913216590881, 0.9617391228675842, 0.9686956405639648, 0.969565212726593, 0.9739130139350891, 0.9773913025856018, 0.9800000190734863, 0.97826087474823, 0.9800000190734863, 0.9843478202819824, 0.9834782481193542, 0.9843478202819824, 0.9869565367698669, 0.9843478202819824, 0.9869565367698669, 0.9869565367698669, 0.9886956810951233, 0.9895651936531067, 0.9843478202819824, 0.9869565367698669, 0.9808695912361145, 0.9886956810951233, 0.9886956810951233, 0.9895651936531067, 0.9843478202819824, 0.9869565367698669, 0.9878261089324951, 0.9869565367698669, 0.9852173924446106, 0.9860869646072388, 0.9843478202819824, 0.9860869646072388, 0.9860869646072388, 0.9878261089324951, 0.9878261089324951, 0.9860869646072388, 0.9852173924446106, 0.9800000190734863, 0.9791304469108582, 0.9843478202819824, 0.9834782481193542, 0.9852173924446106, 0.9860869646072388, 0.9860869646072388, 0.9860869646072388]}\n"
          ],
          "name": "stdout"
        },
        {
          "output_type": "display_data",
          "data": {
            "image/png": "[encoded data removed]",
            "text/plain": [
              "<Figure size 432x288 with 1 Axes>"
            ]
          },
          "metadata": {
            "tags": [],
            "needs_background": "light"
          }
        }
      ]
    },
    {
      "cell_type": "code",
      "metadata": {
        "colab": {
          "base_uri": "https://localhost:8080/",
          "height": 295
        },
        "id": "Jxf7G2K-Q0ap",
        "outputId": "c33bc480-4cbd-47f6-8c24-e5aa18035050"
      },
      "source": [
        "plt.plot(history.history['loss'])\n",
        "plt.plot(history.history['val_loss'])\n",
        "plt.title('model loss')\n",
        "plt.ylabel('loss')\n",
        "plt.xlabel('epoch')\n",
        "plt.legend(['train','test'],loc='upper left')\n",
        "plt.show()"
      ],
      "execution_count": null,
      "outputs": [
        {
          "output_type": "display_data",
          "data": {
            "image/png": "[encoded data removed]",
            "text/plain": [
              "<Figure size 432x288 with 1 Axes>"
            ]
          },
          "metadata": {
            "tags": [],
            "needs_background": "light"
          }
        }
      ]
    },
    {
      "cell_type": "code",
      "metadata": {
        "id": "4RnFWnRCtZ5E"
      },
      "source": [
        "y_pred = cnn_model.predict(Xtest)\n",
        "y_pred = np.argmax(y_pred,axis=-1)"
      ],
      "execution_count": null,
      "outputs": []
    },
    {
      "cell_type": "code",
      "metadata": {
        "id": "hs-5vqlbthJd"
      },
      "source": [
        "from sklearn.metrics import confusion_matrix, classification_report"
      ],
      "execution_count": null,
      "outputs": []
    },
    {
      "cell_type": "code",
      "metadata": {
        "id": "KSM2qpQMtl5q"
      },
      "source": [
        "cm = confusion_matrix(Ytest, y_pred)"
      ],
      "execution_count": null,
      "outputs": []
    },
    {
      "cell_type": "code",
      "metadata": {
        "colab": {
          "base_uri": "https://localhost:8080/",
          "height": 286
        },
        "id": "c4vtXZZLtr7d",
        "outputId": "6fbf98f4-5e4f-438c-a630-847773111fac"
      },
      "source": [
        "sns.heatmap(cm,annot=True,fmt='g')"
      ],
      "execution_count": null,
      "outputs": [
        {
          "output_type": "execute_result",
          "data": {
            "text/plain": [
              "<matplotlib.axes._subplots.AxesSubplot at 0x7fea656eeb10>"
            ]
          },
          "metadata": {
            "tags": []
          },
          "execution_count": 33
        },
        {
          "output_type": "display_data",
          "data": {
            "image/png": "[encoded data removed]",
            "text/plain": [
              "<Figure size 432x288 with 2 Axes>"
            ]
          },
          "metadata": {
            "tags": [],
            "needs_background": "light"
          }
        }
      ]
    },
    {
      "cell_type": "code",
      "metadata": {
        "colab": {
          "base_uri": "https://localhost:8080/"
        },
        "id": "HWbxNG3TKpOK",
        "outputId": "e5847747-90e7-4886-f87a-e1447106bc53"
      },
      "source": [
        "cp = classification_report(Ytest,y_pred)\n",
        "print(cp)"
      ],
      "execution_count": null,
      "outputs": [
        {
          "output_type": "stream",
          "text": [
            "              precision    recall  f1-score   support\n",
            "\n",
            "           0       0.99      0.99      0.99       909\n",
            "           1       0.97      0.96      0.97       241\n",
            "\n",
            "    accuracy                           0.99      1150\n",
            "   macro avg       0.98      0.98      0.98      1150\n",
            "weighted avg       0.99      0.99      0.99      1150\n",
            "\n"
          ],
          "name": "stdout"
        }
      ]
    },
    {
      "cell_type": "markdown",
      "metadata": {
        "id": "h82ZfSoguV1b"
      },
      "source": [
        "#CNN_LSTM Model"
      ]
    },
    {
      "cell_type": "code",
      "metadata": {
        "id": "Co-KI6EJuomF"
      },
      "source": [
        "from keras.layers import LSTM"
      ],
      "execution_count": null,
      "outputs": []
    },
    {
      "cell_type": "code",
      "metadata": {
        "id": "NWeKyHPx0xGC"
      },
      "source": [
        "model_LSTM = Sequential()\n",
        "model_LSTM.add(Conv1D(64,kernel_size=3,activation='relu',strides=1,input_shape=(Xtrain.shape[1],Xtrain.shape[2])))\n",
        "model_LSTM.add(MaxPooling1D(pool_size=2,strides=2))\n",
        "\n",
        "model_LSTM.add(Conv1D(128,kernel_size=3,activation='relu'))\n",
        "model_LSTM.add(Conv1D(512,kernel_size=3,activation='relu'))\n",
        "model_LSTM.add(Conv1D(1024,kernel_size=3,activation='relu'))\n",
        "\n",
        "#model.add(Flatten())\n",
        "model_LSTM.add(Dense(256,activation='relu'))\n",
        "model_LSTM.add(Dropout(0.2))\n",
        "model_LSTM.add(LSTM(64,activation='tanh',return_sequences=True))\n",
        "model_LSTM.add(LSTM(64,activation='tanh'))\n",
        "model_LSTM.add(Dense(256,activation='relu'))\n",
        "model_LSTM.add(Dense(128,activation='relu'))\n",
        "model_LSTM.add(Dense(64,activation='relu'))\n",
        "model_LSTM.add(Dense(2, activation = 'softmax'))\n"
      ],
      "execution_count": null,
      "outputs": []
    },
    {
      "cell_type": "code",
      "metadata": {
        "id": "_9R-h_IovAo8"
      },
      "source": [
        "model_LSTM = Sequential()\n",
        "model_LSTM.add(Conv1D(64,kernel_size=3,activation='relu',strides=1,input_shape=(Xtrain.shape[1],Xtrain.shape[2])))\n",
        "model_LSTM.add(MaxPooling1D(pool_size=2,strides=2))\n",
        "\n",
        "model_LSTM.add(Conv1D(128,kernel_size=3,activation='relu'))\n",
        "model_LSTM.add(Conv1D(512,kernel_size=3,activation='relu'))\n",
        "model_LSTM.add(Conv1D(1024,kernel_size=3,activation='relu'))\n",
        "x = model_LSTM.output\n",
        "#model.add(Flatten())\n",
        "x = Dense(256,activation='relu')(x)\n",
        "x = Dropout(0.2)(x)\n",
        "x = LSTM(64,activation='tanh',return_sequences=True)(x)\n",
        "x = LSTM(64,activation='tanh')(x)\n",
        "x = Dense(256,activation='relu')(x)\n",
        "x = Dense(128,activation='relu')(x)\n",
        "x =Dense(64,activation='relu')(x)\n",
        "prediction_layer =  Dense(2, activation = 'softmax')(x)"
      ],
      "execution_count": null,
      "outputs": []
    },
    {
      "cell_type": "code",
      "metadata": {
        "id": "mPqh5bijw2XG"
      },
      "source": [
        "#model_CNN_LSTM = Model(inputs=model_LSTM.input,outputs=prediction_layer)"
      ],
      "execution_count": null,
      "outputs": []
    },
    {
      "cell_type": "code",
      "metadata": {
        "id": "I3qOm8l_xb6F",
        "colab": {
          "base_uri": "https://localhost:8080/"
        },
        "outputId": "236483a0-460d-498c-e637-0568c291733e"
      },
      "source": [
        "model_LSTM.summary()"
      ],
      "execution_count": null,
      "outputs": [
        {
          "output_type": "stream",
          "text": [
            "Model: \"sequential_1\"\n",
            "_________________________________________________________________\n",
            "Layer (type)                 Output Shape              Param #   \n",
            "=================================================================\n",
            "conv1d_4 (Conv1D)            (None, 176, 64)           256       \n",
            "_________________________________________________________________\n",
            "max_pooling1d_1 (MaxPooling1 (None, 88, 64)            0         \n",
            "_________________________________________________________________\n",
            "conv1d_5 (Conv1D)            (None, 86, 128)           24704     \n",
            "_________________________________________________________________\n",
            "conv1d_6 (Conv1D)            (None, 84, 512)           197120    \n",
            "_________________________________________________________________\n",
            "conv1d_7 (Conv1D)            (None, 82, 1024)          1573888   \n",
            "_________________________________________________________________\n",
            "dense_5 (Dense)              (None, 82, 256)           262400    \n",
            "_________________________________________________________________\n",
            "dropout_1 (Dropout)          (None, 82, 256)           0         \n",
            "_________________________________________________________________\n",
            "lstm (LSTM)                  (None, 82, 64)            82176     \n",
            "_________________________________________________________________\n",
            "lstm_1 (LSTM)                (None, 64)                33024     \n",
            "_________________________________________________________________\n",
            "dense_6 (Dense)              (None, 256)               16640     \n",
            "_________________________________________________________________\n",
            "dense_7 (Dense)              (None, 128)               32896     \n",
            "_________________________________________________________________\n",
            "dense_8 (Dense)              (None, 64)                8256      \n",
            "_________________________________________________________________\n",
            "dense_9 (Dense)              (None, 2)                 130       \n",
            "=================================================================\n",
            "Total params: 2,231,490\n",
            "Trainable params: 2,231,490\n",
            "Non-trainable params: 0\n",
            "_________________________________________________________________\n"
          ],
          "name": "stdout"
        }
      ]
    },
    {
      "cell_type": "code",
      "metadata": {
        "id": "p8dPjV5FxMTn"
      },
      "source": [
        "model_LSTM.compile(loss=keras.losses.categorical_crossentropy,optimizer=keras.optimizers.Adam(),metrics=['accuracy'])"
      ],
      "execution_count": null,
      "outputs": []
    },
    {
      "cell_type": "code",
      "metadata": {
        "id": "EwymOitXxhkP"
      },
      "source": [
        "batch_size = 1350\n",
        "epochs = 50"
      ],
      "execution_count": null,
      "outputs": []
    },
    {
      "cell_type": "code",
      "metadata": {
        "colab": {
          "base_uri": "https://localhost:8080/"
        },
        "id": "dDPhc9_Ixtdy",
        "outputId": "d5658845-01b4-4ad9-dae8-088c0372b8fa"
      },
      "source": [
        "history_LSTM = model_LSTM.fit(Xtrain,Ytrain_one_hot,batch_size=batch_size,epochs=epochs,verbose=1,validation_data=(Xtest,Ytest_one_hot))"
      ],
      "execution_count": null,
      "outputs": [
        {
          "output_type": "stream",
          "text": [
            "Epoch 1/50\n",
            "8/8 [==============================] - 12s 583ms/step - loss: 0.6605 - accuracy: 0.6895 - val_loss: 0.3712 - val_accuracy: 0.9452\n",
            "Epoch 2/50\n",
            "8/8 [==============================] - 4s 459ms/step - loss: 0.2657 - accuracy: 0.9431 - val_loss: 0.1413 - val_accuracy: 0.9443\n",
            "Epoch 3/50\n",
            "8/8 [==============================] - 4s 462ms/step - loss: 0.1327 - accuracy: 0.9473 - val_loss: 0.1286 - val_accuracy: 0.9478\n",
            "Epoch 4/50\n",
            "8/8 [==============================] - 4s 467ms/step - loss: 0.1152 - accuracy: 0.9493 - val_loss: 0.1179 - val_accuracy: 0.9522\n",
            "Epoch 5/50\n",
            "8/8 [==============================] - 4s 467ms/step - loss: 0.1085 - accuracy: 0.9545 - val_loss: 0.1182 - val_accuracy: 0.9496\n",
            "Epoch 6/50\n",
            "8/8 [==============================] - 4s 466ms/step - loss: 0.0964 - accuracy: 0.9585 - val_loss: 0.1162 - val_accuracy: 0.9583\n",
            "Epoch 7/50\n",
            "8/8 [==============================] - 4s 459ms/step - loss: 0.0974 - accuracy: 0.9566 - val_loss: 0.1424 - val_accuracy: 0.9504\n",
            "Epoch 8/50\n",
            "8/8 [==============================] - 4s 456ms/step - loss: 0.1012 - accuracy: 0.9594 - val_loss: 0.1009 - val_accuracy: 0.9609\n",
            "Epoch 9/50\n",
            "8/8 [==============================] - 4s 450ms/step - loss: 0.0919 - accuracy: 0.9643 - val_loss: 0.0993 - val_accuracy: 0.9583\n",
            "Epoch 10/50\n",
            "8/8 [==============================] - 4s 446ms/step - loss: 0.0900 - accuracy: 0.9632 - val_loss: 0.0985 - val_accuracy: 0.9609\n",
            "Epoch 11/50\n",
            "8/8 [==============================] - 4s 445ms/step - loss: 0.0801 - accuracy: 0.9680 - val_loss: 0.0963 - val_accuracy: 0.9652\n",
            "Epoch 12/50\n",
            "8/8 [==============================] - 4s 441ms/step - loss: 0.0753 - accuracy: 0.9713 - val_loss: 0.0981 - val_accuracy: 0.9652\n",
            "Epoch 13/50\n",
            "8/8 [==============================] - 4s 440ms/step - loss: 0.0800 - accuracy: 0.9679 - val_loss: 0.0892 - val_accuracy: 0.9696\n",
            "Epoch 14/50\n",
            "8/8 [==============================] - 3s 438ms/step - loss: 0.0762 - accuracy: 0.9694 - val_loss: 0.0845 - val_accuracy: 0.9670\n",
            "Epoch 15/50\n",
            "8/8 [==============================] - 3s 436ms/step - loss: 0.0650 - accuracy: 0.9750 - val_loss: 0.0807 - val_accuracy: 0.9652\n",
            "Epoch 16/50\n",
            "8/8 [==============================] - 3s 434ms/step - loss: 0.0646 - accuracy: 0.9745 - val_loss: 0.0769 - val_accuracy: 0.9678\n",
            "Epoch 17/50\n",
            "8/8 [==============================] - 3s 436ms/step - loss: 0.0728 - accuracy: 0.9716 - val_loss: 0.0762 - val_accuracy: 0.9678\n",
            "Epoch 18/50\n",
            "8/8 [==============================] - 3s 435ms/step - loss: 0.0651 - accuracy: 0.9754 - val_loss: 0.0692 - val_accuracy: 0.9713\n",
            "Epoch 19/50\n",
            "8/8 [==============================] - 3s 435ms/step - loss: 0.0660 - accuracy: 0.9714 - val_loss: 0.0746 - val_accuracy: 0.9722\n",
            "Epoch 20/50\n",
            "8/8 [==============================] - 3s 435ms/step - loss: 0.0642 - accuracy: 0.9759 - val_loss: 0.0811 - val_accuracy: 0.9730\n",
            "Epoch 21/50\n",
            "8/8 [==============================] - 3s 435ms/step - loss: 0.0635 - accuracy: 0.9756 - val_loss: 0.0677 - val_accuracy: 0.9748\n",
            "Epoch 22/50\n",
            "8/8 [==============================] - 3s 435ms/step - loss: 0.0604 - accuracy: 0.9763 - val_loss: 0.0689 - val_accuracy: 0.9748\n",
            "Epoch 23/50\n",
            "8/8 [==============================] - 3s 435ms/step - loss: 0.0578 - accuracy: 0.9779 - val_loss: 0.0560 - val_accuracy: 0.9817\n",
            "Epoch 24/50\n",
            "8/8 [==============================] - 3s 437ms/step - loss: 0.0499 - accuracy: 0.9821 - val_loss: 0.0579 - val_accuracy: 0.9809\n",
            "Epoch 25/50\n",
            "8/8 [==============================] - 3s 438ms/step - loss: 0.0460 - accuracy: 0.9838 - val_loss: 0.0640 - val_accuracy: 0.9765\n",
            "Epoch 26/50\n",
            "8/8 [==============================] - 4s 441ms/step - loss: 0.0584 - accuracy: 0.9768 - val_loss: 0.0711 - val_accuracy: 0.9730\n",
            "Epoch 27/50\n",
            "8/8 [==============================] - 4s 444ms/step - loss: 0.0546 - accuracy: 0.9826 - val_loss: 0.0573 - val_accuracy: 0.9800\n",
            "Epoch 28/50\n",
            "8/8 [==============================] - 4s 441ms/step - loss: 0.0411 - accuracy: 0.9863 - val_loss: 0.0560 - val_accuracy: 0.9817\n",
            "Epoch 29/50\n",
            "8/8 [==============================] - 4s 441ms/step - loss: 0.0464 - accuracy: 0.9818 - val_loss: 0.0630 - val_accuracy: 0.9765\n",
            "Epoch 30/50\n",
            "8/8 [==============================] - 4s 442ms/step - loss: 0.0463 - accuracy: 0.9833 - val_loss: 0.0517 - val_accuracy: 0.9826\n",
            "Epoch 31/50\n",
            "8/8 [==============================] - 4s 442ms/step - loss: 0.0434 - accuracy: 0.9844 - val_loss: 0.0511 - val_accuracy: 0.9817\n",
            "Epoch 32/50\n",
            "8/8 [==============================] - 4s 442ms/step - loss: 0.0386 - accuracy: 0.9847 - val_loss: 0.0496 - val_accuracy: 0.9817\n",
            "Epoch 33/50\n",
            "8/8 [==============================] - 4s 442ms/step - loss: 0.0423 - accuracy: 0.9840 - val_loss: 0.0624 - val_accuracy: 0.9809\n",
            "Epoch 34/50\n",
            "8/8 [==============================] - 4s 441ms/step - loss: 0.0482 - accuracy: 0.9802 - val_loss: 0.0484 - val_accuracy: 0.9826\n",
            "Epoch 35/50\n",
            "8/8 [==============================] - 4s 442ms/step - loss: 0.0379 - accuracy: 0.9864 - val_loss: 0.0489 - val_accuracy: 0.9861\n",
            "Epoch 36/50\n",
            "8/8 [==============================] - 4s 441ms/step - loss: 0.0367 - accuracy: 0.9866 - val_loss: 0.0472 - val_accuracy: 0.9835\n",
            "Epoch 37/50\n",
            "8/8 [==============================] - 4s 440ms/step - loss: 0.0347 - accuracy: 0.9876 - val_loss: 0.0446 - val_accuracy: 0.9852\n",
            "Epoch 38/50\n",
            "8/8 [==============================] - 4s 440ms/step - loss: 0.0361 - accuracy: 0.9879 - val_loss: 0.0451 - val_accuracy: 0.9878\n",
            "Epoch 39/50\n",
            "8/8 [==============================] - 4s 439ms/step - loss: 0.0343 - accuracy: 0.9865 - val_loss: 0.0508 - val_accuracy: 0.9817\n",
            "Epoch 40/50\n",
            "8/8 [==============================] - 4s 439ms/step - loss: 0.0324 - accuracy: 0.9889 - val_loss: 0.0481 - val_accuracy: 0.9852\n",
            "Epoch 41/50\n",
            "8/8 [==============================] - 4s 439ms/step - loss: 0.0295 - accuracy: 0.9887 - val_loss: 0.0405 - val_accuracy: 0.9878\n",
            "Epoch 42/50\n",
            "8/8 [==============================] - 4s 439ms/step - loss: 0.0299 - accuracy: 0.9890 - val_loss: 0.0392 - val_accuracy: 0.9878\n",
            "Epoch 43/50\n",
            "8/8 [==============================] - 3s 437ms/step - loss: 0.0299 - accuracy: 0.9895 - val_loss: 0.0447 - val_accuracy: 0.9852\n",
            "Epoch 44/50\n",
            "8/8 [==============================] - 4s 439ms/step - loss: 0.0373 - accuracy: 0.9867 - val_loss: 0.0452 - val_accuracy: 0.9843\n",
            "Epoch 45/50\n",
            "8/8 [==============================] - 3s 437ms/step - loss: 0.0311 - accuracy: 0.9894 - val_loss: 0.0464 - val_accuracy: 0.9878\n",
            "Epoch 46/50\n",
            "8/8 [==============================] - 3s 436ms/step - loss: 0.0290 - accuracy: 0.9886 - val_loss: 0.0438 - val_accuracy: 0.9861\n",
            "Epoch 47/50\n",
            "8/8 [==============================] - 3s 436ms/step - loss: 0.0278 - accuracy: 0.9900 - val_loss: 0.0380 - val_accuracy: 0.9887\n",
            "Epoch 48/50\n",
            "8/8 [==============================] - 3s 436ms/step - loss: 0.0244 - accuracy: 0.9914 - val_loss: 0.0556 - val_accuracy: 0.9843\n",
            "Epoch 49/50\n",
            "8/8 [==============================] - 3s 436ms/step - loss: 0.0285 - accuracy: 0.9910 - val_loss: 0.0361 - val_accuracy: 0.9887\n",
            "Epoch 50/50\n",
            "8/8 [==============================] - 3s 438ms/step - loss: 0.0232 - accuracy: 0.9917 - val_loss: 0.0353 - val_accuracy: 0.9887\n"
          ],
          "name": "stdout"
        }
      ]
    },
    {
      "cell_type": "code",
      "metadata": {
        "colab": {
          "base_uri": "https://localhost:8080/"
        },
        "id": "6OQbnvONQVGN",
        "outputId": "41d87ac4-af2d-42b5-c28a-33084141a677"
      },
      "source": [
        "score = model_LSTM.evaluate(Xtrain,Ytrain_one_hot,verbose=0)\n",
        "print('test loss = ',score[0])\n",
        "print('accuracy = ',score[1])"
      ],
      "execution_count": null,
      "outputs": [
        {
          "output_type": "stream",
          "text": [
            "test loss =  0.02183365635573864\n",
            "accuracy =  0.9929468631744385\n"
          ],
          "name": "stdout"
        }
      ]
    },
    {
      "cell_type": "code",
      "metadata": {
        "colab": {
          "base_uri": "https://localhost:8080/"
        },
        "id": "eRWxMYqUQrUh",
        "outputId": "b87b54a4-03fc-4ac5-a1c8-c7f9555c23ca"
      },
      "source": [
        "score = model_LSTM.evaluate(Xtest,Ytest_one_hot,verbose=0)\n",
        "print('test loss = ',score[0])\n",
        "print('accuracy = ',score[1])"
      ],
      "execution_count": null,
      "outputs": [
        {
          "output_type": "stream",
          "text": [
            "test loss =  0.03531526401638985\n",
            "accuracy =  0.9886956810951233\n"
          ],
          "name": "stdout"
        }
      ]
    },
    {
      "cell_type": "code",
      "metadata": {
        "colab": {
          "base_uri": "https://localhost:8080/",
          "height": 295
        },
        "id": "1PYPZp92ROtI",
        "outputId": "9527ad8f-2616-48a6-ae53-0043dc861aac"
      },
      "source": [
        "#print(history_LSTM.history)\n",
        "plt.plot(history.history['accuracy'])\n",
        "plt.plot(history_LSTM.history['val_accuracy'])\n",
        "plt.title('model accuracy')\n",
        "plt.ylabel('accuracy')\n",
        "plt.xlabel('epoch')\n",
        "plt.legend(['train','test'],loc='upper left')\n",
        "plt.show()"
      ],
      "execution_count": null,
      "outputs": [
        {
          "output_type": "display_data",
          "data": {
            "image/png": "[encoded data removed]",
            "text/plain": [
              "<Figure size 432x288 with 1 Axes>"
            ]
          },
          "metadata": {
            "tags": [],
            "needs_background": "light"
          }
        }
      ]
    },
    {
      "cell_type": "code",
      "metadata": {
        "colab": {
          "base_uri": "https://localhost:8080/",
          "height": 295
        },
        "id": "M_K4NXz1RjhZ",
        "outputId": "90e6c3fe-8a05-4952-8a1d-6d0209d4bee1"
      },
      "source": [
        "plt.plot(history_LSTM.history['loss'])\n",
        "plt.plot(history_LSTM.history['val_loss'])\n",
        "plt.title('model loss')\n",
        "plt.ylabel('loss')\n",
        "plt.xlabel('epoch')\n",
        "plt.legend(['train','test'],loc='upper left')\n",
        "plt.show()"
      ],
      "execution_count": null,
      "outputs": [
        {
          "output_type": "display_data",
          "data": {
            "image/png": "[encoded data removed]",
            "text/plain": [
              "<Figure size 432x288 with 1 Axes>"
            ]
          },
          "metadata": {
            "tags": [],
            "needs_background": "light"
          }
        }
      ]
    },
    {
      "cell_type": "code",
      "metadata": {
        "id": "sG4bW7W7RyBa"
      },
      "source": [
        "y_pred = model_LSTM.predict(Xtest)\n",
        "y_pred = np.argmax(y_pred,axis=-1)"
      ],
      "execution_count": null,
      "outputs": []
    },
    {
      "cell_type": "code",
      "metadata": {
        "id": "SVThsKfnSA40"
      },
      "source": [
        "from sklearn.metrics import confusion_matrix,classification_report"
      ],
      "execution_count": null,
      "outputs": []
    },
    {
      "cell_type": "code",
      "metadata": {
        "id": "uc5C2T9aSIq0"
      },
      "source": [
        "cm = confusion_matrix(Ytest, y_pred)"
      ],
      "execution_count": null,
      "outputs": []
    },
    {
      "cell_type": "code",
      "metadata": {
        "colab": {
          "base_uri": "https://localhost:8080/",
          "height": 286
        },
        "id": "Jfk9K03rSKhq",
        "outputId": "61f64dc0-c51c-414f-93fb-57ea0cb9906e"
      },
      "source": [
        "sns.heatmap(cm, annot=True,fmt='g')"
      ],
      "execution_count": null,
      "outputs": [
        {
          "output_type": "execute_result",
          "data": {
            "text/plain": [
              "<matplotlib.axes._subplots.AxesSubplot at 0x7fea92ac7ad0>"
            ]
          },
          "metadata": {
            "tags": []
          },
          "execution_count": 48
        },
        {
          "output_type": "display_data",
          "data": {
            "image/png": "[encoded data removed]",
            "text/plain": [
              "<Figure size 432x288 with 2 Axes>"
            ]
          },
          "metadata": {
            "tags": [],
            "needs_background": "light"
          }
        }
      ]
    },
    {
      "cell_type": "code",
      "metadata": {
        "colab": {
          "base_uri": "https://localhost:8080/"
        },
        "id": "fJbMew5_NMUH",
        "outputId": "7d38e0cd-cb53-49bf-c66b-e05b62b43148"
      },
      "source": [
        "cp = classification_report(Ytest,y_pred)\n",
        "print(cp)"
      ],
      "execution_count": null,
      "outputs": [
        {
          "output_type": "stream",
          "text": [
            "              precision    recall  f1-score   support\n",
            "\n",
            "           0       0.99      0.99      0.99       909\n",
            "           1       0.97      0.98      0.97       241\n",
            "\n",
            "    accuracy                           0.99      1150\n",
            "   macro avg       0.98      0.99      0.98      1150\n",
            "weighted avg       0.99      0.99      0.99      1150\n",
            "\n"
          ],
          "name": "stdout"
        }
      ]
    },
    {
      "cell_type": "markdown",
      "metadata": {
        "id": "xrZ5auOiSZy1"
      },
      "source": [
        "#CNN_Model & CNN_LSTM_Model Courbe"
      ]
    },
    {
      "cell_type": "code",
      "metadata": {
        "colab": {
          "base_uri": "https://localhost:8080/",
          "height": 295
        },
        "id": "5n44-XB-Sgau",
        "outputId": "77c10bd2-8361-46aa-ae41-a8b2a6419a3f"
      },
      "source": [
        "#print(history_LSTM.history)\n",
        "#plt.plot(history_LSTM.history['accuracy'])\n",
        "plt.plot(history_LSTM.history['val_accuracy'])\n",
        "plt.plot(history.history['val_accuracy'])\n",
        "plt.title('model accuracy')\n",
        "plt.ylabel('accuracy')\n",
        "plt.xlabel('epoch')\n",
        "plt.legend(['CNN_LSTM_Model','CNN_Model'],loc='upper left')\n",
        "plt.show()"
      ],
      "execution_count": null,
      "outputs": [
        {
          "output_type": "display_data",
          "data": {
            "image/png": "[encoded data removed]",
            "text/plain": [
              "<Figure size 432x288 with 1 Axes>"
            ]
          },
          "metadata": {
            "tags": [],
            "needs_background": "light"
          }
        }
      ]
    },
    {
      "cell_type": "code",
      "metadata": {
        "colab": {
          "base_uri": "https://localhost:8080/",
          "height": 295
        },
        "id": "mBRY58G-TDst",
        "outputId": "37219a9e-981e-43d0-c463-a40ed0d9146b"
      },
      "source": [
        "plt.plot(history_LSTM.history['val_loss'])\n",
        "plt.plot(history.history['val_loss'])\n",
        "plt.title('model loss')\n",
        "plt.ylabel('loss')\n",
        "plt.xlabel('epoch')\n",
        "plt.legend(['CNN_LSTM_Model','CNN_Model'],loc='upper left')\n",
        "plt.show()"
      ],
      "execution_count": null,
      "outputs": [
        {
          "output_type": "display_data",
          "data": {
            "image/png": "[encoded data removed]",
            "text/plain": [
              "<Figure size 432x288 with 1 Axes>"
            ]
          },
          "metadata": {
            "tags": [],
            "needs_background": "light"
          }
        }
      ]
    },
    {
      "cell_type": "markdown",
      "metadata": {
        "id": "JDWrAHLaTOHb"
      },
      "source": [
        "#CNN_SVM_Model"
      ]
    },
    {
      "cell_type": "code",
      "metadata": {
        "id": "jlNmUXNdTTsL"
      },
      "source": [
        "X_for_SVM = cnn_model.predict(Xtrain)"
      ],
      "execution_count": null,
      "outputs": []
    },
    {
      "cell_type": "code",
      "metadata": {
        "id": "WQNM0tMwTfWW"
      },
      "source": [
        "from sklearn.svm import SVC"
      ],
      "execution_count": null,
      "outputs": []
    },
    {
      "cell_type": "code",
      "metadata": {
        "id": "u8I-EqhdTmBA"
      },
      "source": [
        "SVM_model = SVC(gamma='auto',C=150,kernel='linear')"
      ],
      "execution_count": null,
      "outputs": []
    },
    {
      "cell_type": "code",
      "metadata": {
        "colab": {
          "base_uri": "https://localhost:8080/"
        },
        "id": "e3jEYtzDTqz2",
        "outputId": "ca4d7961-9af1-41eb-ca09-fc42673b4884"
      },
      "source": [
        "SVM_model.fit(X_for_SVM,Ytrain)"
      ],
      "execution_count": null,
      "outputs": [
        {
          "output_type": "execute_result",
          "data": {
            "text/plain": [
              "SVC(C=150, break_ties=False, cache_size=200, class_weight=None, coef0=0.0,\n",
              "    decision_function_shape='ovr', degree=3, gamma='auto', kernel='linear',\n",
              "    max_iter=-1, probability=False, random_state=None, shrinking=True,\n",
              "    tol=0.001, verbose=False)"
            ]
          },
          "metadata": {
            "tags": []
          },
          "execution_count": 55
        }
      ]
    },
    {
      "cell_type": "code",
      "metadata": {
        "id": "6zvLVXMJWFBe"
      },
      "source": [
        "X_test_features = cnn_model.predict(Xtest)"
      ],
      "execution_count": null,
      "outputs": []
    },
    {
      "cell_type": "code",
      "metadata": {
        "id": "u_K4eBw0WQwD"
      },
      "source": [
        "prediction_SVM = SVM_model.predict(X_test_features)"
      ],
      "execution_count": null,
      "outputs": []
    },
    {
      "cell_type": "code",
      "metadata": {
        "id": "FG0oWsRrW5E0"
      },
      "source": [
        "from sklearn import metrics"
      ],
      "execution_count": null,
      "outputs": []
    },
    {
      "cell_type": "code",
      "metadata": {
        "colab": {
          "base_uri": "https://localhost:8080/"
        },
        "id": "_eNXhmJ3W90b",
        "outputId": "fcd58354-8af6-427c-fc2f-07b91d228719"
      },
      "source": [
        "print (\"Accuracy = \", metrics.accuracy_score(Ytest, prediction_SVM))"
      ],
      "execution_count": null,
      "outputs": [
        {
          "output_type": "stream",
          "text": [
            "Accuracy =  0.9852173913043478\n"
          ],
          "name": "stdout"
        }
      ]
    },
    {
      "cell_type": "code",
      "metadata": {
        "colab": {
          "base_uri": "https://localhost:8080/"
        },
        "id": "TvWohydBXT7z",
        "outputId": "60949041-4a64-4680-9918-3e91658e8507"
      },
      "source": [
        "cm = confusion_matrix(Ytest, prediction_SVM)\n",
        "print(cm)"
      ],
      "execution_count": null,
      "outputs": [
        {
          "output_type": "stream",
          "text": [
            "[[902   7]\n",
            " [ 10 231]]\n"
          ],
          "name": "stdout"
        }
      ]
    },
    {
      "cell_type": "code",
      "metadata": {
        "colab": {
          "base_uri": "https://localhost:8080/",
          "height": 286
        },
        "id": "VetSGmc0XaDf",
        "outputId": "3018c896-97dc-4395-a744-533f074947ae"
      },
      "source": [
        "sns.heatmap(cm, annot=True,fmt='g')"
      ],
      "execution_count": null,
      "outputs": [
        {
          "output_type": "execute_result",
          "data": {
            "text/plain": [
              "<matplotlib.axes._subplots.AxesSubplot at 0x7fea91f81650>"
            ]
          },
          "metadata": {
            "tags": []
          },
          "execution_count": 61
        },
        {
          "output_type": "display_data",
          "data": {
            "image/png": "[encoded data removed]",
            "text/plain": [
              "<Figure size 432x288 with 2 Axes>"
            ]
          },
          "metadata": {
            "tags": [],
            "needs_background": "light"
          }
        }
      ]
    },
    {
      "cell_type": "code",
      "metadata": {
        "colab": {
          "base_uri": "https://localhost:8080/"
        },
        "id": "wtE6cJs6OmiD",
        "outputId": "6b4d0609-2502-4192-fbb5-16819ba3bd17"
      },
      "source": [
        "cp = classification_report(Ytest,y_pred)\n",
        "print(cp)"
      ],
      "execution_count": null,
      "outputs": [
        {
          "output_type": "stream",
          "text": [
            "              precision    recall  f1-score   support\n",
            "\n",
            "           0       0.99      0.99      0.99       909\n",
            "           1       0.97      0.98      0.97       241\n",
            "\n",
            "    accuracy                           0.99      1150\n",
            "   macro avg       0.98      0.99      0.98      1150\n",
            "weighted avg       0.99      0.99      0.99      1150\n",
            "\n"
          ],
          "name": "stdout"
        }
      ]
    },
    {
      "cell_type": "markdown",
      "metadata": {
        "id": "m1Fh4bJBYhHv"
      },
      "source": [
        "#CNN_RF_Model"
      ]
    },
    {
      "cell_type": "code",
      "metadata": {
        "id": "XKZMLqI-Yls9"
      },
      "source": [
        "X_For_RF = cnn_model.predict(Xtrain)"
      ],
      "execution_count": null,
      "outputs": []
    },
    {
      "cell_type": "code",
      "metadata": {
        "id": "xYCOxlFLYtv-"
      },
      "source": [
        "from sklearn.ensemble import RandomForestClassifier"
      ],
      "execution_count": null,
      "outputs": []
    },
    {
      "cell_type": "code",
      "metadata": {
        "id": "3r0sLmX3Yx2Q"
      },
      "source": [
        "RF_model = RandomForestClassifier(n_estimators=200,criterion='entropy',random_state=42)"
      ],
      "execution_count": null,
      "outputs": []
    },
    {
      "cell_type": "code",
      "metadata": {
        "colab": {
          "base_uri": "https://localhost:8080/"
        },
        "id": "6dLeMrF4Y3V9",
        "outputId": "04e52f29-7dd6-4b07-815e-6d6384cbcc2b"
      },
      "source": [
        "RF_model.fit(X_For_RF,Ytrain)"
      ],
      "execution_count": null,
      "outputs": [
        {
          "output_type": "execute_result",
          "data": {
            "text/plain": [
              "RandomForestClassifier(bootstrap=True, ccp_alpha=0.0, class_weight=None,\n",
              "                       criterion='entropy', max_depth=None, max_features='auto',\n",
              "                       max_leaf_nodes=None, max_samples=None,\n",
              "                       min_impurity_decrease=0.0, min_impurity_split=None,\n",
              "                       min_samples_leaf=1, min_samples_split=2,\n",
              "                       min_weight_fraction_leaf=0.0, n_estimators=200,\n",
              "                       n_jobs=None, oob_score=False, random_state=42, verbose=0,\n",
              "                       warm_start=False)"
            ]
          },
          "metadata": {
            "tags": []
          },
          "execution_count": 84
        }
      ]
    },
    {
      "cell_type": "code",
      "metadata": {
        "id": "tCrIMt_pZXE3"
      },
      "source": [
        "X_test_features = cnn_model.predict(Xtest)"
      ],
      "execution_count": null,
      "outputs": []
    },
    {
      "cell_type": "code",
      "metadata": {
        "id": "nsULG6YZZeYz"
      },
      "source": [
        "prediction_RF = RF_model.predict(X_test_features)"
      ],
      "execution_count": null,
      "outputs": []
    },
    {
      "cell_type": "code",
      "metadata": {
        "id": "_wwYAuD9ZjU2"
      },
      "source": [
        "from sklearn import metrics"
      ],
      "execution_count": null,
      "outputs": []
    },
    {
      "cell_type": "code",
      "metadata": {
        "colab": {
          "base_uri": "https://localhost:8080/"
        },
        "id": "lzvo-MNtZk4m",
        "outputId": "17f684be-169f-46ec-b901-959e18eecda1"
      },
      "source": [
        "print (\"Accuracy = \", metrics.accuracy_score(Ytest, prediction_RF))"
      ],
      "execution_count": null,
      "outputs": [
        {
          "output_type": "stream",
          "text": [
            "Accuracy =  0.9869565217391304\n"
          ],
          "name": "stdout"
        }
      ]
    },
    {
      "cell_type": "code",
      "metadata": {
        "id": "HJRwE_UEZwp7"
      },
      "source": [
        "cm = confusion_matrix(Ytest, prediction_RF)"
      ],
      "execution_count": null,
      "outputs": []
    },
    {
      "cell_type": "code",
      "metadata": {
        "colab": {
          "base_uri": "https://localhost:8080/",
          "height": 286
        },
        "id": "VLCwkjGiZ2ce",
        "outputId": "a22faa36-d0a4-4e87-aa8c-f27ca54b076f"
      },
      "source": [
        "sns.heatmap(cm, annot=True,fmt='g')"
      ],
      "execution_count": null,
      "outputs": [
        {
          "output_type": "execute_result",
          "data": {
            "text/plain": [
              "<matplotlib.axes._subplots.AxesSubplot at 0x7fea90088a10>"
            ]
          },
          "metadata": {
            "tags": []
          },
          "execution_count": 90
        },
        {
          "output_type": "display_data",
          "data": {
            "image/png": "[encoded data removed]",
            "text/plain": [
              "<Figure size 432x288 with 2 Axes>"
            ]
          },
          "metadata": {
            "tags": [],
            "needs_background": "light"
          }
        }
      ]
    },
    {
      "cell_type": "code",
      "metadata": {
        "colab": {
          "base_uri": "https://localhost:8080/"
        },
        "id": "3o-hqbWkOiBU",
        "outputId": "2a21423f-d051-4208-ea3e-cf12a6d52e0a"
      },
      "source": [
        "cp = classification_report(Ytest,y_pred)\n",
        "print(cp)"
      ],
      "execution_count": null,
      "outputs": [
        {
          "output_type": "stream",
          "text": [
            "              precision    recall  f1-score   support\n",
            "\n",
            "           0       0.99      0.99      0.99       909\n",
            "           1       0.97      0.98      0.97       241\n",
            "\n",
            "    accuracy                           0.99      1150\n",
            "   macro avg       0.98      0.99      0.98      1150\n",
            "weighted avg       0.99      0.99      0.99      1150\n",
            "\n"
          ],
          "name": "stdout"
        }
      ]
    },
    {
      "cell_type": "markdown",
      "metadata": {
        "id": "1cTTn_rLt3hh"
      },
      "source": [
        "#Histogramme"
      ]
    },
    {
      "cell_type": "markdown",
      "metadata": {
        "id": "mpbFCdsFz_hZ"
      },
      "source": [
        "accuracy-training & accuracy val"
      ]
    },
    {
      "cell_type": "code",
      "metadata": {
        "colab": {
          "base_uri": "https://localhost:8080/",
          "height": 297
        },
        "id": "UZHtrcIy0GL_",
        "outputId": "1af87c63-4d40-4264-de3f-827e8ffa84a2"
      },
      "source": [
        "labels = ['CNN', 'CNN_LSTM']\n",
        "accuracy_training = [1.0,0.992]\n",
        "accuracy_val = [0.986, 0.988]\n",
        "\n",
        "x = np.arange(len(labels))  # the label locations\n",
        "width = 0.35  # the width of the bars\n",
        "\n",
        "fig, ax = plt.subplots()\n",
        "rects1 = ax.bar(x - width/2, accuracy_training, width, label='accuracy_training',color='red')\n",
        "rects2 = ax.bar(x + width/2, accuracy_val, width, label='accuracy_val')\n",
        "\n",
        "ax=plt.gca()\n",
        "for p in ax.patches:\n",
        "  ax.text(p.get_x()+p.get_width()/2,p.get_height(),'%.3f' % float(p.get_height()))\n",
        "\n",
        "# Add some text for labels, title and custom x-axis tick labels, etc.\n",
        "ax.set_ylabel('% accuracy')\n",
        "ax.set_title('Scores by model')\n",
        "ax.set_xticks(x)\n",
        "ax.set_xticklabels(labels)\n",
        "ax.legend()\n",
        "\n",
        "plt.ylim(0, 1.5) \n",
        "#ax.bar_label(rects1, padding=3)\n",
        "#ax.bar_label(rects2, padding=3)\n",
        "\n",
        "fig.tight_layout()\n",
        "\n",
        "plt.show()"
      ],
      "execution_count": null,
      "outputs": [
        {
          "output_type": "display_data",
          "data": {
            "image/png": "[encoded data removed]",
            "text/plain": [
              "<Figure size 432x288 with 1 Axes>"
            ]
          },
          "metadata": {
            "tags": [],
            "needs_background": "light"
          }
        }
      ]
    },
    {
      "cell_type": "markdown",
      "metadata": {
        "id": "q86lPfLM1eX4"
      },
      "source": [
        "accuracy 4 modéle"
      ]
    },
    {
      "cell_type": "code",
      "metadata": {
        "colab": {
          "base_uri": "https://localhost:8080/",
          "height": 297
        },
        "id": "X_pdlHfSYqoA",
        "outputId": "3721fe73-3d35-4880-b498-5f5cfdbd6ff4"
      },
      "source": [
        "labels = ['CNN', 'CNN_LSTM', 'CNN_SVM', 'CNN_RF']\n",
        "twoClasss_Scores = [0.986, 0.988,0.985,0.986]\n",
        "#women_means = [25, 32, 34, 20, 25]\n",
        "\n",
        "x = np.arange(len(labels))  # the label locations\n",
        "width = 0.35  # the width of the bars\n",
        "\n",
        "fig, ax = plt.subplots()\n",
        "rects1 = ax.bar(x - width/2, twoClasss_Scores, width, label='TwoClasss_Scores',color='red')\n",
        "#rects2 = ax.bar(x + width/2, women_means, width, label='Women')\n",
        "\n",
        "ax=plt.gca()\n",
        "for p in ax.patches:\n",
        "  ax.text(p.get_x()+p.get_width()/2,p.get_height(),'%.3f' % float(p.get_height()))\n",
        "\n",
        "# Add some text for labels, title and custom x-axis tick labels, etc.\n",
        "ax.set_ylabel('% accuracy_val')\n",
        "ax.set_title('Scores by model')\n",
        "ax.set_xticks(x)\n",
        "ax.set_xticklabels(labels)\n",
        "ax.legend()\n",
        "plt.ylim(0.4, 1.2)\n",
        "\n",
        "#ax.bar_label(rects1, padding=3)\n",
        "#ax.bar_label(rects2, padding=3)\n",
        "\n",
        "fig.tight_layout()\n",
        "\n",
        "plt.show()"
      ],
      "execution_count": null,
      "outputs": [
        {
          "output_type": "display_data",
          "data": {
            "image/png": "[encoded data removed]",
            "text/plain": [
              "<Figure size 432x288 with 1 Axes>"
            ]
          },
          "metadata": {
            "tags": [],
            "needs_background": "light"
          }
        }
      ]
    },
    {
      "cell_type": "markdown",
      "metadata": {
        "id": "k9AsxsCS0b_e"
      },
      "source": [
        "accuracy model 5 classe et model binaire"
      ]
    },
    {
      "cell_type": "code",
      "metadata": {
        "colab": {
          "base_uri": "https://localhost:8080/",
          "height": 297
        },
        "id": "dyErj0GCkS3S",
        "outputId": "96f2da10-2229-45cd-b731-418cea6a2a65"
      },
      "source": [
        "labels = ['CNN', 'CNN_LSTM', 'CNN_SVM', 'CNN_RF']\n",
        "twoClasss_Scores = [0.986, 0.988,0.985,0.986]\n",
        "fiveClass_Scores = [0.770, 0.761, 0.772, 0.767]\n",
        "\n",
        "x = np.arange(len(labels))  # the label locations\n",
        "width = 0.35  # the width of the bars\n",
        "\n",
        "fig, ax = plt.subplots()\n",
        "rects1 = ax.bar(x - width/2, twoClasss_Scores, width, label='TwoClasss_Scores',color='red')\n",
        "rects2 = ax.bar(x + width/2, fiveClass_Scores, width, label='fiveClass_Scores')\n",
        "\n",
        "ax=plt.gca()\n",
        "for p in ax.patches:\n",
        "  ax.text(p.get_x()+p.get_width()/2,p.get_height(),'%.3f' % float(p.get_height()),fontsize=12)\n",
        "\n",
        "# Add some text for labels, title and custom x-axis tick labels, etc.\n",
        "ax.set_ylabel('% accuracy_val')\n",
        "ax.set_title('Scores by model')\n",
        "ax.set_xticks(x)\n",
        "ax.set_xticklabels(labels)\n",
        "ax.legend()\n",
        "\n",
        "plt.ylim(0.4, 1.5) \n",
        "#ax.bar_label(rects1, padding=3)\n",
        "#ax.bar_label(rects2, padding=3)\n",
        "\n",
        "fig.tight_layout()\n",
        "\n",
        "plt.show()"
      ],
      "execution_count": null,
      "outputs": [
        {
          "output_type": "display_data",
          "data": {
            "image/png": "[encoded data removed]",
            "text/plain": [
              "<Figure size 432x288 with 1 Axes>"
            ]
          },
          "metadata": {
            "tags": [],
            "needs_background": "light"
          }
        }
      ]
    },
    {
      "cell_type": "code",
      "metadata": {
        "colab": {
          "base_uri": "https://localhost:8080/",
          "height": 297
        },
        "id": "v1xHyQKvv8Dy",
        "outputId": "12b50bef-bf80-4dd5-9b44-b5128a8e68cc"
      },
      "source": [
        "labels = ['CNN', 'CNN_LSTM']\n",
        "twoClasss_Scores = [0.09,0.03]\n",
        "fiveClass_Scores = [1.05, 0.5]\n",
        "\n",
        "x = np.arange(len(labels))  # the label locations\n",
        "width = 0.35  # the width of the bars\n",
        "\n",
        "fig, ax = plt.subplots()\n",
        "rects1 = ax.bar(x - width/2, twoClasss_Scores, width, label='TwoClasss_Scores',color='red')\n",
        "rects2 = ax.bar(x + width/2, fiveClass_Scores, width, label='fiveClass_Scores')\n",
        "\n",
        "ax=plt.gca()\n",
        "for p in ax.patches:\n",
        "  ax.text(p.get_x()+p.get_width()/2,p.get_height(),'%.3f' % float(p.get_height()),fontsize=15)\n",
        "\n",
        "# Add some text for labels, title and custom x-axis tick labels, etc.\n",
        "ax.set_ylabel('% Loss_val')\n",
        "ax.set_title('Scores by model')\n",
        "ax.set_xticks(x)\n",
        "ax.set_xticklabels(labels)\n",
        "ax.legend()\n",
        "\n",
        "#plt.ylim(0, 1.5) \n",
        "#ax.bar_label(rects1, padding=3)\n",
        "#ax.bar_label(rects2, padding=3)\n",
        "\n",
        "fig.tight_layout()\n",
        "\n",
        "plt.show()"
      ],
      "execution_count": null,
      "outputs": [
        {
          "output_type": "display_data",
          "data": {
            "image/png": "[encoded data removed]",
            "text/plain": [
              "<Figure size 432x288 with 1 Axes>"
            ]
          },
          "metadata": {
            "tags": [],
            "needs_background": "light"
          }
        }
      ]
    },
    {
      "cell_type": "code",
      "metadata": {
        "colab": {
          "base_uri": "https://localhost:8080/",
          "height": 297
        },
        "id": "3BABrhr9VwRn",
        "outputId": "506e9e97-4a68-4578-f7d8-0b09d78b072c"
      },
      "source": [
        "labels = ['CNN_LSTM32', 'CNN_LSTM64', 'CNN_LSTM128']\n",
        "twoClasss_Scores = [0.984, 0.988,0.985]\n",
        "fiveClass_Scores = [0.724,0.761, 0.759]\n",
        "\n",
        "x = np.arange(len(labels))  # the label locations\n",
        "width = 0.35  # the width of the bars\n",
        "\n",
        "fig, ax = plt.subplots()\n",
        "rects1 = ax.bar(x - width/2, twoClasss_Scores, width, label='TwoClasss_Scores',color='red')\n",
        "rects2 = ax.bar(x + width/2, fiveClass_Scores, width, label='fiveClass_Scores')\n",
        "\n",
        "ax=plt.gca()\n",
        "for p in ax.patches:\n",
        "  ax.text(p.get_x()+p.get_width()/2,p.get_height(),'%.3f' % float(p.get_height()),fontsize=12)\n",
        "\n",
        "# Add some text for labels, title and custom x-axis tick labels, etc.\n",
        "ax.set_ylabel('% accuracy_val')\n",
        "ax.set_title('Scores by model')\n",
        "ax.set_xticks(x)\n",
        "ax.set_xticklabels(labels)\n",
        "ax.legend()\n",
        "\n",
        "plt.ylim(0.4, 1.5) \n",
        "#ax.bar_label(rects1, padding=3)\n",
        "#ax.bar_label(rects2, padding=3)\n",
        "\n",
        "fig.tight_layout()\n",
        "\n",
        "plt.show()"
      ],
      "execution_count": null,
      "outputs": [
        {
          "output_type": "display_data",
          "data": {
            "image/png": "[encoded data removed]",
            "text/plain": [
              "<Figure size 432x288 with 1 Axes>"
            ]
          },
          "metadata": {
            "tags": [],
            "needs_background": "light"
          }
        }
      ]
    },
    {
      "cell_type": "markdown",
      "metadata": {
        "id": "LhnxlSqsRak2"
      },
      "source": [
        "#CNN_LSTM_Differentes Nbre Neurones"
      ]
    },
    {
      "cell_type": "markdown",
      "metadata": {
        "id": "t4-dMGlMRh_5"
      },
      "source": [
        "32 neurones"
      ]
    },
    {
      "cell_type": "code",
      "metadata": {
        "id": "v3jmRh-FRlKP"
      },
      "source": [
        "model_LSTM32 = Sequential()\n",
        "model_LSTM32.add(Conv1D(64,kernel_size=3,activation='relu',strides=1,input_shape=(Xtrain.shape[1],Xtrain.shape[2])))\n",
        "model_LSTM32.add(MaxPooling1D(pool_size=2,strides=2))\n",
        "\n",
        "model_LSTM32.add(Conv1D(128,kernel_size=3,activation='relu'))\n",
        "model_LSTM32.add(Conv1D(512,kernel_size=3,activation='relu'))\n",
        "model_LSTM32.add(Conv1D(1024,kernel_size=3,activation='relu'))\n",
        "\n",
        "#model.add(Flatten())\n",
        "model_LSTM32.add(Dense(256,activation='relu'))\n",
        "model_LSTM32.add(Dropout(0.2))\n",
        "model_LSTM32.add(LSTM(32,activation='tanh',return_sequences=True))\n",
        "model_LSTM32.add(LSTM(32,activation='tanh'))\n",
        "model_LSTM32.add(Dense(256,activation='relu'))\n",
        "model_LSTM32.add(Dense(128,activation='relu'))\n",
        "model_LSTM32.add(Dense(64,activation='relu'))\n",
        "model_LSTM32.add(Dense(Ytrain_one_hot.shape[1], activation = 'softmax'))\n"
      ],
      "execution_count": null,
      "outputs": []
    },
    {
      "cell_type": "code",
      "metadata": {
        "id": "awwD8mqaSAdC"
      },
      "source": [
        "model_LSTM32.compile(loss=keras.losses.categorical_crossentropy,optimizer=keras.optimizers.Adam(),metrics=['accuracy'])"
      ],
      "execution_count": null,
      "outputs": []
    },
    {
      "cell_type": "code",
      "metadata": {
        "colab": {
          "base_uri": "https://localhost:8080/"
        },
        "id": "mENcPw4MSXq1",
        "outputId": "535f8e1d-62bd-4060-d39b-02cd429f4b01"
      },
      "source": [
        "history_LSTM32 = model_LSTM32.fit(Xtrain,Ytrain_one_hot,batch_size = batch_size,epochs=epochs,verbose=1,validation_data=(Xtest,Ytest_one_hot))"
      ],
      "execution_count": null,
      "outputs": [
        {
          "output_type": "stream",
          "text": [
            "Epoch 1/50\n",
            "8/8 [==============================] - 8s 541ms/step - loss: 0.6736 - accuracy: 0.6766 - val_loss: 0.5351 - val_accuracy: 0.9426\n",
            "Epoch 2/50\n",
            "8/8 [==============================] - 3s 408ms/step - loss: 0.4474 - accuracy: 0.9377 - val_loss: 0.1938 - val_accuracy: 0.9383\n",
            "Epoch 3/50\n",
            "8/8 [==============================] - 3s 410ms/step - loss: 0.1583 - accuracy: 0.9449 - val_loss: 0.1325 - val_accuracy: 0.9496\n",
            "Epoch 4/50\n",
            "8/8 [==============================] - 3s 413ms/step - loss: 0.1211 - accuracy: 0.9499 - val_loss: 0.1270 - val_accuracy: 0.9548\n",
            "Epoch 5/50\n",
            "8/8 [==============================] - 3s 415ms/step - loss: 0.1133 - accuracy: 0.9527 - val_loss: 0.1192 - val_accuracy: 0.9548\n",
            "Epoch 6/50\n",
            "8/8 [==============================] - 3s 416ms/step - loss: 0.1117 - accuracy: 0.9523 - val_loss: 0.1091 - val_accuracy: 0.9478\n",
            "Epoch 7/50\n",
            "8/8 [==============================] - 3s 417ms/step - loss: 0.0980 - accuracy: 0.9573 - val_loss: 0.1007 - val_accuracy: 0.9557\n",
            "Epoch 8/50\n",
            "8/8 [==============================] - 3s 421ms/step - loss: 0.0867 - accuracy: 0.9630 - val_loss: 0.1182 - val_accuracy: 0.9617\n",
            "Epoch 9/50\n",
            "8/8 [==============================] - 3s 423ms/step - loss: 0.0883 - accuracy: 0.9657 - val_loss: 0.1012 - val_accuracy: 0.9600\n",
            "Epoch 10/50\n",
            "8/8 [==============================] - 3s 425ms/step - loss: 0.0794 - accuracy: 0.9685 - val_loss: 0.0910 - val_accuracy: 0.9609\n",
            "Epoch 11/50\n",
            "8/8 [==============================] - 3s 428ms/step - loss: 0.0832 - accuracy: 0.9678 - val_loss: 0.0865 - val_accuracy: 0.9661\n",
            "Epoch 12/50\n",
            "8/8 [==============================] - 3s 430ms/step - loss: 0.0824 - accuracy: 0.9676 - val_loss: 0.0888 - val_accuracy: 0.9652\n",
            "Epoch 13/50\n",
            "8/8 [==============================] - 3s 432ms/step - loss: 0.0728 - accuracy: 0.9700 - val_loss: 0.0755 - val_accuracy: 0.9696\n",
            "Epoch 14/50\n",
            "8/8 [==============================] - 3s 432ms/step - loss: 0.0693 - accuracy: 0.9740 - val_loss: 0.0935 - val_accuracy: 0.9687\n",
            "Epoch 15/50\n",
            "8/8 [==============================] - 3s 432ms/step - loss: 0.0681 - accuracy: 0.9738 - val_loss: 0.0797 - val_accuracy: 0.9713\n",
            "Epoch 16/50\n",
            "8/8 [==============================] - 3s 431ms/step - loss: 0.0697 - accuracy: 0.9750 - val_loss: 0.0889 - val_accuracy: 0.9652\n",
            "Epoch 17/50\n",
            "8/8 [==============================] - 3s 428ms/step - loss: 0.0656 - accuracy: 0.9747 - val_loss: 0.0672 - val_accuracy: 0.9765\n",
            "Epoch 18/50\n",
            "8/8 [==============================] - 3s 427ms/step - loss: 0.0611 - accuracy: 0.9772 - val_loss: 0.0691 - val_accuracy: 0.9809\n",
            "Epoch 19/50\n",
            "8/8 [==============================] - 3s 423ms/step - loss: 0.0583 - accuracy: 0.9787 - val_loss: 0.0625 - val_accuracy: 0.9800\n",
            "Epoch 20/50\n",
            "8/8 [==============================] - 3s 422ms/step - loss: 0.0483 - accuracy: 0.9819 - val_loss: 0.0599 - val_accuracy: 0.9826\n",
            "Epoch 21/50\n",
            "8/8 [==============================] - 3s 420ms/step - loss: 0.0477 - accuracy: 0.9831 - val_loss: 0.0573 - val_accuracy: 0.9852\n",
            "Epoch 22/50\n",
            "8/8 [==============================] - 3s 420ms/step - loss: 0.0465 - accuracy: 0.9828 - val_loss: 0.0519 - val_accuracy: 0.9843\n",
            "Epoch 23/50\n",
            "8/8 [==============================] - 3s 418ms/step - loss: 0.0518 - accuracy: 0.9816 - val_loss: 0.0565 - val_accuracy: 0.9783\n",
            "Epoch 24/50\n",
            "8/8 [==============================] - 3s 416ms/step - loss: 0.0539 - accuracy: 0.9792 - val_loss: 0.0656 - val_accuracy: 0.9774\n",
            "Epoch 25/50\n",
            "8/8 [==============================] - 3s 415ms/step - loss: 0.0499 - accuracy: 0.9788 - val_loss: 0.0584 - val_accuracy: 0.9809\n",
            "Epoch 26/50\n",
            "8/8 [==============================] - 3s 415ms/step - loss: 0.0410 - accuracy: 0.9859 - val_loss: 0.0450 - val_accuracy: 0.9870\n",
            "Epoch 27/50\n",
            "8/8 [==============================] - 3s 415ms/step - loss: 0.0450 - accuracy: 0.9837 - val_loss: 0.0525 - val_accuracy: 0.9800\n",
            "Epoch 28/50\n",
            "8/8 [==============================] - 3s 415ms/step - loss: 0.0399 - accuracy: 0.9851 - val_loss: 0.0519 - val_accuracy: 0.9835\n",
            "Epoch 29/50\n",
            "8/8 [==============================] - 3s 415ms/step - loss: 0.0360 - accuracy: 0.9870 - val_loss: 0.0463 - val_accuracy: 0.9861\n",
            "Epoch 30/50\n",
            "8/8 [==============================] - 3s 415ms/step - loss: 0.0340 - accuracy: 0.9875 - val_loss: 0.0448 - val_accuracy: 0.9826\n",
            "Epoch 31/50\n",
            "8/8 [==============================] - 3s 416ms/step - loss: 0.0333 - accuracy: 0.9887 - val_loss: 0.0627 - val_accuracy: 0.9809\n",
            "Epoch 32/50\n",
            "8/8 [==============================] - 3s 417ms/step - loss: 0.0392 - accuracy: 0.9864 - val_loss: 0.0465 - val_accuracy: 0.9861\n",
            "Epoch 33/50\n",
            "8/8 [==============================] - 3s 415ms/step - loss: 0.0296 - accuracy: 0.9900 - val_loss: 0.0427 - val_accuracy: 0.9852\n",
            "Epoch 34/50\n",
            "8/8 [==============================] - 3s 421ms/step - loss: 0.0318 - accuracy: 0.9890 - val_loss: 0.0430 - val_accuracy: 0.9852\n",
            "Epoch 35/50\n",
            "8/8 [==============================] - 3s 419ms/step - loss: 0.0322 - accuracy: 0.9887 - val_loss: 0.0451 - val_accuracy: 0.9870\n",
            "Epoch 36/50\n",
            "8/8 [==============================] - 3s 418ms/step - loss: 0.0312 - accuracy: 0.9893 - val_loss: 0.0395 - val_accuracy: 0.9852\n",
            "Epoch 37/50\n",
            "8/8 [==============================] - 3s 419ms/step - loss: 0.0342 - accuracy: 0.9886 - val_loss: 0.0433 - val_accuracy: 0.9843\n",
            "Epoch 38/50\n",
            "8/8 [==============================] - 3s 420ms/step - loss: 0.0378 - accuracy: 0.9856 - val_loss: 0.0535 - val_accuracy: 0.9826\n",
            "Epoch 39/50\n",
            "8/8 [==============================] - 3s 420ms/step - loss: 0.0352 - accuracy: 0.9889 - val_loss: 0.0369 - val_accuracy: 0.9870\n",
            "Epoch 40/50\n",
            "8/8 [==============================] - 3s 420ms/step - loss: 0.0305 - accuracy: 0.9898 - val_loss: 0.0350 - val_accuracy: 0.9896\n",
            "Epoch 41/50\n",
            "8/8 [==============================] - 3s 419ms/step - loss: 0.0284 - accuracy: 0.9899 - val_loss: 0.0504 - val_accuracy: 0.9843\n",
            "Epoch 42/50\n",
            "8/8 [==============================] - 3s 420ms/step - loss: 0.0263 - accuracy: 0.9920 - val_loss: 0.0353 - val_accuracy: 0.9878\n",
            "Epoch 43/50\n",
            "8/8 [==============================] - 3s 420ms/step - loss: 0.0297 - accuracy: 0.9900 - val_loss: 0.0441 - val_accuracy: 0.9852\n",
            "Epoch 44/50\n",
            "8/8 [==============================] - 3s 419ms/step - loss: 0.0357 - accuracy: 0.9881 - val_loss: 0.0418 - val_accuracy: 0.9870\n",
            "Epoch 45/50\n",
            "8/8 [==============================] - 3s 419ms/step - loss: 0.0316 - accuracy: 0.9892 - val_loss: 0.0432 - val_accuracy: 0.9861\n",
            "Epoch 46/50\n",
            "8/8 [==============================] - 3s 419ms/step - loss: 0.0296 - accuracy: 0.9909 - val_loss: 0.0338 - val_accuracy: 0.9896\n",
            "Epoch 47/50\n",
            "8/8 [==============================] - 3s 419ms/step - loss: 0.0284 - accuracy: 0.9899 - val_loss: 0.0370 - val_accuracy: 0.9870\n",
            "Epoch 48/50\n",
            "8/8 [==============================] - 3s 422ms/step - loss: 0.0274 - accuracy: 0.9903 - val_loss: 0.0384 - val_accuracy: 0.9896\n",
            "Epoch 49/50\n",
            "8/8 [==============================] - 3s 418ms/step - loss: 0.0200 - accuracy: 0.9935 - val_loss: 0.0320 - val_accuracy: 0.9870\n",
            "Epoch 50/50\n",
            "8/8 [==============================] - 3s 417ms/step - loss: 0.0209 - accuracy: 0.9929 - val_loss: 0.0506 - val_accuracy: 0.9843\n"
          ],
          "name": "stdout"
        }
      ]
    },
    {
      "cell_type": "code",
      "metadata": {
        "colab": {
          "base_uri": "https://localhost:8080/"
        },
        "id": "3c3TkMhPTlcH",
        "outputId": "013d4e79-0bb4-4cbb-c738-f5bda2d55b87"
      },
      "source": [
        "score = model_LSTM32.evaluate(Xtrain,Ytrain_one_hot,verbose=0)\n",
        "print('test loss = ',score[0])\n",
        "print('accuracy = ',score[1])"
      ],
      "execution_count": null,
      "outputs": [
        {
          "output_type": "stream",
          "text": [
            "test loss =  0.041830919682979584\n",
            "accuracy =  0.9846376776695251\n"
          ],
          "name": "stdout"
        }
      ]
    },
    {
      "cell_type": "code",
      "metadata": {
        "colab": {
          "base_uri": "https://localhost:8080/"
        },
        "id": "3bSSiRvyTs9W",
        "outputId": "4165d3df-410f-4163-e412-1635604b77f2"
      },
      "source": [
        "score = model_LSTM32.evaluate(Xtest,Ytest_one_hot,verbose=0)\n",
        "print('test loss = ',score[0])\n",
        "print('accuracy = ',score[1])"
      ],
      "execution_count": null,
      "outputs": [
        {
          "output_type": "stream",
          "text": [
            "test loss =  0.05060213804244995\n",
            "accuracy =  0.9843478202819824\n"
          ],
          "name": "stdout"
        }
      ]
    },
    {
      "cell_type": "markdown",
      "metadata": {
        "id": "VZW32S5lT1R3"
      },
      "source": [
        "128 neurones"
      ]
    },
    {
      "cell_type": "code",
      "metadata": {
        "id": "WYbUpwloT32A"
      },
      "source": [
        "model_LSTM128 = Sequential()\n",
        "model_LSTM128.add(Conv1D(64,kernel_size=3,activation='relu',strides=1,input_shape=(Xtrain.shape[1],Xtrain.shape[2])))\n",
        "model_LSTM128.add(MaxPooling1D(pool_size=2,strides=2))\n",
        "\n",
        "model_LSTM128.add(Conv1D(128,kernel_size=3,activation='relu'))\n",
        "model_LSTM128.add(Conv1D(512,kernel_size=3,activation='relu'))\n",
        "model_LSTM128.add(Conv1D(1024,kernel_size=3,activation='relu'))\n",
        "\n",
        "#model.add(Flatten())\n",
        "model_LSTM128.add(Dense(256,activation='relu'))\n",
        "model_LSTM128.add(Dropout(0.2))\n",
        "model_LSTM128.add(LSTM(32,activation='tanh',return_sequences=True))\n",
        "model_LSTM128.add(LSTM(32,activation='tanh'))\n",
        "model_LSTM128.add(Dense(256,activation='relu'))\n",
        "model_LSTM128.add(Dense(128,activation='relu'))\n",
        "model_LSTM128.add(Dense(64,activation='relu'))\n",
        "model_LSTM128.add(Dense(Ytrain_one_hot.shape[1], activation = 'softmax'))\n"
      ],
      "execution_count": null,
      "outputs": []
    },
    {
      "cell_type": "code",
      "metadata": {
        "id": "fdpbLy29UPCW"
      },
      "source": [
        "model_LSTM128.compile(loss=keras.losses.categorical_crossentropy,optimizer=keras.optimizers.Adam(),metrics=['accuracy'])"
      ],
      "execution_count": null,
      "outputs": []
    },
    {
      "cell_type": "code",
      "metadata": {
        "colab": {
          "base_uri": "https://localhost:8080/"
        },
        "id": "NvYV9UgAUPQc",
        "outputId": "299badde-f147-4a75-e36d-f1686760c1da"
      },
      "source": [
        "history_LSTM128 = model_LSTM128.fit(Xtrain,Ytrain_one_hot,batch_size = batch_size,epochs=epochs,verbose=1,validation_data=(Xtest,Ytest_one_hot))"
      ],
      "execution_count": null,
      "outputs": [
        {
          "output_type": "stream",
          "text": [
            "Epoch 1/50\n",
            "8/8 [==============================] - 8s 553ms/step - loss: 0.6704 - accuracy: 0.7294 - val_loss: 0.5053 - val_accuracy: 0.9417\n",
            "Epoch 2/50\n",
            "8/8 [==============================] - 3s 424ms/step - loss: 0.4271 - accuracy: 0.9190 - val_loss: 0.1766 - val_accuracy: 0.9461\n",
            "Epoch 3/50\n",
            "8/8 [==============================] - 3s 426ms/step - loss: 0.1540 - accuracy: 0.9441 - val_loss: 0.1626 - val_accuracy: 0.9383\n",
            "Epoch 4/50\n",
            "8/8 [==============================] - 3s 429ms/step - loss: 0.1250 - accuracy: 0.9493 - val_loss: 0.1133 - val_accuracy: 0.9487\n",
            "Epoch 5/50\n",
            "8/8 [==============================] - 3s 433ms/step - loss: 0.1074 - accuracy: 0.9549 - val_loss: 0.1050 - val_accuracy: 0.9583\n",
            "Epoch 6/50\n",
            "8/8 [==============================] - 3s 434ms/step - loss: 0.0967 - accuracy: 0.9613 - val_loss: 0.0979 - val_accuracy: 0.9591\n",
            "Epoch 7/50\n",
            "8/8 [==============================] - 3s 438ms/step - loss: 0.0938 - accuracy: 0.9612 - val_loss: 0.0974 - val_accuracy: 0.9574\n",
            "Epoch 8/50\n",
            "8/8 [==============================] - 4s 439ms/step - loss: 0.0869 - accuracy: 0.9658 - val_loss: 0.0943 - val_accuracy: 0.9643\n",
            "Epoch 9/50\n",
            "8/8 [==============================] - 3s 438ms/step - loss: 0.0840 - accuracy: 0.9662 - val_loss: 0.0825 - val_accuracy: 0.9670\n",
            "Epoch 10/50\n",
            "8/8 [==============================] - 3s 436ms/step - loss: 0.0723 - accuracy: 0.9711 - val_loss: 0.1276 - val_accuracy: 0.9487\n",
            "Epoch 11/50\n",
            "8/8 [==============================] - 3s 433ms/step - loss: 0.1009 - accuracy: 0.9602 - val_loss: 0.0865 - val_accuracy: 0.9670\n",
            "Epoch 12/50\n",
            "8/8 [==============================] - 3s 432ms/step - loss: 0.0860 - accuracy: 0.9672 - val_loss: 0.0836 - val_accuracy: 0.9661\n",
            "Epoch 13/50\n",
            "8/8 [==============================] - 3s 427ms/step - loss: 0.0713 - accuracy: 0.9722 - val_loss: 0.0676 - val_accuracy: 0.9765\n",
            "Epoch 14/50\n",
            "8/8 [==============================] - 3s 426ms/step - loss: 0.0708 - accuracy: 0.9744 - val_loss: 0.0678 - val_accuracy: 0.9765\n",
            "Epoch 15/50\n",
            "8/8 [==============================] - 3s 423ms/step - loss: 0.0608 - accuracy: 0.9770 - val_loss: 0.0638 - val_accuracy: 0.9791\n",
            "Epoch 16/50\n",
            "8/8 [==============================] - 3s 421ms/step - loss: 0.0575 - accuracy: 0.9802 - val_loss: 0.0595 - val_accuracy: 0.9783\n",
            "Epoch 17/50\n",
            "8/8 [==============================] - 3s 420ms/step - loss: 0.0465 - accuracy: 0.9838 - val_loss: 0.0635 - val_accuracy: 0.9765\n",
            "Epoch 18/50\n",
            "8/8 [==============================] - 3s 418ms/step - loss: 0.0496 - accuracy: 0.9826 - val_loss: 0.0488 - val_accuracy: 0.9826\n",
            "Epoch 19/50\n",
            "8/8 [==============================] - 3s 417ms/step - loss: 0.0466 - accuracy: 0.9831 - val_loss: 0.0666 - val_accuracy: 0.9791\n",
            "Epoch 20/50\n",
            "8/8 [==============================] - 3s 417ms/step - loss: 0.0514 - accuracy: 0.9836 - val_loss: 0.0482 - val_accuracy: 0.9826\n",
            "Epoch 21/50\n",
            "8/8 [==============================] - 3s 417ms/step - loss: 0.0410 - accuracy: 0.9866 - val_loss: 0.0542 - val_accuracy: 0.9826\n",
            "Epoch 22/50\n",
            "8/8 [==============================] - 3s 416ms/step - loss: 0.0466 - accuracy: 0.9824 - val_loss: 0.0613 - val_accuracy: 0.9783\n",
            "Epoch 23/50\n",
            "8/8 [==============================] - 3s 415ms/step - loss: 0.0599 - accuracy: 0.9763 - val_loss: 0.0570 - val_accuracy: 0.9791\n",
            "Epoch 24/50\n",
            "8/8 [==============================] - 3s 417ms/step - loss: 0.0510 - accuracy: 0.9821 - val_loss: 0.0512 - val_accuracy: 0.9817\n",
            "Epoch 25/50\n",
            "8/8 [==============================] - 3s 417ms/step - loss: 0.0401 - accuracy: 0.9875 - val_loss: 0.0472 - val_accuracy: 0.9852\n",
            "Epoch 26/50\n",
            "8/8 [==============================] - 3s 417ms/step - loss: 0.0374 - accuracy: 0.9871 - val_loss: 0.0480 - val_accuracy: 0.9835\n",
            "Epoch 27/50\n",
            "8/8 [==============================] - 3s 417ms/step - loss: 0.0399 - accuracy: 0.9855 - val_loss: 0.0727 - val_accuracy: 0.9757\n",
            "Epoch 28/50\n",
            "8/8 [==============================] - 3s 418ms/step - loss: 0.0450 - accuracy: 0.9853 - val_loss: 0.0542 - val_accuracy: 0.9800\n",
            "Epoch 29/50\n",
            "8/8 [==============================] - 3s 419ms/step - loss: 0.0368 - accuracy: 0.9869 - val_loss: 0.0441 - val_accuracy: 0.9843\n",
            "Epoch 30/50\n",
            "8/8 [==============================] - 3s 421ms/step - loss: 0.0342 - accuracy: 0.9880 - val_loss: 0.0514 - val_accuracy: 0.9826\n",
            "Epoch 31/50\n",
            "8/8 [==============================] - 3s 422ms/step - loss: 0.0372 - accuracy: 0.9870 - val_loss: 0.0418 - val_accuracy: 0.9852\n",
            "Epoch 32/50\n",
            "8/8 [==============================] - 3s 423ms/step - loss: 0.0315 - accuracy: 0.9884 - val_loss: 0.0473 - val_accuracy: 0.9826\n",
            "Epoch 33/50\n",
            "8/8 [==============================] - 3s 425ms/step - loss: 0.0336 - accuracy: 0.9889 - val_loss: 0.0438 - val_accuracy: 0.9870\n",
            "Epoch 34/50\n",
            "8/8 [==============================] - 3s 424ms/step - loss: 0.0291 - accuracy: 0.9901 - val_loss: 0.0446 - val_accuracy: 0.9861\n",
            "Epoch 35/50\n",
            "8/8 [==============================] - 3s 424ms/step - loss: 0.0333 - accuracy: 0.9880 - val_loss: 0.0493 - val_accuracy: 0.9826\n",
            "Epoch 36/50\n",
            "8/8 [==============================] - 3s 425ms/step - loss: 0.0303 - accuracy: 0.9888 - val_loss: 0.0424 - val_accuracy: 0.9852\n",
            "Epoch 37/50\n",
            "8/8 [==============================] - 3s 427ms/step - loss: 0.0243 - accuracy: 0.9912 - val_loss: 0.0395 - val_accuracy: 0.9861\n",
            "Epoch 38/50\n",
            "8/8 [==============================] - 3s 424ms/step - loss: 0.0263 - accuracy: 0.9918 - val_loss: 0.0452 - val_accuracy: 0.9852\n",
            "Epoch 39/50\n",
            "8/8 [==============================] - 3s 423ms/step - loss: 0.0245 - accuracy: 0.9910 - val_loss: 0.0439 - val_accuracy: 0.9852\n",
            "Epoch 40/50\n",
            "8/8 [==============================] - 3s 423ms/step - loss: 0.0249 - accuracy: 0.9913 - val_loss: 0.0610 - val_accuracy: 0.9765\n",
            "Epoch 41/50\n",
            "8/8 [==============================] - 3s 422ms/step - loss: 0.0328 - accuracy: 0.9880 - val_loss: 0.0505 - val_accuracy: 0.9835\n",
            "Epoch 42/50\n",
            "8/8 [==============================] - 3s 422ms/step - loss: 0.0389 - accuracy: 0.9875 - val_loss: 0.0473 - val_accuracy: 0.9826\n",
            "Epoch 43/50\n",
            "8/8 [==============================] - 3s 421ms/step - loss: 0.0257 - accuracy: 0.9904 - val_loss: 0.0709 - val_accuracy: 0.9774\n",
            "Epoch 44/50\n",
            "8/8 [==============================] - 3s 424ms/step - loss: 0.0366 - accuracy: 0.9872 - val_loss: 0.0491 - val_accuracy: 0.9835\n",
            "Epoch 45/50\n",
            "8/8 [==============================] - 3s 420ms/step - loss: 0.0299 - accuracy: 0.9893 - val_loss: 0.0511 - val_accuracy: 0.9800\n",
            "Epoch 46/50\n",
            "8/8 [==============================] - 3s 420ms/step - loss: 0.0258 - accuracy: 0.9910 - val_loss: 0.0367 - val_accuracy: 0.9870\n",
            "Epoch 47/50\n",
            "8/8 [==============================] - 3s 419ms/step - loss: 0.0194 - accuracy: 0.9935 - val_loss: 0.0433 - val_accuracy: 0.9870\n",
            "Epoch 48/50\n",
            "8/8 [==============================] - 3s 419ms/step - loss: 0.0231 - accuracy: 0.9927 - val_loss: 0.0445 - val_accuracy: 0.9852\n",
            "Epoch 49/50\n",
            "8/8 [==============================] - 3s 418ms/step - loss: 0.0213 - accuracy: 0.9915 - val_loss: 0.0418 - val_accuracy: 0.9896\n",
            "Epoch 50/50\n",
            "8/8 [==============================] - 3s 419ms/step - loss: 0.0211 - accuracy: 0.9926 - val_loss: 0.0364 - val_accuracy: 0.9852\n"
          ],
          "name": "stdout"
        }
      ]
    },
    {
      "cell_type": "code",
      "metadata": {
        "colab": {
          "base_uri": "https://localhost:8080/"
        },
        "id": "NgyVZUT9VO9Y",
        "outputId": "aaf091cd-f425-4992-e896-43a313a63659"
      },
      "source": [
        "score = model_LSTM128.evaluate(Xtrain,Ytrain_one_hot,verbose=0)\n",
        "print('test loss = ',score[0])\n",
        "print('accuracy = ',score[1])"
      ],
      "execution_count": null,
      "outputs": [
        {
          "output_type": "stream",
          "text": [
            "test loss =  0.02192360907793045\n",
            "accuracy =  0.9916908144950867\n"
          ],
          "name": "stdout"
        }
      ]
    },
    {
      "cell_type": "code",
      "metadata": {
        "colab": {
          "base_uri": "https://localhost:8080/"
        },
        "id": "_BE7In2yVWbx",
        "outputId": "1cb6b099-4f0e-454e-d858-3d49b502a281"
      },
      "source": [
        "score = model_LSTM128.evaluate(Xtest,Ytest_one_hot,verbose=0)\n",
        "print('test loss = ',score[0])\n",
        "print('accuracy = ',score[1])"
      ],
      "execution_count": null,
      "outputs": [
        {
          "output_type": "stream",
          "text": [
            "test loss =  0.03636758774518967\n",
            "accuracy =  0.9852173924446106\n"
          ],
          "name": "stdout"
        }
      ]
    }
  ]
}